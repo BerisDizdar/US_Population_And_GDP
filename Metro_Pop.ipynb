{
 "cells": [
  {
   "cell_type": "code",
   "execution_count": 869,
   "metadata": {},
   "outputs": [],
   "source": [
    "# Import packages.\n",
    "import pandas as pd \n",
    "import numpy as np \n",
    "import plotly.express as px  "
   ]
  },
  {
   "cell_type": "code",
   "execution_count": 870,
   "metadata": {},
   "outputs": [],
   "source": [
    "# Create DataFrame and use the 'usecols' function to select columns to be used.\n",
    "Metro_Pop_2020_DF1 = pd.read_csv('Project_2_Data/US_Pop_2020_CSV.csv', usecols= ['CBSA', 'NAME', 'LSAD', 'DATE', 'POPESTIMATE', 'POPEST_MALE', 'POPEST_FEMALE', 'MEDIAN_AGE_TOTAL', 'MEDIAN_AGE_MALE', 'MEDIAN_AGE_FEMALE'])   "
   ]
  },
  {
   "cell_type": "code",
   "execution_count": 871,
   "metadata": {},
   "outputs": [
    {
     "data": {
      "text/html": [
       "<div>\n",
       "<style scoped>\n",
       "    .dataframe tbody tr th:only-of-type {\n",
       "        vertical-align: middle;\n",
       "    }\n",
       "\n",
       "    .dataframe tbody tr th {\n",
       "        vertical-align: top;\n",
       "    }\n",
       "\n",
       "    .dataframe thead th {\n",
       "        text-align: right;\n",
       "    }\n",
       "</style>\n",
       "<table border=\"1\" class=\"dataframe\">\n",
       "  <thead>\n",
       "    <tr style=\"text-align: right;\">\n",
       "      <th></th>\n",
       "      <th>CBSA</th>\n",
       "      <th>NAME</th>\n",
       "      <th>LSAD</th>\n",
       "      <th>DATE</th>\n",
       "      <th>POPESTIMATE</th>\n",
       "      <th>POPEST_MALE</th>\n",
       "      <th>POPEST_FEMALE</th>\n",
       "      <th>MEDIAN_AGE_TOTAL</th>\n",
       "      <th>MEDIAN_AGE_MALE</th>\n",
       "      <th>MEDIAN_AGE_FEMALE</th>\n",
       "    </tr>\n",
       "  </thead>\n",
       "  <tbody>\n",
       "    <tr>\n",
       "      <th>0</th>\n",
       "      <td>10180</td>\n",
       "      <td>Abilene, TX</td>\n",
       "      <td>Metropolitan Statistical Area</td>\n",
       "      <td>1</td>\n",
       "      <td>176579</td>\n",
       "      <td>89269</td>\n",
       "      <td>87310</td>\n",
       "      <td>34.1</td>\n",
       "      <td>33.2</td>\n",
       "      <td>35.2</td>\n",
       "    </tr>\n",
       "    <tr>\n",
       "      <th>1</th>\n",
       "      <td>10180</td>\n",
       "      <td>Abilene, TX</td>\n",
       "      <td>Metropolitan Statistical Area</td>\n",
       "      <td>2</td>\n",
       "      <td>176809</td>\n",
       "      <td>89408</td>\n",
       "      <td>87401</td>\n",
       "      <td>34.2</td>\n",
       "      <td>33.2</td>\n",
       "      <td>35.2</td>\n",
       "    </tr>\n",
       "    <tr>\n",
       "      <th>2</th>\n",
       "      <td>10180</td>\n",
       "      <td>Abilene, TX</td>\n",
       "      <td>Metropolitan Statistical Area</td>\n",
       "      <td>3</td>\n",
       "      <td>177314</td>\n",
       "      <td>89671</td>\n",
       "      <td>87643</td>\n",
       "      <td>34.3</td>\n",
       "      <td>33.5</td>\n",
       "      <td>35.3</td>\n",
       "    </tr>\n",
       "    <tr>\n",
       "      <th>3</th>\n",
       "      <td>10420</td>\n",
       "      <td>Akron, OH</td>\n",
       "      <td>Metropolitan Statistical Area</td>\n",
       "      <td>1</td>\n",
       "      <td>702219</td>\n",
       "      <td>343286</td>\n",
       "      <td>358933</td>\n",
       "      <td>40.6</td>\n",
       "      <td>39.5</td>\n",
       "      <td>41.7</td>\n",
       "    </tr>\n",
       "    <tr>\n",
       "      <th>4</th>\n",
       "      <td>10420</td>\n",
       "      <td>Akron, OH</td>\n",
       "      <td>Metropolitan Statistical Area</td>\n",
       "      <td>2</td>\n",
       "      <td>701305</td>\n",
       "      <td>342719</td>\n",
       "      <td>358586</td>\n",
       "      <td>40.6</td>\n",
       "      <td>39.6</td>\n",
       "      <td>41.7</td>\n",
       "    </tr>\n",
       "    <tr>\n",
       "      <th>5</th>\n",
       "      <td>10420</td>\n",
       "      <td>Akron, OH</td>\n",
       "      <td>Metropolitan Statistical Area</td>\n",
       "      <td>3</td>\n",
       "      <td>700015</td>\n",
       "      <td>341789</td>\n",
       "      <td>358226</td>\n",
       "      <td>40.7</td>\n",
       "      <td>39.7</td>\n",
       "      <td>41.8</td>\n",
       "    </tr>\n",
       "    <tr>\n",
       "      <th>6</th>\n",
       "      <td>10500</td>\n",
       "      <td>Albany, GA</td>\n",
       "      <td>Metropolitan Statistical Area</td>\n",
       "      <td>1</td>\n",
       "      <td>148922</td>\n",
       "      <td>70804</td>\n",
       "      <td>78118</td>\n",
       "      <td>37.5</td>\n",
       "      <td>35.9</td>\n",
       "      <td>38.9</td>\n",
       "    </tr>\n",
       "  </tbody>\n",
       "</table>\n",
       "</div>"
      ],
      "text/plain": [
       "    CBSA         NAME                           LSAD  DATE  POPESTIMATE  \\\n",
       "0  10180  Abilene, TX  Metropolitan Statistical Area     1       176579   \n",
       "1  10180  Abilene, TX  Metropolitan Statistical Area     2       176809   \n",
       "2  10180  Abilene, TX  Metropolitan Statistical Area     3       177314   \n",
       "3  10420    Akron, OH  Metropolitan Statistical Area     1       702219   \n",
       "4  10420    Akron, OH  Metropolitan Statistical Area     2       701305   \n",
       "5  10420    Akron, OH  Metropolitan Statistical Area     3       700015   \n",
       "6  10500   Albany, GA  Metropolitan Statistical Area     1       148922   \n",
       "\n",
       "   POPEST_MALE  POPEST_FEMALE  MEDIAN_AGE_TOTAL  MEDIAN_AGE_MALE  \\\n",
       "0        89269          87310              34.1             33.2   \n",
       "1        89408          87401              34.2             33.2   \n",
       "2        89671          87643              34.3             33.5   \n",
       "3       343286         358933              40.6             39.5   \n",
       "4       342719         358586              40.6             39.6   \n",
       "5       341789         358226              40.7             39.7   \n",
       "6        70804          78118              37.5             35.9   \n",
       "\n",
       "   MEDIAN_AGE_FEMALE  \n",
       "0               35.2  \n",
       "1               35.2  \n",
       "2               35.3  \n",
       "3               41.7  \n",
       "4               41.7  \n",
       "5               41.8  \n",
       "6               38.9  "
      ]
     },
     "execution_count": 871,
     "metadata": {},
     "output_type": "execute_result"
    }
   ],
   "source": [
    "Metro_Pop_2020_DF1.head(7) "
   ]
  },
  {
   "cell_type": "code",
   "execution_count": 872,
   "metadata": {},
   "outputs": [
    {
     "name": "stdout",
     "output_type": "stream",
     "text": [
      "(2781, 10)\n",
      "CBSA                   int64\n",
      "NAME                  object\n",
      "LSAD                  object\n",
      "DATE                   int64\n",
      "POPESTIMATE            int64\n",
      "POPEST_MALE            int64\n",
      "POPEST_FEMALE          int64\n",
      "MEDIAN_AGE_TOTAL     float64\n",
      "MEDIAN_AGE_MALE      float64\n",
      "MEDIAN_AGE_FEMALE    float64\n",
      "dtype: object\n"
     ]
    }
   ],
   "source": [
    "Shape_Of_Master_MetPop_2020 = Metro_Pop_2020_DF1.shape\n",
    "print(Shape_Of_Master_MetPop_2020)\n",
    "Data_Types_Of_Master_MetPop_2020 = Metro_Pop_2020_DF1.dtypes\n",
    "print(Data_Types_Of_Master_MetPop_2020)"
   ]
  },
  {
   "cell_type": "code",
   "execution_count": 873,
   "metadata": {},
   "outputs": [],
   "source": [
    "# Use the 'rename' function to modify column names. \n",
    "Metro_Pop_2020_DF1.rename(columns={'NAME': 'City_Metro', 'POPESTIMATE': 'Estimated_Population', 'POPESTIMATE': 'Population', 'DATE': 'Date', 'POPEST_MALE': 'Male_Population', 'POPEST_FEMALE': 'Female_Population', 'MEDIAN_AGE_TOTAL': 'Median_Age_Total', 'MEDIAN_AGE_MALE': 'Median_Age_Male', 'MEDIAN_AGE_FEMALE': 'Median_Age_Female'}, inplace= True) "
   ]
  },
  {
   "cell_type": "code",
   "execution_count": 874,
   "metadata": {},
   "outputs": [
    {
     "data": {
      "text/html": [
       "<div>\n",
       "<style scoped>\n",
       "    .dataframe tbody tr th:only-of-type {\n",
       "        vertical-align: middle;\n",
       "    }\n",
       "\n",
       "    .dataframe tbody tr th {\n",
       "        vertical-align: top;\n",
       "    }\n",
       "\n",
       "    .dataframe thead th {\n",
       "        text-align: right;\n",
       "    }\n",
       "</style>\n",
       "<table border=\"1\" class=\"dataframe\">\n",
       "  <thead>\n",
       "    <tr style=\"text-align: right;\">\n",
       "      <th></th>\n",
       "      <th>CBSA</th>\n",
       "      <th>City_Metro</th>\n",
       "      <th>LSAD</th>\n",
       "      <th>Date</th>\n",
       "      <th>Population</th>\n",
       "      <th>Male_Population</th>\n",
       "      <th>Female_Population</th>\n",
       "      <th>Median_Age_Total</th>\n",
       "      <th>Median_Age_Male</th>\n",
       "      <th>Median_Age_Female</th>\n",
       "    </tr>\n",
       "  </thead>\n",
       "  <tbody>\n",
       "    <tr>\n",
       "      <th>0</th>\n",
       "      <td>10180</td>\n",
       "      <td>Abilene, TX</td>\n",
       "      <td>Metropolitan Statistical Area</td>\n",
       "      <td>1</td>\n",
       "      <td>176579</td>\n",
       "      <td>89269</td>\n",
       "      <td>87310</td>\n",
       "      <td>34.1</td>\n",
       "      <td>33.2</td>\n",
       "      <td>35.2</td>\n",
       "    </tr>\n",
       "    <tr>\n",
       "      <th>1</th>\n",
       "      <td>10180</td>\n",
       "      <td>Abilene, TX</td>\n",
       "      <td>Metropolitan Statistical Area</td>\n",
       "      <td>2</td>\n",
       "      <td>176809</td>\n",
       "      <td>89408</td>\n",
       "      <td>87401</td>\n",
       "      <td>34.2</td>\n",
       "      <td>33.2</td>\n",
       "      <td>35.2</td>\n",
       "    </tr>\n",
       "    <tr>\n",
       "      <th>2</th>\n",
       "      <td>10180</td>\n",
       "      <td>Abilene, TX</td>\n",
       "      <td>Metropolitan Statistical Area</td>\n",
       "      <td>3</td>\n",
       "      <td>177314</td>\n",
       "      <td>89671</td>\n",
       "      <td>87643</td>\n",
       "      <td>34.3</td>\n",
       "      <td>33.5</td>\n",
       "      <td>35.3</td>\n",
       "    </tr>\n",
       "    <tr>\n",
       "      <th>3</th>\n",
       "      <td>10420</td>\n",
       "      <td>Akron, OH</td>\n",
       "      <td>Metropolitan Statistical Area</td>\n",
       "      <td>1</td>\n",
       "      <td>702219</td>\n",
       "      <td>343286</td>\n",
       "      <td>358933</td>\n",
       "      <td>40.6</td>\n",
       "      <td>39.5</td>\n",
       "      <td>41.7</td>\n",
       "    </tr>\n",
       "    <tr>\n",
       "      <th>4</th>\n",
       "      <td>10420</td>\n",
       "      <td>Akron, OH</td>\n",
       "      <td>Metropolitan Statistical Area</td>\n",
       "      <td>2</td>\n",
       "      <td>701305</td>\n",
       "      <td>342719</td>\n",
       "      <td>358586</td>\n",
       "      <td>40.6</td>\n",
       "      <td>39.6</td>\n",
       "      <td>41.7</td>\n",
       "    </tr>\n",
       "  </tbody>\n",
       "</table>\n",
       "</div>"
      ],
      "text/plain": [
       "    CBSA   City_Metro                           LSAD  Date  Population  \\\n",
       "0  10180  Abilene, TX  Metropolitan Statistical Area     1      176579   \n",
       "1  10180  Abilene, TX  Metropolitan Statistical Area     2      176809   \n",
       "2  10180  Abilene, TX  Metropolitan Statistical Area     3      177314   \n",
       "3  10420    Akron, OH  Metropolitan Statistical Area     1      702219   \n",
       "4  10420    Akron, OH  Metropolitan Statistical Area     2      701305   \n",
       "\n",
       "   Male_Population  Female_Population  Median_Age_Total  Median_Age_Male  \\\n",
       "0            89269              87310              34.1             33.2   \n",
       "1            89408              87401              34.2             33.2   \n",
       "2            89671              87643              34.3             33.5   \n",
       "3           343286             358933              40.6             39.5   \n",
       "4           342719             358586              40.6             39.6   \n",
       "\n",
       "   Median_Age_Female  \n",
       "0               35.2  \n",
       "1               35.2  \n",
       "2               35.3  \n",
       "3               41.7  \n",
       "4               41.7  "
      ]
     },
     "execution_count": 874,
     "metadata": {},
     "output_type": "execute_result"
    }
   ],
   "source": [
    "Metro_Pop_2020_DF1.head() "
   ]
  },
  {
   "cell_type": "code",
   "execution_count": 875,
   "metadata": {},
   "outputs": [],
   "source": [
    "# Create new DataFrame and select specific portions of 'City/Metro' column using iloc. \n",
    "DF1_MetPop2020 = Metro_Pop_2020_DF1.iloc[[51, 126, 147, 204, 210, 258, 285, 291, 477, 489, 540, 591, 630, 633, 669, 675, 687, 690, 735, 744, 747, 780, 807, 810, 828, 927, 930, 933, 960, 1095]] "
   ]
  },
  {
   "cell_type": "code",
   "execution_count": 876,
   "metadata": {},
   "outputs": [
    {
     "name": "stdout",
     "output_type": "stream",
     "text": [
      "(30, 10)\n",
      "CBSA                   int64\n",
      "City_Metro            object\n",
      "LSAD                  object\n",
      "Date                   int64\n",
      "Population             int64\n",
      "Male_Population        int64\n",
      "Female_Population      int64\n",
      "Median_Age_Total     float64\n",
      "Median_Age_Male      float64\n",
      "Median_Age_Female    float64\n",
      "dtype: object\n"
     ]
    }
   ],
   "source": [
    "# Visualizing and understanding data.\n",
    "Shape_of_MetPop2020 = DF1_MetPop2020.shape\n",
    "print(Shape_of_MetPop2020)\n",
    "Data_Types_of_MetPop2020 = DF1_MetPop2020.dtypes\n",
    "print(Data_Types_of_MetPop2020) "
   ]
  },
  {
   "cell_type": "code",
   "execution_count": 877,
   "metadata": {},
   "outputs": [
    {
     "data": {
      "text/html": [
       "<div>\n",
       "<style scoped>\n",
       "    .dataframe tbody tr th:only-of-type {\n",
       "        vertical-align: middle;\n",
       "    }\n",
       "\n",
       "    .dataframe tbody tr th {\n",
       "        vertical-align: top;\n",
       "    }\n",
       "\n",
       "    .dataframe thead th {\n",
       "        text-align: right;\n",
       "    }\n",
       "</style>\n",
       "<table border=\"1\" class=\"dataframe\">\n",
       "  <thead>\n",
       "    <tr style=\"text-align: right;\">\n",
       "      <th></th>\n",
       "      <th>CBSA</th>\n",
       "      <th>City_Metro</th>\n",
       "      <th>LSAD</th>\n",
       "      <th>Date</th>\n",
       "      <th>Population</th>\n",
       "      <th>Male_Population</th>\n",
       "      <th>Female_Population</th>\n",
       "      <th>Median_Age_Total</th>\n",
       "      <th>Median_Age_Male</th>\n",
       "      <th>Median_Age_Female</th>\n",
       "    </tr>\n",
       "  </thead>\n",
       "  <tbody>\n",
       "    <tr>\n",
       "      <th>51</th>\n",
       "      <td>12060</td>\n",
       "      <td>Atlanta-Sandy Springs-Alpharetta, GA</td>\n",
       "      <td>Metropolitan Statistical Area</td>\n",
       "      <td>1</td>\n",
       "      <td>6089815</td>\n",
       "      <td>2957470</td>\n",
       "      <td>3132345</td>\n",
       "      <td>36.9</td>\n",
       "      <td>35.9</td>\n",
       "      <td>37.9</td>\n",
       "    </tr>\n",
       "    <tr>\n",
       "      <th>126</th>\n",
       "      <td>14460</td>\n",
       "      <td>Boston-Cambridge-Newton, MA-NH</td>\n",
       "      <td>Metropolitan Statistical Area</td>\n",
       "      <td>1</td>\n",
       "      <td>4941632</td>\n",
       "      <td>2418046</td>\n",
       "      <td>2523586</td>\n",
       "      <td>38.8</td>\n",
       "      <td>37.8</td>\n",
       "      <td>39.9</td>\n",
       "    </tr>\n",
       "    <tr>\n",
       "      <th>147</th>\n",
       "      <td>15380</td>\n",
       "      <td>Buffalo-Cheektowaga, NY</td>\n",
       "      <td>Metropolitan Statistical Area</td>\n",
       "      <td>1</td>\n",
       "      <td>1166902</td>\n",
       "      <td>569707</td>\n",
       "      <td>597195</td>\n",
       "      <td>40.8</td>\n",
       "      <td>39.4</td>\n",
       "      <td>42.3</td>\n",
       "    </tr>\n",
       "    <tr>\n",
       "      <th>204</th>\n",
       "      <td>16980</td>\n",
       "      <td>Chicago-Naperville-Elgin, IL-IN-WI</td>\n",
       "      <td>Metropolitan Statistical Area</td>\n",
       "      <td>1</td>\n",
       "      <td>9618502</td>\n",
       "      <td>4739937</td>\n",
       "      <td>4878565</td>\n",
       "      <td>38.1</td>\n",
       "      <td>37.1</td>\n",
       "      <td>39.1</td>\n",
       "    </tr>\n",
       "    <tr>\n",
       "      <th>210</th>\n",
       "      <td>17140</td>\n",
       "      <td>Cincinnati, OH-KY-IN</td>\n",
       "      <td>Metropolitan Statistical Area</td>\n",
       "      <td>1</td>\n",
       "      <td>2256884</td>\n",
       "      <td>1114630</td>\n",
       "      <td>1142254</td>\n",
       "      <td>38.1</td>\n",
       "      <td>37.1</td>\n",
       "      <td>39.1</td>\n",
       "    </tr>\n",
       "  </tbody>\n",
       "</table>\n",
       "</div>"
      ],
      "text/plain": [
       "      CBSA                            City_Metro  \\\n",
       "51   12060  Atlanta-Sandy Springs-Alpharetta, GA   \n",
       "126  14460        Boston-Cambridge-Newton, MA-NH   \n",
       "147  15380               Buffalo-Cheektowaga, NY   \n",
       "204  16980    Chicago-Naperville-Elgin, IL-IN-WI   \n",
       "210  17140                  Cincinnati, OH-KY-IN   \n",
       "\n",
       "                              LSAD  Date  Population  Male_Population  \\\n",
       "51   Metropolitan Statistical Area     1     6089815          2957470   \n",
       "126  Metropolitan Statistical Area     1     4941632          2418046   \n",
       "147  Metropolitan Statistical Area     1     1166902           569707   \n",
       "204  Metropolitan Statistical Area     1     9618502          4739937   \n",
       "210  Metropolitan Statistical Area     1     2256884          1114630   \n",
       "\n",
       "     Female_Population  Median_Age_Total  Median_Age_Male  Median_Age_Female  \n",
       "51             3132345              36.9             35.9               37.9  \n",
       "126            2523586              38.8             37.8               39.9  \n",
       "147             597195              40.8             39.4               42.3  \n",
       "204            4878565              38.1             37.1               39.1  \n",
       "210            1142254              38.1             37.1               39.1  "
      ]
     },
     "execution_count": 877,
     "metadata": {},
     "output_type": "execute_result"
    }
   ],
   "source": [
    "DF1_MetPop2020.head()"
   ]
  },
  {
   "cell_type": "code",
   "execution_count": 878,
   "metadata": {},
   "outputs": [
    {
     "data": {
      "application/vnd.plotly.v1+json": {
       "config": {
        "plotlyServerURL": "https://plot.ly"
       },
       "data": [
        {
         "alignmentgroup": "True",
         "bingroup": "x",
         "histfunc": "sum",
         "hovertemplate": "City_Metro=%{x}<br>sum of Population=%{y}<extra></extra>",
         "legendgroup": "",
         "marker": {
          "color": "#636efa",
          "pattern": {
           "shape": ""
          }
         },
         "name": "",
         "nbinsx": 7,
         "offsetgroup": "",
         "orientation": "v",
         "showlegend": false,
         "type": "histogram",
         "x": [
          "Atlanta-Sandy Springs-Alpharetta, GA",
          "Boston-Cambridge-Newton, MA-NH",
          "Buffalo-Cheektowaga, NY",
          "Chicago-Naperville-Elgin, IL-IN-WI",
          "Cincinnati, OH-KY-IN",
          "Dallas-Fort Worth-Arlington, TX",
          "Denver-Aurora-Lakewood, CO",
          "Detroit-Warren-Dearborn, MI",
          "Houston-The Woodlands-Sugar Land, TX",
          "Indianapolis-Carmel-Anderson, IN",
          "Kansas City, MO-KS",
          "Las Vegas-Henderson-Paradise, NV",
          "Los Angeles-Long Beach-Anaheim, CA",
          "Louisville/Jefferson County, KY-IN",
          "Memphis, TN-MS-AR",
          "Miami-Fort Lauderdale-Pompano Beach, FL",
          "Milwaukee-Waukesha, WI",
          "Minneapolis-St. Paul-Bloomington, MN-WI",
          "Nashville-Davidson--Murfreesboro--Franklin, TN",
          "New Orleans-Metairie, LA",
          "New York-Newark-Jersey City, NY-NJ-PA",
          "Orlando-Kissimmee-Sanford, FL",
          "Philadelphia-Camden-Wilmington, PA-NJ-DE-MD",
          "Phoenix-Mesa-Chandler, AZ",
          "Portland-Vancouver-Hillsboro, OR-WA",
          "San Antonio-New Braunfels, TX",
          "San Diego-Chula Vista-Carlsbad, CA",
          "San Francisco-Oakland-Berkeley, CA",
          "Seattle-Tacoma-Bellevue, WA",
          "Washington-Arlington-Alexandria, DC-VA-MD-WV"
         ],
         "xaxis": "x",
         "y": [
          6089815,
          4941632,
          1166902,
          9618502,
          2256884,
          7637387,
          2963821,
          4392041,
          7122240,
          2111040,
          2192035,
          2265461,
          13200998,
          1285439,
          1337779,
          6138333,
          1574731,
          3690261,
          1989519,
          1271845,
          20140470,
          2673376,
          6245051,
          4845832,
          2512859,
          2558143,
          3298634,
          4749008,
          4018762,
          6385162
         ],
         "yaxis": "y"
        }
       ],
       "layout": {
        "barmode": "relative",
        "legend": {
         "tracegroupgap": 0
        },
        "template": {
         "data": {
          "bar": [
           {
            "error_x": {
             "color": "#2a3f5f"
            },
            "error_y": {
             "color": "#2a3f5f"
            },
            "marker": {
             "line": {
              "color": "#E5ECF6",
              "width": 0.5
             },
             "pattern": {
              "fillmode": "overlay",
              "size": 10,
              "solidity": 0.2
             }
            },
            "type": "bar"
           }
          ],
          "barpolar": [
           {
            "marker": {
             "line": {
              "color": "#E5ECF6",
              "width": 0.5
             },
             "pattern": {
              "fillmode": "overlay",
              "size": 10,
              "solidity": 0.2
             }
            },
            "type": "barpolar"
           }
          ],
          "carpet": [
           {
            "aaxis": {
             "endlinecolor": "#2a3f5f",
             "gridcolor": "white",
             "linecolor": "white",
             "minorgridcolor": "white",
             "startlinecolor": "#2a3f5f"
            },
            "baxis": {
             "endlinecolor": "#2a3f5f",
             "gridcolor": "white",
             "linecolor": "white",
             "minorgridcolor": "white",
             "startlinecolor": "#2a3f5f"
            },
            "type": "carpet"
           }
          ],
          "choropleth": [
           {
            "colorbar": {
             "outlinewidth": 0,
             "ticks": ""
            },
            "type": "choropleth"
           }
          ],
          "contour": [
           {
            "colorbar": {
             "outlinewidth": 0,
             "ticks": ""
            },
            "colorscale": [
             [
              0,
              "#0d0887"
             ],
             [
              0.1111111111111111,
              "#46039f"
             ],
             [
              0.2222222222222222,
              "#7201a8"
             ],
             [
              0.3333333333333333,
              "#9c179e"
             ],
             [
              0.4444444444444444,
              "#bd3786"
             ],
             [
              0.5555555555555556,
              "#d8576b"
             ],
             [
              0.6666666666666666,
              "#ed7953"
             ],
             [
              0.7777777777777778,
              "#fb9f3a"
             ],
             [
              0.8888888888888888,
              "#fdca26"
             ],
             [
              1,
              "#f0f921"
             ]
            ],
            "type": "contour"
           }
          ],
          "contourcarpet": [
           {
            "colorbar": {
             "outlinewidth": 0,
             "ticks": ""
            },
            "type": "contourcarpet"
           }
          ],
          "heatmap": [
           {
            "colorbar": {
             "outlinewidth": 0,
             "ticks": ""
            },
            "colorscale": [
             [
              0,
              "#0d0887"
             ],
             [
              0.1111111111111111,
              "#46039f"
             ],
             [
              0.2222222222222222,
              "#7201a8"
             ],
             [
              0.3333333333333333,
              "#9c179e"
             ],
             [
              0.4444444444444444,
              "#bd3786"
             ],
             [
              0.5555555555555556,
              "#d8576b"
             ],
             [
              0.6666666666666666,
              "#ed7953"
             ],
             [
              0.7777777777777778,
              "#fb9f3a"
             ],
             [
              0.8888888888888888,
              "#fdca26"
             ],
             [
              1,
              "#f0f921"
             ]
            ],
            "type": "heatmap"
           }
          ],
          "heatmapgl": [
           {
            "colorbar": {
             "outlinewidth": 0,
             "ticks": ""
            },
            "colorscale": [
             [
              0,
              "#0d0887"
             ],
             [
              0.1111111111111111,
              "#46039f"
             ],
             [
              0.2222222222222222,
              "#7201a8"
             ],
             [
              0.3333333333333333,
              "#9c179e"
             ],
             [
              0.4444444444444444,
              "#bd3786"
             ],
             [
              0.5555555555555556,
              "#d8576b"
             ],
             [
              0.6666666666666666,
              "#ed7953"
             ],
             [
              0.7777777777777778,
              "#fb9f3a"
             ],
             [
              0.8888888888888888,
              "#fdca26"
             ],
             [
              1,
              "#f0f921"
             ]
            ],
            "type": "heatmapgl"
           }
          ],
          "histogram": [
           {
            "marker": {
             "pattern": {
              "fillmode": "overlay",
              "size": 10,
              "solidity": 0.2
             }
            },
            "type": "histogram"
           }
          ],
          "histogram2d": [
           {
            "colorbar": {
             "outlinewidth": 0,
             "ticks": ""
            },
            "colorscale": [
             [
              0,
              "#0d0887"
             ],
             [
              0.1111111111111111,
              "#46039f"
             ],
             [
              0.2222222222222222,
              "#7201a8"
             ],
             [
              0.3333333333333333,
              "#9c179e"
             ],
             [
              0.4444444444444444,
              "#bd3786"
             ],
             [
              0.5555555555555556,
              "#d8576b"
             ],
             [
              0.6666666666666666,
              "#ed7953"
             ],
             [
              0.7777777777777778,
              "#fb9f3a"
             ],
             [
              0.8888888888888888,
              "#fdca26"
             ],
             [
              1,
              "#f0f921"
             ]
            ],
            "type": "histogram2d"
           }
          ],
          "histogram2dcontour": [
           {
            "colorbar": {
             "outlinewidth": 0,
             "ticks": ""
            },
            "colorscale": [
             [
              0,
              "#0d0887"
             ],
             [
              0.1111111111111111,
              "#46039f"
             ],
             [
              0.2222222222222222,
              "#7201a8"
             ],
             [
              0.3333333333333333,
              "#9c179e"
             ],
             [
              0.4444444444444444,
              "#bd3786"
             ],
             [
              0.5555555555555556,
              "#d8576b"
             ],
             [
              0.6666666666666666,
              "#ed7953"
             ],
             [
              0.7777777777777778,
              "#fb9f3a"
             ],
             [
              0.8888888888888888,
              "#fdca26"
             ],
             [
              1,
              "#f0f921"
             ]
            ],
            "type": "histogram2dcontour"
           }
          ],
          "mesh3d": [
           {
            "colorbar": {
             "outlinewidth": 0,
             "ticks": ""
            },
            "type": "mesh3d"
           }
          ],
          "parcoords": [
           {
            "line": {
             "colorbar": {
              "outlinewidth": 0,
              "ticks": ""
             }
            },
            "type": "parcoords"
           }
          ],
          "pie": [
           {
            "automargin": true,
            "type": "pie"
           }
          ],
          "scatter": [
           {
            "fillpattern": {
             "fillmode": "overlay",
             "size": 10,
             "solidity": 0.2
            },
            "type": "scatter"
           }
          ],
          "scatter3d": [
           {
            "line": {
             "colorbar": {
              "outlinewidth": 0,
              "ticks": ""
             }
            },
            "marker": {
             "colorbar": {
              "outlinewidth": 0,
              "ticks": ""
             }
            },
            "type": "scatter3d"
           }
          ],
          "scattercarpet": [
           {
            "marker": {
             "colorbar": {
              "outlinewidth": 0,
              "ticks": ""
             }
            },
            "type": "scattercarpet"
           }
          ],
          "scattergeo": [
           {
            "marker": {
             "colorbar": {
              "outlinewidth": 0,
              "ticks": ""
             }
            },
            "type": "scattergeo"
           }
          ],
          "scattergl": [
           {
            "marker": {
             "colorbar": {
              "outlinewidth": 0,
              "ticks": ""
             }
            },
            "type": "scattergl"
           }
          ],
          "scattermapbox": [
           {
            "marker": {
             "colorbar": {
              "outlinewidth": 0,
              "ticks": ""
             }
            },
            "type": "scattermapbox"
           }
          ],
          "scatterpolar": [
           {
            "marker": {
             "colorbar": {
              "outlinewidth": 0,
              "ticks": ""
             }
            },
            "type": "scatterpolar"
           }
          ],
          "scatterpolargl": [
           {
            "marker": {
             "colorbar": {
              "outlinewidth": 0,
              "ticks": ""
             }
            },
            "type": "scatterpolargl"
           }
          ],
          "scatterternary": [
           {
            "marker": {
             "colorbar": {
              "outlinewidth": 0,
              "ticks": ""
             }
            },
            "type": "scatterternary"
           }
          ],
          "surface": [
           {
            "colorbar": {
             "outlinewidth": 0,
             "ticks": ""
            },
            "colorscale": [
             [
              0,
              "#0d0887"
             ],
             [
              0.1111111111111111,
              "#46039f"
             ],
             [
              0.2222222222222222,
              "#7201a8"
             ],
             [
              0.3333333333333333,
              "#9c179e"
             ],
             [
              0.4444444444444444,
              "#bd3786"
             ],
             [
              0.5555555555555556,
              "#d8576b"
             ],
             [
              0.6666666666666666,
              "#ed7953"
             ],
             [
              0.7777777777777778,
              "#fb9f3a"
             ],
             [
              0.8888888888888888,
              "#fdca26"
             ],
             [
              1,
              "#f0f921"
             ]
            ],
            "type": "surface"
           }
          ],
          "table": [
           {
            "cells": {
             "fill": {
              "color": "#EBF0F8"
             },
             "line": {
              "color": "white"
             }
            },
            "header": {
             "fill": {
              "color": "#C8D4E3"
             },
             "line": {
              "color": "white"
             }
            },
            "type": "table"
           }
          ]
         },
         "layout": {
          "annotationdefaults": {
           "arrowcolor": "#2a3f5f",
           "arrowhead": 0,
           "arrowwidth": 1
          },
          "autotypenumbers": "strict",
          "coloraxis": {
           "colorbar": {
            "outlinewidth": 0,
            "ticks": ""
           }
          },
          "colorscale": {
           "diverging": [
            [
             0,
             "#8e0152"
            ],
            [
             0.1,
             "#c51b7d"
            ],
            [
             0.2,
             "#de77ae"
            ],
            [
             0.3,
             "#f1b6da"
            ],
            [
             0.4,
             "#fde0ef"
            ],
            [
             0.5,
             "#f7f7f7"
            ],
            [
             0.6,
             "#e6f5d0"
            ],
            [
             0.7,
             "#b8e186"
            ],
            [
             0.8,
             "#7fbc41"
            ],
            [
             0.9,
             "#4d9221"
            ],
            [
             1,
             "#276419"
            ]
           ],
           "sequential": [
            [
             0,
             "#0d0887"
            ],
            [
             0.1111111111111111,
             "#46039f"
            ],
            [
             0.2222222222222222,
             "#7201a8"
            ],
            [
             0.3333333333333333,
             "#9c179e"
            ],
            [
             0.4444444444444444,
             "#bd3786"
            ],
            [
             0.5555555555555556,
             "#d8576b"
            ],
            [
             0.6666666666666666,
             "#ed7953"
            ],
            [
             0.7777777777777778,
             "#fb9f3a"
            ],
            [
             0.8888888888888888,
             "#fdca26"
            ],
            [
             1,
             "#f0f921"
            ]
           ],
           "sequentialminus": [
            [
             0,
             "#0d0887"
            ],
            [
             0.1111111111111111,
             "#46039f"
            ],
            [
             0.2222222222222222,
             "#7201a8"
            ],
            [
             0.3333333333333333,
             "#9c179e"
            ],
            [
             0.4444444444444444,
             "#bd3786"
            ],
            [
             0.5555555555555556,
             "#d8576b"
            ],
            [
             0.6666666666666666,
             "#ed7953"
            ],
            [
             0.7777777777777778,
             "#fb9f3a"
            ],
            [
             0.8888888888888888,
             "#fdca26"
            ],
            [
             1,
             "#f0f921"
            ]
           ]
          },
          "colorway": [
           "#636efa",
           "#EF553B",
           "#00cc96",
           "#ab63fa",
           "#FFA15A",
           "#19d3f3",
           "#FF6692",
           "#B6E880",
           "#FF97FF",
           "#FECB52"
          ],
          "font": {
           "color": "#2a3f5f"
          },
          "geo": {
           "bgcolor": "white",
           "lakecolor": "white",
           "landcolor": "#E5ECF6",
           "showlakes": true,
           "showland": true,
           "subunitcolor": "white"
          },
          "hoverlabel": {
           "align": "left"
          },
          "hovermode": "closest",
          "mapbox": {
           "style": "light"
          },
          "paper_bgcolor": "white",
          "plot_bgcolor": "#E5ECF6",
          "polar": {
           "angularaxis": {
            "gridcolor": "white",
            "linecolor": "white",
            "ticks": ""
           },
           "bgcolor": "#E5ECF6",
           "radialaxis": {
            "gridcolor": "white",
            "linecolor": "white",
            "ticks": ""
           }
          },
          "scene": {
           "xaxis": {
            "backgroundcolor": "#E5ECF6",
            "gridcolor": "white",
            "gridwidth": 2,
            "linecolor": "white",
            "showbackground": true,
            "ticks": "",
            "zerolinecolor": "white"
           },
           "yaxis": {
            "backgroundcolor": "#E5ECF6",
            "gridcolor": "white",
            "gridwidth": 2,
            "linecolor": "white",
            "showbackground": true,
            "ticks": "",
            "zerolinecolor": "white"
           },
           "zaxis": {
            "backgroundcolor": "#E5ECF6",
            "gridcolor": "white",
            "gridwidth": 2,
            "linecolor": "white",
            "showbackground": true,
            "ticks": "",
            "zerolinecolor": "white"
           }
          },
          "shapedefaults": {
           "line": {
            "color": "#2a3f5f"
           }
          },
          "ternary": {
           "aaxis": {
            "gridcolor": "white",
            "linecolor": "white",
            "ticks": ""
           },
           "baxis": {
            "gridcolor": "white",
            "linecolor": "white",
            "ticks": ""
           },
           "bgcolor": "#E5ECF6",
           "caxis": {
            "gridcolor": "white",
            "linecolor": "white",
            "ticks": ""
           }
          },
          "title": {
           "x": 0.05
          },
          "xaxis": {
           "automargin": true,
           "gridcolor": "white",
           "linecolor": "white",
           "ticks": "",
           "title": {
            "standoff": 15
           },
           "zerolinecolor": "white",
           "zerolinewidth": 2
          },
          "yaxis": {
           "automargin": true,
           "gridcolor": "white",
           "linecolor": "white",
           "ticks": "",
           "title": {
            "standoff": 15
           },
           "zerolinecolor": "white",
           "zerolinewidth": 2
          }
         }
        },
        "title": {
         "text": "Metro Population 2020"
        },
        "xaxis": {
         "anchor": "y",
         "domain": [
          0,
          1
         ],
         "title": {
          "text": "City_Metro"
         }
        },
        "yaxis": {
         "anchor": "x",
         "domain": [
          0,
          1
         ],
         "title": {
          "text": "sum of Population"
         }
        }
       }
      }
     },
     "metadata": {},
     "output_type": "display_data"
    }
   ],
   "source": [
    "px.histogram(DF1_MetPop2020, x='City_Metro', y='Population', nbins= 7, title='Metro Population 2020')"
   ]
  },
  {
   "cell_type": "code",
   "execution_count": 879,
   "metadata": {},
   "outputs": [],
   "source": [
    "East_Coast_Metro_2020 = DF1_MetPop2020.iloc[[1, 2, 15, 20, 21, 22, 29]]"
   ]
  },
  {
   "cell_type": "code",
   "execution_count": 880,
   "metadata": {},
   "outputs": [
    {
     "data": {
      "text/html": [
       "<div>\n",
       "<style scoped>\n",
       "    .dataframe tbody tr th:only-of-type {\n",
       "        vertical-align: middle;\n",
       "    }\n",
       "\n",
       "    .dataframe tbody tr th {\n",
       "        vertical-align: top;\n",
       "    }\n",
       "\n",
       "    .dataframe thead th {\n",
       "        text-align: right;\n",
       "    }\n",
       "</style>\n",
       "<table border=\"1\" class=\"dataframe\">\n",
       "  <thead>\n",
       "    <tr style=\"text-align: right;\">\n",
       "      <th></th>\n",
       "      <th>CBSA</th>\n",
       "      <th>City_Metro</th>\n",
       "      <th>LSAD</th>\n",
       "      <th>Date</th>\n",
       "      <th>Population</th>\n",
       "      <th>Male_Population</th>\n",
       "      <th>Female_Population</th>\n",
       "      <th>Median_Age_Total</th>\n",
       "      <th>Median_Age_Male</th>\n",
       "      <th>Median_Age_Female</th>\n",
       "    </tr>\n",
       "  </thead>\n",
       "  <tbody>\n",
       "    <tr>\n",
       "      <th>126</th>\n",
       "      <td>14460</td>\n",
       "      <td>Boston-Cambridge-Newton, MA-NH</td>\n",
       "      <td>Metropolitan Statistical Area</td>\n",
       "      <td>1</td>\n",
       "      <td>4941632</td>\n",
       "      <td>2418046</td>\n",
       "      <td>2523586</td>\n",
       "      <td>38.8</td>\n",
       "      <td>37.8</td>\n",
       "      <td>39.9</td>\n",
       "    </tr>\n",
       "    <tr>\n",
       "      <th>147</th>\n",
       "      <td>15380</td>\n",
       "      <td>Buffalo-Cheektowaga, NY</td>\n",
       "      <td>Metropolitan Statistical Area</td>\n",
       "      <td>1</td>\n",
       "      <td>1166902</td>\n",
       "      <td>569707</td>\n",
       "      <td>597195</td>\n",
       "      <td>40.8</td>\n",
       "      <td>39.4</td>\n",
       "      <td>42.3</td>\n",
       "    </tr>\n",
       "    <tr>\n",
       "      <th>675</th>\n",
       "      <td>33100</td>\n",
       "      <td>Miami-Fort Lauderdale-Pompano Beach, FL</td>\n",
       "      <td>Metropolitan Statistical Area</td>\n",
       "      <td>1</td>\n",
       "      <td>6138333</td>\n",
       "      <td>3005123</td>\n",
       "      <td>3133210</td>\n",
       "      <td>41.6</td>\n",
       "      <td>40.3</td>\n",
       "      <td>42.9</td>\n",
       "    </tr>\n",
       "    <tr>\n",
       "      <th>747</th>\n",
       "      <td>35620</td>\n",
       "      <td>New York-Newark-Jersey City, NY-NJ-PA</td>\n",
       "      <td>Metropolitan Statistical Area</td>\n",
       "      <td>1</td>\n",
       "      <td>20140470</td>\n",
       "      <td>9811780</td>\n",
       "      <td>10328690</td>\n",
       "      <td>39.0</td>\n",
       "      <td>37.8</td>\n",
       "      <td>40.3</td>\n",
       "    </tr>\n",
       "    <tr>\n",
       "      <th>780</th>\n",
       "      <td>36740</td>\n",
       "      <td>Orlando-Kissimmee-Sanford, FL</td>\n",
       "      <td>Metropolitan Statistical Area</td>\n",
       "      <td>1</td>\n",
       "      <td>2673376</td>\n",
       "      <td>1314143</td>\n",
       "      <td>1359233</td>\n",
       "      <td>37.9</td>\n",
       "      <td>37.0</td>\n",
       "      <td>38.8</td>\n",
       "    </tr>\n",
       "    <tr>\n",
       "      <th>807</th>\n",
       "      <td>37980</td>\n",
       "      <td>Philadelphia-Camden-Wilmington, PA-NJ-DE-MD</td>\n",
       "      <td>Metropolitan Statistical Area</td>\n",
       "      <td>1</td>\n",
       "      <td>6245051</td>\n",
       "      <td>3040403</td>\n",
       "      <td>3204648</td>\n",
       "      <td>39.0</td>\n",
       "      <td>37.7</td>\n",
       "      <td>40.3</td>\n",
       "    </tr>\n",
       "    <tr>\n",
       "      <th>1095</th>\n",
       "      <td>47900</td>\n",
       "      <td>Washington-Arlington-Alexandria, DC-VA-MD-WV</td>\n",
       "      <td>Metropolitan Statistical Area</td>\n",
       "      <td>1</td>\n",
       "      <td>6385162</td>\n",
       "      <td>3141717</td>\n",
       "      <td>3243445</td>\n",
       "      <td>37.6</td>\n",
       "      <td>36.8</td>\n",
       "      <td>38.3</td>\n",
       "    </tr>\n",
       "  </tbody>\n",
       "</table>\n",
       "</div>"
      ],
      "text/plain": [
       "       CBSA                                    City_Metro  \\\n",
       "126   14460                Boston-Cambridge-Newton, MA-NH   \n",
       "147   15380                       Buffalo-Cheektowaga, NY   \n",
       "675   33100       Miami-Fort Lauderdale-Pompano Beach, FL   \n",
       "747   35620         New York-Newark-Jersey City, NY-NJ-PA   \n",
       "780   36740                 Orlando-Kissimmee-Sanford, FL   \n",
       "807   37980   Philadelphia-Camden-Wilmington, PA-NJ-DE-MD   \n",
       "1095  47900  Washington-Arlington-Alexandria, DC-VA-MD-WV   \n",
       "\n",
       "                               LSAD  Date  Population  Male_Population  \\\n",
       "126   Metropolitan Statistical Area     1     4941632          2418046   \n",
       "147   Metropolitan Statistical Area     1     1166902           569707   \n",
       "675   Metropolitan Statistical Area     1     6138333          3005123   \n",
       "747   Metropolitan Statistical Area     1    20140470          9811780   \n",
       "780   Metropolitan Statistical Area     1     2673376          1314143   \n",
       "807   Metropolitan Statistical Area     1     6245051          3040403   \n",
       "1095  Metropolitan Statistical Area     1     6385162          3141717   \n",
       "\n",
       "      Female_Population  Median_Age_Total  Median_Age_Male  Median_Age_Female  \n",
       "126             2523586              38.8             37.8               39.9  \n",
       "147              597195              40.8             39.4               42.3  \n",
       "675             3133210              41.6             40.3               42.9  \n",
       "747            10328690              39.0             37.8               40.3  \n",
       "780             1359233              37.9             37.0               38.8  \n",
       "807             3204648              39.0             37.7               40.3  \n",
       "1095            3243445              37.6             36.8               38.3  "
      ]
     },
     "execution_count": 880,
     "metadata": {},
     "output_type": "execute_result"
    }
   ],
   "source": [
    "East_Coast_Metro_2020"
   ]
  },
  {
   "cell_type": "code",
   "execution_count": 881,
   "metadata": {},
   "outputs": [
    {
     "data": {
      "text/plain": [
       "47690926"
      ]
     },
     "execution_count": 881,
     "metadata": {},
     "output_type": "execute_result"
    }
   ],
   "source": [
    "East_Coast_Metro_2020['Population'].sum()"
   ]
  },
  {
   "cell_type": "code",
   "execution_count": 882,
   "metadata": {},
   "outputs": [],
   "source": [
    "Midwest_MetPop_2020 = DF1_MetPop2020.iloc[[3, 4, 6, 7, 9, 10, 13, 16, 17]]"
   ]
  },
  {
   "cell_type": "code",
   "execution_count": 883,
   "metadata": {},
   "outputs": [
    {
     "data": {
      "text/html": [
       "<div>\n",
       "<style scoped>\n",
       "    .dataframe tbody tr th:only-of-type {\n",
       "        vertical-align: middle;\n",
       "    }\n",
       "\n",
       "    .dataframe tbody tr th {\n",
       "        vertical-align: top;\n",
       "    }\n",
       "\n",
       "    .dataframe thead th {\n",
       "        text-align: right;\n",
       "    }\n",
       "</style>\n",
       "<table border=\"1\" class=\"dataframe\">\n",
       "  <thead>\n",
       "    <tr style=\"text-align: right;\">\n",
       "      <th></th>\n",
       "      <th>CBSA</th>\n",
       "      <th>City_Metro</th>\n",
       "      <th>LSAD</th>\n",
       "      <th>Date</th>\n",
       "      <th>Population</th>\n",
       "      <th>Male_Population</th>\n",
       "      <th>Female_Population</th>\n",
       "      <th>Median_Age_Total</th>\n",
       "      <th>Median_Age_Male</th>\n",
       "      <th>Median_Age_Female</th>\n",
       "    </tr>\n",
       "  </thead>\n",
       "  <tbody>\n",
       "    <tr>\n",
       "      <th>204</th>\n",
       "      <td>16980</td>\n",
       "      <td>Chicago-Naperville-Elgin, IL-IN-WI</td>\n",
       "      <td>Metropolitan Statistical Area</td>\n",
       "      <td>1</td>\n",
       "      <td>9618502</td>\n",
       "      <td>4739937</td>\n",
       "      <td>4878565</td>\n",
       "      <td>38.1</td>\n",
       "      <td>37.1</td>\n",
       "      <td>39.1</td>\n",
       "    </tr>\n",
       "    <tr>\n",
       "      <th>210</th>\n",
       "      <td>17140</td>\n",
       "      <td>Cincinnati, OH-KY-IN</td>\n",
       "      <td>Metropolitan Statistical Area</td>\n",
       "      <td>1</td>\n",
       "      <td>2256884</td>\n",
       "      <td>1114630</td>\n",
       "      <td>1142254</td>\n",
       "      <td>38.1</td>\n",
       "      <td>37.1</td>\n",
       "      <td>39.1</td>\n",
       "    </tr>\n",
       "    <tr>\n",
       "      <th>285</th>\n",
       "      <td>19740</td>\n",
       "      <td>Denver-Aurora-Lakewood, CO</td>\n",
       "      <td>Metropolitan Statistical Area</td>\n",
       "      <td>1</td>\n",
       "      <td>2963821</td>\n",
       "      <td>1492321</td>\n",
       "      <td>1471500</td>\n",
       "      <td>36.9</td>\n",
       "      <td>36.4</td>\n",
       "      <td>37.5</td>\n",
       "    </tr>\n",
       "    <tr>\n",
       "      <th>291</th>\n",
       "      <td>19820</td>\n",
       "      <td>Detroit-Warren-Dearborn, MI</td>\n",
       "      <td>Metropolitan Statistical Area</td>\n",
       "      <td>1</td>\n",
       "      <td>4392041</td>\n",
       "      <td>2153747</td>\n",
       "      <td>2238294</td>\n",
       "      <td>40.1</td>\n",
       "      <td>38.7</td>\n",
       "      <td>41.4</td>\n",
       "    </tr>\n",
       "    <tr>\n",
       "      <th>489</th>\n",
       "      <td>26900</td>\n",
       "      <td>Indianapolis-Carmel-Anderson, IN</td>\n",
       "      <td>Metropolitan Statistical Area</td>\n",
       "      <td>1</td>\n",
       "      <td>2111040</td>\n",
       "      <td>1038774</td>\n",
       "      <td>1072266</td>\n",
       "      <td>36.7</td>\n",
       "      <td>35.8</td>\n",
       "      <td>37.6</td>\n",
       "    </tr>\n",
       "    <tr>\n",
       "      <th>540</th>\n",
       "      <td>28140</td>\n",
       "      <td>Kansas City, MO-KS</td>\n",
       "      <td>Metropolitan Statistical Area</td>\n",
       "      <td>1</td>\n",
       "      <td>2192035</td>\n",
       "      <td>1082767</td>\n",
       "      <td>1109268</td>\n",
       "      <td>37.7</td>\n",
       "      <td>36.8</td>\n",
       "      <td>38.6</td>\n",
       "    </tr>\n",
       "    <tr>\n",
       "      <th>633</th>\n",
       "      <td>31140</td>\n",
       "      <td>Louisville/Jefferson County, KY-IN</td>\n",
       "      <td>Metropolitan Statistical Area</td>\n",
       "      <td>1</td>\n",
       "      <td>1285439</td>\n",
       "      <td>631705</td>\n",
       "      <td>653734</td>\n",
       "      <td>39.2</td>\n",
       "      <td>38.1</td>\n",
       "      <td>40.3</td>\n",
       "    </tr>\n",
       "    <tr>\n",
       "      <th>687</th>\n",
       "      <td>33340</td>\n",
       "      <td>Milwaukee-Waukesha, WI</td>\n",
       "      <td>Metropolitan Statistical Area</td>\n",
       "      <td>1</td>\n",
       "      <td>1574731</td>\n",
       "      <td>772689</td>\n",
       "      <td>802042</td>\n",
       "      <td>38.3</td>\n",
       "      <td>37.4</td>\n",
       "      <td>39.2</td>\n",
       "    </tr>\n",
       "    <tr>\n",
       "      <th>690</th>\n",
       "      <td>33460</td>\n",
       "      <td>Minneapolis-St. Paul-Bloomington, MN-WI</td>\n",
       "      <td>Metropolitan Statistical Area</td>\n",
       "      <td>1</td>\n",
       "      <td>3690261</td>\n",
       "      <td>1841756</td>\n",
       "      <td>1848505</td>\n",
       "      <td>37.5</td>\n",
       "      <td>36.9</td>\n",
       "      <td>38.2</td>\n",
       "    </tr>\n",
       "  </tbody>\n",
       "</table>\n",
       "</div>"
      ],
      "text/plain": [
       "      CBSA                               City_Metro  \\\n",
       "204  16980       Chicago-Naperville-Elgin, IL-IN-WI   \n",
       "210  17140                     Cincinnati, OH-KY-IN   \n",
       "285  19740               Denver-Aurora-Lakewood, CO   \n",
       "291  19820              Detroit-Warren-Dearborn, MI   \n",
       "489  26900         Indianapolis-Carmel-Anderson, IN   \n",
       "540  28140                       Kansas City, MO-KS   \n",
       "633  31140       Louisville/Jefferson County, KY-IN   \n",
       "687  33340                   Milwaukee-Waukesha, WI   \n",
       "690  33460  Minneapolis-St. Paul-Bloomington, MN-WI   \n",
       "\n",
       "                              LSAD  Date  Population  Male_Population  \\\n",
       "204  Metropolitan Statistical Area     1     9618502          4739937   \n",
       "210  Metropolitan Statistical Area     1     2256884          1114630   \n",
       "285  Metropolitan Statistical Area     1     2963821          1492321   \n",
       "291  Metropolitan Statistical Area     1     4392041          2153747   \n",
       "489  Metropolitan Statistical Area     1     2111040          1038774   \n",
       "540  Metropolitan Statistical Area     1     2192035          1082767   \n",
       "633  Metropolitan Statistical Area     1     1285439           631705   \n",
       "687  Metropolitan Statistical Area     1     1574731           772689   \n",
       "690  Metropolitan Statistical Area     1     3690261          1841756   \n",
       "\n",
       "     Female_Population  Median_Age_Total  Median_Age_Male  Median_Age_Female  \n",
       "204            4878565              38.1             37.1               39.1  \n",
       "210            1142254              38.1             37.1               39.1  \n",
       "285            1471500              36.9             36.4               37.5  \n",
       "291            2238294              40.1             38.7               41.4  \n",
       "489            1072266              36.7             35.8               37.6  \n",
       "540            1109268              37.7             36.8               38.6  \n",
       "633             653734              39.2             38.1               40.3  \n",
       "687             802042              38.3             37.4               39.2  \n",
       "690            1848505              37.5             36.9               38.2  "
      ]
     },
     "execution_count": 883,
     "metadata": {},
     "output_type": "execute_result"
    }
   ],
   "source": [
    "Midwest_MetPop_2020"
   ]
  },
  {
   "cell_type": "code",
   "execution_count": 884,
   "metadata": {},
   "outputs": [
    {
     "data": {
      "text/plain": [
       "30084754"
      ]
     },
     "execution_count": 884,
     "metadata": {},
     "output_type": "execute_result"
    }
   ],
   "source": [
    "Midwest_MetPop_2020['Population'].sum()"
   ]
  },
  {
   "cell_type": "code",
   "execution_count": 885,
   "metadata": {},
   "outputs": [],
   "source": [
    "South_MetPop_2020 = DF1_MetPop2020.iloc[[0, 5, 8, 14, 18, 19, 25]]"
   ]
  },
  {
   "cell_type": "code",
   "execution_count": 886,
   "metadata": {},
   "outputs": [
    {
     "data": {
      "text/html": [
       "<div>\n",
       "<style scoped>\n",
       "    .dataframe tbody tr th:only-of-type {\n",
       "        vertical-align: middle;\n",
       "    }\n",
       "\n",
       "    .dataframe tbody tr th {\n",
       "        vertical-align: top;\n",
       "    }\n",
       "\n",
       "    .dataframe thead th {\n",
       "        text-align: right;\n",
       "    }\n",
       "</style>\n",
       "<table border=\"1\" class=\"dataframe\">\n",
       "  <thead>\n",
       "    <tr style=\"text-align: right;\">\n",
       "      <th></th>\n",
       "      <th>CBSA</th>\n",
       "      <th>City_Metro</th>\n",
       "      <th>LSAD</th>\n",
       "      <th>Date</th>\n",
       "      <th>Population</th>\n",
       "      <th>Male_Population</th>\n",
       "      <th>Female_Population</th>\n",
       "      <th>Median_Age_Total</th>\n",
       "      <th>Median_Age_Male</th>\n",
       "      <th>Median_Age_Female</th>\n",
       "    </tr>\n",
       "  </thead>\n",
       "  <tbody>\n",
       "    <tr>\n",
       "      <th>51</th>\n",
       "      <td>12060</td>\n",
       "      <td>Atlanta-Sandy Springs-Alpharetta, GA</td>\n",
       "      <td>Metropolitan Statistical Area</td>\n",
       "      <td>1</td>\n",
       "      <td>6089815</td>\n",
       "      <td>2957470</td>\n",
       "      <td>3132345</td>\n",
       "      <td>36.9</td>\n",
       "      <td>35.9</td>\n",
       "      <td>37.9</td>\n",
       "    </tr>\n",
       "    <tr>\n",
       "      <th>258</th>\n",
       "      <td>19100</td>\n",
       "      <td>Dallas-Fort Worth-Arlington, TX</td>\n",
       "      <td>Metropolitan Statistical Area</td>\n",
       "      <td>1</td>\n",
       "      <td>7637387</td>\n",
       "      <td>3779275</td>\n",
       "      <td>3858112</td>\n",
       "      <td>35.3</td>\n",
       "      <td>34.6</td>\n",
       "      <td>35.9</td>\n",
       "    </tr>\n",
       "    <tr>\n",
       "      <th>477</th>\n",
       "      <td>26420</td>\n",
       "      <td>Houston-The Woodlands-Sugar Land, TX</td>\n",
       "      <td>Metropolitan Statistical Area</td>\n",
       "      <td>1</td>\n",
       "      <td>7122240</td>\n",
       "      <td>3548196</td>\n",
       "      <td>3574044</td>\n",
       "      <td>35.0</td>\n",
       "      <td>34.4</td>\n",
       "      <td>35.5</td>\n",
       "    </tr>\n",
       "    <tr>\n",
       "      <th>669</th>\n",
       "      <td>32820</td>\n",
       "      <td>Memphis, TN-MS-AR</td>\n",
       "      <td>Metropolitan Statistical Area</td>\n",
       "      <td>1</td>\n",
       "      <td>1337779</td>\n",
       "      <td>641509</td>\n",
       "      <td>696270</td>\n",
       "      <td>36.6</td>\n",
       "      <td>35.2</td>\n",
       "      <td>37.9</td>\n",
       "    </tr>\n",
       "    <tr>\n",
       "      <th>735</th>\n",
       "      <td>34980</td>\n",
       "      <td>Nashville-Davidson--Murfreesboro--Franklin, TN</td>\n",
       "      <td>Metropolitan Statistical Area</td>\n",
       "      <td>1</td>\n",
       "      <td>1989519</td>\n",
       "      <td>975573</td>\n",
       "      <td>1013946</td>\n",
       "      <td>36.8</td>\n",
       "      <td>36.0</td>\n",
       "      <td>37.4</td>\n",
       "    </tr>\n",
       "    <tr>\n",
       "      <th>744</th>\n",
       "      <td>35380</td>\n",
       "      <td>New Orleans-Metairie, LA</td>\n",
       "      <td>Metropolitan Statistical Area</td>\n",
       "      <td>1</td>\n",
       "      <td>1271845</td>\n",
       "      <td>616081</td>\n",
       "      <td>655764</td>\n",
       "      <td>39.0</td>\n",
       "      <td>38.1</td>\n",
       "      <td>39.9</td>\n",
       "    </tr>\n",
       "    <tr>\n",
       "      <th>927</th>\n",
       "      <td>41700</td>\n",
       "      <td>San Antonio-New Braunfels, TX</td>\n",
       "      <td>Metropolitan Statistical Area</td>\n",
       "      <td>1</td>\n",
       "      <td>2558143</td>\n",
       "      <td>1272145</td>\n",
       "      <td>1285998</td>\n",
       "      <td>35.3</td>\n",
       "      <td>34.4</td>\n",
       "      <td>36.3</td>\n",
       "    </tr>\n",
       "  </tbody>\n",
       "</table>\n",
       "</div>"
      ],
      "text/plain": [
       "      CBSA                                      City_Metro  \\\n",
       "51   12060            Atlanta-Sandy Springs-Alpharetta, GA   \n",
       "258  19100                 Dallas-Fort Worth-Arlington, TX   \n",
       "477  26420            Houston-The Woodlands-Sugar Land, TX   \n",
       "669  32820                               Memphis, TN-MS-AR   \n",
       "735  34980  Nashville-Davidson--Murfreesboro--Franklin, TN   \n",
       "744  35380                        New Orleans-Metairie, LA   \n",
       "927  41700                   San Antonio-New Braunfels, TX   \n",
       "\n",
       "                              LSAD  Date  Population  Male_Population  \\\n",
       "51   Metropolitan Statistical Area     1     6089815          2957470   \n",
       "258  Metropolitan Statistical Area     1     7637387          3779275   \n",
       "477  Metropolitan Statistical Area     1     7122240          3548196   \n",
       "669  Metropolitan Statistical Area     1     1337779           641509   \n",
       "735  Metropolitan Statistical Area     1     1989519           975573   \n",
       "744  Metropolitan Statistical Area     1     1271845           616081   \n",
       "927  Metropolitan Statistical Area     1     2558143          1272145   \n",
       "\n",
       "     Female_Population  Median_Age_Total  Median_Age_Male  Median_Age_Female  \n",
       "51             3132345              36.9             35.9               37.9  \n",
       "258            3858112              35.3             34.6               35.9  \n",
       "477            3574044              35.0             34.4               35.5  \n",
       "669             696270              36.6             35.2               37.9  \n",
       "735            1013946              36.8             36.0               37.4  \n",
       "744             655764              39.0             38.1               39.9  \n",
       "927            1285998              35.3             34.4               36.3  "
      ]
     },
     "execution_count": 886,
     "metadata": {},
     "output_type": "execute_result"
    }
   ],
   "source": [
    "South_MetPop_2020"
   ]
  },
  {
   "cell_type": "code",
   "execution_count": 887,
   "metadata": {},
   "outputs": [
    {
     "data": {
      "text/plain": [
       "28006728"
      ]
     },
     "execution_count": 887,
     "metadata": {},
     "output_type": "execute_result"
    }
   ],
   "source": [
    "South_MetPop_2020['Population'].sum()"
   ]
  },
  {
   "cell_type": "code",
   "execution_count": 888,
   "metadata": {},
   "outputs": [],
   "source": [
    "West_Coast_MetPop_2020 = DF1_MetPop2020.iloc[[11, 12, 23, 24, 26, 27, 28]]"
   ]
  },
  {
   "cell_type": "code",
   "execution_count": 889,
   "metadata": {},
   "outputs": [
    {
     "data": {
      "text/html": [
       "<div>\n",
       "<style scoped>\n",
       "    .dataframe tbody tr th:only-of-type {\n",
       "        vertical-align: middle;\n",
       "    }\n",
       "\n",
       "    .dataframe tbody tr th {\n",
       "        vertical-align: top;\n",
       "    }\n",
       "\n",
       "    .dataframe thead th {\n",
       "        text-align: right;\n",
       "    }\n",
       "</style>\n",
       "<table border=\"1\" class=\"dataframe\">\n",
       "  <thead>\n",
       "    <tr style=\"text-align: right;\">\n",
       "      <th></th>\n",
       "      <th>CBSA</th>\n",
       "      <th>City_Metro</th>\n",
       "      <th>LSAD</th>\n",
       "      <th>Date</th>\n",
       "      <th>Population</th>\n",
       "      <th>Male_Population</th>\n",
       "      <th>Female_Population</th>\n",
       "      <th>Median_Age_Total</th>\n",
       "      <th>Median_Age_Male</th>\n",
       "      <th>Median_Age_Female</th>\n",
       "    </tr>\n",
       "  </thead>\n",
       "  <tbody>\n",
       "    <tr>\n",
       "      <th>591</th>\n",
       "      <td>29820</td>\n",
       "      <td>Las Vegas-Henderson-Paradise, NV</td>\n",
       "      <td>Metropolitan Statistical Area</td>\n",
       "      <td>1</td>\n",
       "      <td>2265461</td>\n",
       "      <td>1134726</td>\n",
       "      <td>1130735</td>\n",
       "      <td>37.8</td>\n",
       "      <td>37.3</td>\n",
       "      <td>38.3</td>\n",
       "    </tr>\n",
       "    <tr>\n",
       "      <th>630</th>\n",
       "      <td>31080</td>\n",
       "      <td>Los Angeles-Long Beach-Anaheim, CA</td>\n",
       "      <td>Metropolitan Statistical Area</td>\n",
       "      <td>1</td>\n",
       "      <td>13200998</td>\n",
       "      <td>6546539</td>\n",
       "      <td>6654459</td>\n",
       "      <td>37.6</td>\n",
       "      <td>36.7</td>\n",
       "      <td>38.6</td>\n",
       "    </tr>\n",
       "    <tr>\n",
       "      <th>810</th>\n",
       "      <td>38060</td>\n",
       "      <td>Phoenix-Mesa-Chandler, AZ</td>\n",
       "      <td>Metropolitan Statistical Area</td>\n",
       "      <td>1</td>\n",
       "      <td>4845832</td>\n",
       "      <td>2418925</td>\n",
       "      <td>2426907</td>\n",
       "      <td>37.3</td>\n",
       "      <td>36.4</td>\n",
       "      <td>38.3</td>\n",
       "    </tr>\n",
       "    <tr>\n",
       "      <th>828</th>\n",
       "      <td>38900</td>\n",
       "      <td>Portland-Vancouver-Hillsboro, OR-WA</td>\n",
       "      <td>Metropolitan Statistical Area</td>\n",
       "      <td>1</td>\n",
       "      <td>2512859</td>\n",
       "      <td>1251332</td>\n",
       "      <td>1261527</td>\n",
       "      <td>38.7</td>\n",
       "      <td>38.0</td>\n",
       "      <td>39.3</td>\n",
       "    </tr>\n",
       "    <tr>\n",
       "      <th>930</th>\n",
       "      <td>41740</td>\n",
       "      <td>San Diego-Chula Vista-Carlsbad, CA</td>\n",
       "      <td>Metropolitan Statistical Area</td>\n",
       "      <td>1</td>\n",
       "      <td>3298634</td>\n",
       "      <td>1671043</td>\n",
       "      <td>1627591</td>\n",
       "      <td>36.5</td>\n",
       "      <td>35.5</td>\n",
       "      <td>37.7</td>\n",
       "    </tr>\n",
       "    <tr>\n",
       "      <th>933</th>\n",
       "      <td>41860</td>\n",
       "      <td>San Francisco-Oakland-Berkeley, CA</td>\n",
       "      <td>Metropolitan Statistical Area</td>\n",
       "      <td>1</td>\n",
       "      <td>4749008</td>\n",
       "      <td>2365423</td>\n",
       "      <td>2383585</td>\n",
       "      <td>39.3</td>\n",
       "      <td>38.6</td>\n",
       "      <td>40.1</td>\n",
       "    </tr>\n",
       "    <tr>\n",
       "      <th>960</th>\n",
       "      <td>42660</td>\n",
       "      <td>Seattle-Tacoma-Bellevue, WA</td>\n",
       "      <td>Metropolitan Statistical Area</td>\n",
       "      <td>1</td>\n",
       "      <td>4018762</td>\n",
       "      <td>2029293</td>\n",
       "      <td>1989469</td>\n",
       "      <td>37.2</td>\n",
       "      <td>36.5</td>\n",
       "      <td>37.9</td>\n",
       "    </tr>\n",
       "  </tbody>\n",
       "</table>\n",
       "</div>"
      ],
      "text/plain": [
       "      CBSA                           City_Metro  \\\n",
       "591  29820     Las Vegas-Henderson-Paradise, NV   \n",
       "630  31080   Los Angeles-Long Beach-Anaheim, CA   \n",
       "810  38060            Phoenix-Mesa-Chandler, AZ   \n",
       "828  38900  Portland-Vancouver-Hillsboro, OR-WA   \n",
       "930  41740   San Diego-Chula Vista-Carlsbad, CA   \n",
       "933  41860   San Francisco-Oakland-Berkeley, CA   \n",
       "960  42660          Seattle-Tacoma-Bellevue, WA   \n",
       "\n",
       "                              LSAD  Date  Population  Male_Population  \\\n",
       "591  Metropolitan Statistical Area     1     2265461          1134726   \n",
       "630  Metropolitan Statistical Area     1    13200998          6546539   \n",
       "810  Metropolitan Statistical Area     1     4845832          2418925   \n",
       "828  Metropolitan Statistical Area     1     2512859          1251332   \n",
       "930  Metropolitan Statistical Area     1     3298634          1671043   \n",
       "933  Metropolitan Statistical Area     1     4749008          2365423   \n",
       "960  Metropolitan Statistical Area     1     4018762          2029293   \n",
       "\n",
       "     Female_Population  Median_Age_Total  Median_Age_Male  Median_Age_Female  \n",
       "591            1130735              37.8             37.3               38.3  \n",
       "630            6654459              37.6             36.7               38.6  \n",
       "810            2426907              37.3             36.4               38.3  \n",
       "828            1261527              38.7             38.0               39.3  \n",
       "930            1627591              36.5             35.5               37.7  \n",
       "933            2383585              39.3             38.6               40.1  \n",
       "960            1989469              37.2             36.5               37.9  "
      ]
     },
     "execution_count": 889,
     "metadata": {},
     "output_type": "execute_result"
    }
   ],
   "source": [
    "West_Coast_MetPop_2020"
   ]
  },
  {
   "cell_type": "code",
   "execution_count": 890,
   "metadata": {},
   "outputs": [
    {
     "data": {
      "text/plain": [
       "34891554"
      ]
     },
     "execution_count": 890,
     "metadata": {},
     "output_type": "execute_result"
    }
   ],
   "source": [
    "West_Coast_MetPop_2020['Population'].sum()"
   ]
  },
  {
   "cell_type": "code",
   "execution_count": 891,
   "metadata": {},
   "outputs": [],
   "source": [
    "Metro_Pop_2000_DF2 = pd.read_csv('Project_2_Data/US_Pop_2000_CSV.csv', usecols= ['CBSA Code', 'Geographic area', 'Population', 'Unnamed: 4'])  "
   ]
  },
  {
   "cell_type": "code",
   "execution_count": 892,
   "metadata": {},
   "outputs": [
    {
     "data": {
      "text/html": [
       "<div>\n",
       "<style scoped>\n",
       "    .dataframe tbody tr th:only-of-type {\n",
       "        vertical-align: middle;\n",
       "    }\n",
       "\n",
       "    .dataframe tbody tr th {\n",
       "        vertical-align: top;\n",
       "    }\n",
       "\n",
       "    .dataframe thead th {\n",
       "        text-align: right;\n",
       "    }\n",
       "</style>\n",
       "<table border=\"1\" class=\"dataframe\">\n",
       "  <thead>\n",
       "    <tr style=\"text-align: right;\">\n",
       "      <th></th>\n",
       "      <th>CBSA Code</th>\n",
       "      <th>Geographic area</th>\n",
       "      <th>Population</th>\n",
       "      <th>Unnamed: 4</th>\n",
       "    </tr>\n",
       "  </thead>\n",
       "  <tbody>\n",
       "    <tr>\n",
       "      <th>0</th>\n",
       "      <td>10420</td>\n",
       "      <td>Akron, OH</td>\n",
       "      <td>703,200</td>\n",
       "      <td>694,960</td>\n",
       "    </tr>\n",
       "    <tr>\n",
       "      <th>1</th>\n",
       "      <td>10500</td>\n",
       "      <td>Albany, GA</td>\n",
       "      <td>157,308</td>\n",
       "      <td>157,833</td>\n",
       "    </tr>\n",
       "    <tr>\n",
       "      <th>2</th>\n",
       "      <td>10580</td>\n",
       "      <td>Albany-Schenectady-Troy, NY</td>\n",
       "      <td>870,716</td>\n",
       "      <td>825,875</td>\n",
       "    </tr>\n",
       "    <tr>\n",
       "      <th>3</th>\n",
       "      <td>10740</td>\n",
       "      <td>Albuquerque, NM</td>\n",
       "      <td>887,077</td>\n",
       "      <td>729,649</td>\n",
       "    </tr>\n",
       "    <tr>\n",
       "      <th>4</th>\n",
       "      <td>10780</td>\n",
       "      <td>Alexandria, LA</td>\n",
       "      <td>153,922</td>\n",
       "      <td>145,035</td>\n",
       "    </tr>\n",
       "  </tbody>\n",
       "</table>\n",
       "</div>"
      ],
      "text/plain": [
       "   CBSA Code              Geographic area Population Unnamed: 4\n",
       "0      10420                    Akron, OH    703,200    694,960\n",
       "1      10500                   Albany, GA    157,308    157,833\n",
       "2      10580  Albany-Schenectady-Troy, NY    870,716    825,875\n",
       "3      10740              Albuquerque, NM    887,077    729,649\n",
       "4      10780               Alexandria, LA    153,922    145,035"
      ]
     },
     "execution_count": 892,
     "metadata": {},
     "output_type": "execute_result"
    }
   ],
   "source": [
    "Metro_Pop_2000_DF2.head() "
   ]
  },
  {
   "cell_type": "code",
   "execution_count": 893,
   "metadata": {},
   "outputs": [],
   "source": [
    "Metro_Pop_2000_DF2.rename(columns={'CBSA Code': 'CBSA', 'Geographic area': 'City_Metro', 'Population': 'Population_2010', 'Unnamed: 4': 'Population_2000'}, inplace= True)"
   ]
  },
  {
   "cell_type": "code",
   "execution_count": 894,
   "metadata": {},
   "outputs": [
    {
     "data": {
      "text/html": [
       "<div>\n",
       "<style scoped>\n",
       "    .dataframe tbody tr th:only-of-type {\n",
       "        vertical-align: middle;\n",
       "    }\n",
       "\n",
       "    .dataframe tbody tr th {\n",
       "        vertical-align: top;\n",
       "    }\n",
       "\n",
       "    .dataframe thead th {\n",
       "        text-align: right;\n",
       "    }\n",
       "</style>\n",
       "<table border=\"1\" class=\"dataframe\">\n",
       "  <thead>\n",
       "    <tr style=\"text-align: right;\">\n",
       "      <th></th>\n",
       "      <th>CBSA</th>\n",
       "      <th>City_Metro</th>\n",
       "      <th>Population_2010</th>\n",
       "      <th>Population_2000</th>\n",
       "    </tr>\n",
       "  </thead>\n",
       "  <tbody>\n",
       "    <tr>\n",
       "      <th>0</th>\n",
       "      <td>10420</td>\n",
       "      <td>Akron, OH</td>\n",
       "      <td>703,200</td>\n",
       "      <td>694,960</td>\n",
       "    </tr>\n",
       "    <tr>\n",
       "      <th>1</th>\n",
       "      <td>10500</td>\n",
       "      <td>Albany, GA</td>\n",
       "      <td>157,308</td>\n",
       "      <td>157,833</td>\n",
       "    </tr>\n",
       "    <tr>\n",
       "      <th>2</th>\n",
       "      <td>10580</td>\n",
       "      <td>Albany-Schenectady-Troy, NY</td>\n",
       "      <td>870,716</td>\n",
       "      <td>825,875</td>\n",
       "    </tr>\n",
       "    <tr>\n",
       "      <th>3</th>\n",
       "      <td>10740</td>\n",
       "      <td>Albuquerque, NM</td>\n",
       "      <td>887,077</td>\n",
       "      <td>729,649</td>\n",
       "    </tr>\n",
       "    <tr>\n",
       "      <th>4</th>\n",
       "      <td>10780</td>\n",
       "      <td>Alexandria, LA</td>\n",
       "      <td>153,922</td>\n",
       "      <td>145,035</td>\n",
       "    </tr>\n",
       "  </tbody>\n",
       "</table>\n",
       "</div>"
      ],
      "text/plain": [
       "    CBSA                   City_Metro Population_2010 Population_2000\n",
       "0  10420                    Akron, OH         703,200         694,960\n",
       "1  10500                   Albany, GA         157,308         157,833\n",
       "2  10580  Albany-Schenectady-Troy, NY         870,716         825,875\n",
       "3  10740              Albuquerque, NM         887,077         729,649\n",
       "4  10780               Alexandria, LA         153,922         145,035"
      ]
     },
     "execution_count": 894,
     "metadata": {},
     "output_type": "execute_result"
    }
   ],
   "source": [
    "Metro_Pop_2000_DF2.head()"
   ]
  },
  {
   "cell_type": "code",
   "execution_count": 895,
   "metadata": {},
   "outputs": [
    {
     "name": "stdout",
     "output_type": "stream",
     "text": [
      "(941, 4)\n",
      "CBSA                int64\n",
      "City_Metro         object\n",
      "Population_2010    object\n",
      "Population_2000    object\n",
      "dtype: object\n"
     ]
    }
   ],
   "source": [
    "Shape_Metro_Pop_2000 = Metro_Pop_2000_DF2.shape\n",
    "print(Shape_Metro_Pop_2000)\n",
    "DataType_Metro_Pop_2000 = Metro_Pop_2000_DF2.dtypes\n",
    "print(DataType_Metro_Pop_2000) "
   ]
  },
  {
   "cell_type": "code",
   "execution_count": 896,
   "metadata": {},
   "outputs": [],
   "source": [
    "# Remove comma from columns and convert from object to float64.\n",
    "Metro_Pop_2000_DF2['Population_2000'] = pd.to_numeric(Metro_Pop_2000_DF2['Population_2000'].replace({',': ''}, regex= True)) \n",
    "Metro_Pop_2000_DF2['Population_2010'] = pd.to_numeric(Metro_Pop_2000_DF2['Population_2010'].replace({',': ''}, regex= True))"
   ]
  },
  {
   "cell_type": "code",
   "execution_count": 897,
   "metadata": {},
   "outputs": [
    {
     "data": {
      "text/html": [
       "<div>\n",
       "<style scoped>\n",
       "    .dataframe tbody tr th:only-of-type {\n",
       "        vertical-align: middle;\n",
       "    }\n",
       "\n",
       "    .dataframe tbody tr th {\n",
       "        vertical-align: top;\n",
       "    }\n",
       "\n",
       "    .dataframe thead th {\n",
       "        text-align: right;\n",
       "    }\n",
       "</style>\n",
       "<table border=\"1\" class=\"dataframe\">\n",
       "  <thead>\n",
       "    <tr style=\"text-align: right;\">\n",
       "      <th></th>\n",
       "      <th>CBSA</th>\n",
       "      <th>City_Metro</th>\n",
       "      <th>Population_2010</th>\n",
       "      <th>Population_2000</th>\n",
       "    </tr>\n",
       "  </thead>\n",
       "  <tbody>\n",
       "    <tr>\n",
       "      <th>0</th>\n",
       "      <td>10420</td>\n",
       "      <td>Akron, OH</td>\n",
       "      <td>703200</td>\n",
       "      <td>694960</td>\n",
       "    </tr>\n",
       "    <tr>\n",
       "      <th>1</th>\n",
       "      <td>10500</td>\n",
       "      <td>Albany, GA</td>\n",
       "      <td>157308</td>\n",
       "      <td>157833</td>\n",
       "    </tr>\n",
       "    <tr>\n",
       "      <th>2</th>\n",
       "      <td>10580</td>\n",
       "      <td>Albany-Schenectady-Troy, NY</td>\n",
       "      <td>870716</td>\n",
       "      <td>825875</td>\n",
       "    </tr>\n",
       "    <tr>\n",
       "      <th>3</th>\n",
       "      <td>10740</td>\n",
       "      <td>Albuquerque, NM</td>\n",
       "      <td>887077</td>\n",
       "      <td>729649</td>\n",
       "    </tr>\n",
       "    <tr>\n",
       "      <th>4</th>\n",
       "      <td>10780</td>\n",
       "      <td>Alexandria, LA</td>\n",
       "      <td>153922</td>\n",
       "      <td>145035</td>\n",
       "    </tr>\n",
       "  </tbody>\n",
       "</table>\n",
       "</div>"
      ],
      "text/plain": [
       "    CBSA                   City_Metro  Population_2010  Population_2000\n",
       "0  10420                    Akron, OH           703200           694960\n",
       "1  10500                   Albany, GA           157308           157833\n",
       "2  10580  Albany-Schenectady-Troy, NY           870716           825875\n",
       "3  10740              Albuquerque, NM           887077           729649\n",
       "4  10780               Alexandria, LA           153922           145035"
      ]
     },
     "execution_count": 897,
     "metadata": {},
     "output_type": "execute_result"
    }
   ],
   "source": [
    "Metro_Pop_2000_DF2.head()"
   ]
  },
  {
   "cell_type": "code",
   "execution_count": 898,
   "metadata": {},
   "outputs": [],
   "source": [
    "#Flt_DataChng = Metro_Pop_2000_DF2['CBSA'] = Metro_Pop_2000_DF2['CBSA'].astype('string') "
   ]
  },
  {
   "cell_type": "code",
   "execution_count": 899,
   "metadata": {},
   "outputs": [
    {
     "name": "stdout",
     "output_type": "stream",
     "text": [
      "(941, 4)\n",
      "CBSA                int64\n",
      "City_Metro         object\n",
      "Population_2010     int64\n",
      "Population_2000     int64\n",
      "dtype: object\n"
     ]
    }
   ],
   "source": [
    "Shape_Metro_Pop_2000 = Metro_Pop_2000_DF2.shape\n",
    "print(Shape_Metro_Pop_2000)\n",
    "DataType_Metro_Pop_2000 = Metro_Pop_2000_DF2.dtypes\n",
    "print(DataType_Metro_Pop_2000) "
   ]
  },
  {
   "cell_type": "code",
   "execution_count": 900,
   "metadata": {},
   "outputs": [
    {
     "data": {
      "text/plain": [
       "0      10420.0\n",
       "1      10500.0\n",
       "2      10580.0\n",
       "3      10740.0\n",
       "4      10780.0\n",
       "        ...   \n",
       "936    49300.0\n",
       "937    49380.0\n",
       "938    49460.0\n",
       "939    49540.0\n",
       "940    49780.0\n",
       "Name: CBSA, Length: 941, dtype: float64"
      ]
     },
     "execution_count": 900,
     "metadata": {},
     "output_type": "execute_result"
    }
   ],
   "source": [
    "pd.to_numeric(Metro_Pop_2000_DF2['CBSA'].astype('float64')) "
   ]
  },
  {
   "cell_type": "code",
   "execution_count": 901,
   "metadata": {},
   "outputs": [],
   "source": [
    "DF2_Metro_Pop2000 = Metro_Pop_2000_DF2.iloc[[17, 40, 47, 63, 65, 81, 90, 92, 148, 152, 168, 185, 198, 199, 211, 213, 216, 217, 232, 234, 235, 246, 257, 258, 264, 297, 298, 300, 309, 348]]"
   ]
  },
  {
   "cell_type": "code",
   "execution_count": 902,
   "metadata": {},
   "outputs": [
    {
     "data": {
      "text/html": [
       "<div>\n",
       "<style scoped>\n",
       "    .dataframe tbody tr th:only-of-type {\n",
       "        vertical-align: middle;\n",
       "    }\n",
       "\n",
       "    .dataframe tbody tr th {\n",
       "        vertical-align: top;\n",
       "    }\n",
       "\n",
       "    .dataframe thead th {\n",
       "        text-align: right;\n",
       "    }\n",
       "</style>\n",
       "<table border=\"1\" class=\"dataframe\">\n",
       "  <thead>\n",
       "    <tr style=\"text-align: right;\">\n",
       "      <th></th>\n",
       "      <th>CBSA</th>\n",
       "      <th>City_Metro</th>\n",
       "      <th>Population_2010</th>\n",
       "      <th>Population_2000</th>\n",
       "    </tr>\n",
       "  </thead>\n",
       "  <tbody>\n",
       "    <tr>\n",
       "      <th>17</th>\n",
       "      <td>12060</td>\n",
       "      <td>Atlanta-Sandy Springs-Marietta, GA</td>\n",
       "      <td>5268860</td>\n",
       "      <td>4247981</td>\n",
       "    </tr>\n",
       "    <tr>\n",
       "      <th>40</th>\n",
       "      <td>14460</td>\n",
       "      <td>Boston-Cambridge-Quincy, MA-NH</td>\n",
       "      <td>4552402</td>\n",
       "      <td>4391344</td>\n",
       "    </tr>\n",
       "    <tr>\n",
       "      <th>47</th>\n",
       "      <td>15380</td>\n",
       "      <td>Buffalo-Niagara Falls, NY</td>\n",
       "      <td>1135509</td>\n",
       "      <td>1170111</td>\n",
       "    </tr>\n",
       "    <tr>\n",
       "      <th>63</th>\n",
       "      <td>16980</td>\n",
       "      <td>Chicago-Joliet-Naperville, IL-IN-WI</td>\n",
       "      <td>9461105</td>\n",
       "      <td>9098316</td>\n",
       "    </tr>\n",
       "    <tr>\n",
       "      <th>65</th>\n",
       "      <td>17140</td>\n",
       "      <td>Cincinnati-Middletown, OH-KY-IN</td>\n",
       "      <td>2130151</td>\n",
       "      <td>2009632</td>\n",
       "    </tr>\n",
       "    <tr>\n",
       "      <th>81</th>\n",
       "      <td>19100</td>\n",
       "      <td>Dallas-Fort Worth-Arlington, TX</td>\n",
       "      <td>6371773</td>\n",
       "      <td>5161544</td>\n",
       "    </tr>\n",
       "    <tr>\n",
       "      <th>90</th>\n",
       "      <td>19740</td>\n",
       "      <td>Denver-Aurora-Broomfield, CO</td>\n",
       "      <td>2543482</td>\n",
       "      <td>2179240</td>\n",
       "    </tr>\n",
       "    <tr>\n",
       "      <th>92</th>\n",
       "      <td>19820</td>\n",
       "      <td>Detroit-Warren-Livonia, MI</td>\n",
       "      <td>4296250</td>\n",
       "      <td>4452557</td>\n",
       "    </tr>\n",
       "    <tr>\n",
       "      <th>148</th>\n",
       "      <td>26420</td>\n",
       "      <td>Houston-Sugar Land-Baytown, TX</td>\n",
       "      <td>5946800</td>\n",
       "      <td>4715407</td>\n",
       "    </tr>\n",
       "    <tr>\n",
       "      <th>152</th>\n",
       "      <td>26900</td>\n",
       "      <td>Indianapolis-Carmel, IN</td>\n",
       "      <td>1756241</td>\n",
       "      <td>1525104</td>\n",
       "    </tr>\n",
       "    <tr>\n",
       "      <th>168</th>\n",
       "      <td>28140</td>\n",
       "      <td>Kansas City, MO-KS</td>\n",
       "      <td>2035334</td>\n",
       "      <td>1836038</td>\n",
       "    </tr>\n",
       "    <tr>\n",
       "      <th>185</th>\n",
       "      <td>29820</td>\n",
       "      <td>Las Vegas-Paradise, NV</td>\n",
       "      <td>1951269</td>\n",
       "      <td>1375765</td>\n",
       "    </tr>\n",
       "    <tr>\n",
       "      <th>198</th>\n",
       "      <td>31080</td>\n",
       "      <td>Los Angeles-Long Beach-Santa Ana, CA</td>\n",
       "      <td>12828837</td>\n",
       "      <td>12365627</td>\n",
       "    </tr>\n",
       "    <tr>\n",
       "      <th>199</th>\n",
       "      <td>31140</td>\n",
       "      <td>Louisville/Jefferson County, KY-IN</td>\n",
       "      <td>1283566</td>\n",
       "      <td>1161975</td>\n",
       "    </tr>\n",
       "    <tr>\n",
       "      <th>211</th>\n",
       "      <td>32820</td>\n",
       "      <td>Memphis, TN-MS-AR</td>\n",
       "      <td>1316100</td>\n",
       "      <td>1205204</td>\n",
       "    </tr>\n",
       "    <tr>\n",
       "      <th>213</th>\n",
       "      <td>33100</td>\n",
       "      <td>Miami-Fort Lauderdale-Pompano Beach, FL</td>\n",
       "      <td>5564635</td>\n",
       "      <td>5007564</td>\n",
       "    </tr>\n",
       "    <tr>\n",
       "      <th>216</th>\n",
       "      <td>33340</td>\n",
       "      <td>Milwaukee-Waukesha-West Allis, WI</td>\n",
       "      <td>1555908</td>\n",
       "      <td>1500741</td>\n",
       "    </tr>\n",
       "    <tr>\n",
       "      <th>217</th>\n",
       "      <td>33460</td>\n",
       "      <td>Minneapolis-St. Paul-Bloomington, MN-WI</td>\n",
       "      <td>3279833</td>\n",
       "      <td>2968806</td>\n",
       "    </tr>\n",
       "    <tr>\n",
       "      <th>232</th>\n",
       "      <td>34980</td>\n",
       "      <td>Nashville-Davidson--Murfreesboro--Franklin, TN</td>\n",
       "      <td>1589934</td>\n",
       "      <td>1311789</td>\n",
       "    </tr>\n",
       "    <tr>\n",
       "      <th>234</th>\n",
       "      <td>35380</td>\n",
       "      <td>New Orleans-Metairie-Kenner, LA</td>\n",
       "      <td>1167764</td>\n",
       "      <td>1316510</td>\n",
       "    </tr>\n",
       "    <tr>\n",
       "      <th>235</th>\n",
       "      <td>35620</td>\n",
       "      <td>New York-Northern New Jersey-Long Island, NY-N...</td>\n",
       "      <td>18897109</td>\n",
       "      <td>18323002</td>\n",
       "    </tr>\n",
       "    <tr>\n",
       "      <th>246</th>\n",
       "      <td>36740</td>\n",
       "      <td>Orlando-Kissimmee-Sanford, FL</td>\n",
       "      <td>2134411</td>\n",
       "      <td>1644561</td>\n",
       "    </tr>\n",
       "    <tr>\n",
       "      <th>257</th>\n",
       "      <td>37980</td>\n",
       "      <td>Philadelphia-Camden-Wilmington, PA-NJ-DE-MD</td>\n",
       "      <td>5965343</td>\n",
       "      <td>5687147</td>\n",
       "    </tr>\n",
       "    <tr>\n",
       "      <th>258</th>\n",
       "      <td>38060</td>\n",
       "      <td>Phoenix-Mesa-Glendale, AZ</td>\n",
       "      <td>4192887</td>\n",
       "      <td>3251876</td>\n",
       "    </tr>\n",
       "    <tr>\n",
       "      <th>264</th>\n",
       "      <td>38900</td>\n",
       "      <td>Portland-Vancouver-Hillsboro, OR-WA</td>\n",
       "      <td>2226009</td>\n",
       "      <td>1927881</td>\n",
       "    </tr>\n",
       "    <tr>\n",
       "      <th>297</th>\n",
       "      <td>41700</td>\n",
       "      <td>San Antonio-New Braunfels, TX</td>\n",
       "      <td>2142508</td>\n",
       "      <td>1711703</td>\n",
       "    </tr>\n",
       "    <tr>\n",
       "      <th>298</th>\n",
       "      <td>41740</td>\n",
       "      <td>San Diego-Carlsbad-San Marcos, CA</td>\n",
       "      <td>3095313</td>\n",
       "      <td>2813833</td>\n",
       "    </tr>\n",
       "    <tr>\n",
       "      <th>300</th>\n",
       "      <td>41860</td>\n",
       "      <td>San Francisco-Oakland-Fremont, CA</td>\n",
       "      <td>4335391</td>\n",
       "      <td>4123740</td>\n",
       "    </tr>\n",
       "    <tr>\n",
       "      <th>309</th>\n",
       "      <td>42660</td>\n",
       "      <td>Seattle-Tacoma-Bellevue, WA</td>\n",
       "      <td>3439809</td>\n",
       "      <td>3043878</td>\n",
       "    </tr>\n",
       "    <tr>\n",
       "      <th>348</th>\n",
       "      <td>47900</td>\n",
       "      <td>Washington-Arlington-Alexandria, DC-VA-MD-WV</td>\n",
       "      <td>5582170</td>\n",
       "      <td>4796183</td>\n",
       "    </tr>\n",
       "  </tbody>\n",
       "</table>\n",
       "</div>"
      ],
      "text/plain": [
       "      CBSA                                         City_Metro  \\\n",
       "17   12060                 Atlanta-Sandy Springs-Marietta, GA   \n",
       "40   14460                     Boston-Cambridge-Quincy, MA-NH   \n",
       "47   15380                          Buffalo-Niagara Falls, NY   \n",
       "63   16980                Chicago-Joliet-Naperville, IL-IN-WI   \n",
       "65   17140                    Cincinnati-Middletown, OH-KY-IN   \n",
       "81   19100                    Dallas-Fort Worth-Arlington, TX   \n",
       "90   19740                       Denver-Aurora-Broomfield, CO   \n",
       "92   19820                         Detroit-Warren-Livonia, MI   \n",
       "148  26420                     Houston-Sugar Land-Baytown, TX   \n",
       "152  26900                            Indianapolis-Carmel, IN   \n",
       "168  28140                                 Kansas City, MO-KS   \n",
       "185  29820                             Las Vegas-Paradise, NV   \n",
       "198  31080               Los Angeles-Long Beach-Santa Ana, CA   \n",
       "199  31140                 Louisville/Jefferson County, KY-IN   \n",
       "211  32820                                  Memphis, TN-MS-AR   \n",
       "213  33100            Miami-Fort Lauderdale-Pompano Beach, FL   \n",
       "216  33340                  Milwaukee-Waukesha-West Allis, WI   \n",
       "217  33460            Minneapolis-St. Paul-Bloomington, MN-WI   \n",
       "232  34980     Nashville-Davidson--Murfreesboro--Franklin, TN   \n",
       "234  35380                    New Orleans-Metairie-Kenner, LA   \n",
       "235  35620  New York-Northern New Jersey-Long Island, NY-N...   \n",
       "246  36740                      Orlando-Kissimmee-Sanford, FL   \n",
       "257  37980        Philadelphia-Camden-Wilmington, PA-NJ-DE-MD   \n",
       "258  38060                          Phoenix-Mesa-Glendale, AZ   \n",
       "264  38900                Portland-Vancouver-Hillsboro, OR-WA   \n",
       "297  41700                      San Antonio-New Braunfels, TX   \n",
       "298  41740                  San Diego-Carlsbad-San Marcos, CA   \n",
       "300  41860                  San Francisco-Oakland-Fremont, CA   \n",
       "309  42660                        Seattle-Tacoma-Bellevue, WA   \n",
       "348  47900       Washington-Arlington-Alexandria, DC-VA-MD-WV   \n",
       "\n",
       "     Population_2010  Population_2000  \n",
       "17           5268860          4247981  \n",
       "40           4552402          4391344  \n",
       "47           1135509          1170111  \n",
       "63           9461105          9098316  \n",
       "65           2130151          2009632  \n",
       "81           6371773          5161544  \n",
       "90           2543482          2179240  \n",
       "92           4296250          4452557  \n",
       "148          5946800          4715407  \n",
       "152          1756241          1525104  \n",
       "168          2035334          1836038  \n",
       "185          1951269          1375765  \n",
       "198         12828837         12365627  \n",
       "199          1283566          1161975  \n",
       "211          1316100          1205204  \n",
       "213          5564635          5007564  \n",
       "216          1555908          1500741  \n",
       "217          3279833          2968806  \n",
       "232          1589934          1311789  \n",
       "234          1167764          1316510  \n",
       "235         18897109         18323002  \n",
       "246          2134411          1644561  \n",
       "257          5965343          5687147  \n",
       "258          4192887          3251876  \n",
       "264          2226009          1927881  \n",
       "297          2142508          1711703  \n",
       "298          3095313          2813833  \n",
       "300          4335391          4123740  \n",
       "309          3439809          3043878  \n",
       "348          5582170          4796183  "
      ]
     },
     "execution_count": 902,
     "metadata": {},
     "output_type": "execute_result"
    }
   ],
   "source": [
    "DF2_Metro_Pop2000"
   ]
  },
  {
   "cell_type": "code",
   "execution_count": 903,
   "metadata": {},
   "outputs": [],
   "source": [
    "Merged_Data = pd.merge(DF1_MetPop2020, DF2_Metro_Pop2000, on=['CBSA'], how='outer')"
   ]
  },
  {
   "cell_type": "code",
   "execution_count": 904,
   "metadata": {},
   "outputs": [
    {
     "data": {
      "text/html": [
       "<div>\n",
       "<style scoped>\n",
       "    .dataframe tbody tr th:only-of-type {\n",
       "        vertical-align: middle;\n",
       "    }\n",
       "\n",
       "    .dataframe tbody tr th {\n",
       "        vertical-align: top;\n",
       "    }\n",
       "\n",
       "    .dataframe thead th {\n",
       "        text-align: right;\n",
       "    }\n",
       "</style>\n",
       "<table border=\"1\" class=\"dataframe\">\n",
       "  <thead>\n",
       "    <tr style=\"text-align: right;\">\n",
       "      <th></th>\n",
       "      <th>CBSA</th>\n",
       "      <th>City_Metro_x</th>\n",
       "      <th>LSAD</th>\n",
       "      <th>Date</th>\n",
       "      <th>Population</th>\n",
       "      <th>Male_Population</th>\n",
       "      <th>Female_Population</th>\n",
       "      <th>Median_Age_Total</th>\n",
       "      <th>Median_Age_Male</th>\n",
       "      <th>Median_Age_Female</th>\n",
       "      <th>City_Metro_y</th>\n",
       "      <th>Population_2010</th>\n",
       "      <th>Population_2000</th>\n",
       "    </tr>\n",
       "  </thead>\n",
       "  <tbody>\n",
       "    <tr>\n",
       "      <th>0</th>\n",
       "      <td>12060</td>\n",
       "      <td>Atlanta-Sandy Springs-Alpharetta, GA</td>\n",
       "      <td>Metropolitan Statistical Area</td>\n",
       "      <td>1</td>\n",
       "      <td>6089815</td>\n",
       "      <td>2957470</td>\n",
       "      <td>3132345</td>\n",
       "      <td>36.9</td>\n",
       "      <td>35.9</td>\n",
       "      <td>37.9</td>\n",
       "      <td>Atlanta-Sandy Springs-Marietta, GA</td>\n",
       "      <td>5268860</td>\n",
       "      <td>4247981</td>\n",
       "    </tr>\n",
       "    <tr>\n",
       "      <th>1</th>\n",
       "      <td>14460</td>\n",
       "      <td>Boston-Cambridge-Newton, MA-NH</td>\n",
       "      <td>Metropolitan Statistical Area</td>\n",
       "      <td>1</td>\n",
       "      <td>4941632</td>\n",
       "      <td>2418046</td>\n",
       "      <td>2523586</td>\n",
       "      <td>38.8</td>\n",
       "      <td>37.8</td>\n",
       "      <td>39.9</td>\n",
       "      <td>Boston-Cambridge-Quincy, MA-NH</td>\n",
       "      <td>4552402</td>\n",
       "      <td>4391344</td>\n",
       "    </tr>\n",
       "    <tr>\n",
       "      <th>2</th>\n",
       "      <td>15380</td>\n",
       "      <td>Buffalo-Cheektowaga, NY</td>\n",
       "      <td>Metropolitan Statistical Area</td>\n",
       "      <td>1</td>\n",
       "      <td>1166902</td>\n",
       "      <td>569707</td>\n",
       "      <td>597195</td>\n",
       "      <td>40.8</td>\n",
       "      <td>39.4</td>\n",
       "      <td>42.3</td>\n",
       "      <td>Buffalo-Niagara Falls, NY</td>\n",
       "      <td>1135509</td>\n",
       "      <td>1170111</td>\n",
       "    </tr>\n",
       "    <tr>\n",
       "      <th>3</th>\n",
       "      <td>16980</td>\n",
       "      <td>Chicago-Naperville-Elgin, IL-IN-WI</td>\n",
       "      <td>Metropolitan Statistical Area</td>\n",
       "      <td>1</td>\n",
       "      <td>9618502</td>\n",
       "      <td>4739937</td>\n",
       "      <td>4878565</td>\n",
       "      <td>38.1</td>\n",
       "      <td>37.1</td>\n",
       "      <td>39.1</td>\n",
       "      <td>Chicago-Joliet-Naperville, IL-IN-WI</td>\n",
       "      <td>9461105</td>\n",
       "      <td>9098316</td>\n",
       "    </tr>\n",
       "    <tr>\n",
       "      <th>4</th>\n",
       "      <td>17140</td>\n",
       "      <td>Cincinnati, OH-KY-IN</td>\n",
       "      <td>Metropolitan Statistical Area</td>\n",
       "      <td>1</td>\n",
       "      <td>2256884</td>\n",
       "      <td>1114630</td>\n",
       "      <td>1142254</td>\n",
       "      <td>38.1</td>\n",
       "      <td>37.1</td>\n",
       "      <td>39.1</td>\n",
       "      <td>Cincinnati-Middletown, OH-KY-IN</td>\n",
       "      <td>2130151</td>\n",
       "      <td>2009632</td>\n",
       "    </tr>\n",
       "    <tr>\n",
       "      <th>5</th>\n",
       "      <td>19100</td>\n",
       "      <td>Dallas-Fort Worth-Arlington, TX</td>\n",
       "      <td>Metropolitan Statistical Area</td>\n",
       "      <td>1</td>\n",
       "      <td>7637387</td>\n",
       "      <td>3779275</td>\n",
       "      <td>3858112</td>\n",
       "      <td>35.3</td>\n",
       "      <td>34.6</td>\n",
       "      <td>35.9</td>\n",
       "      <td>Dallas-Fort Worth-Arlington, TX</td>\n",
       "      <td>6371773</td>\n",
       "      <td>5161544</td>\n",
       "    </tr>\n",
       "    <tr>\n",
       "      <th>6</th>\n",
       "      <td>19740</td>\n",
       "      <td>Denver-Aurora-Lakewood, CO</td>\n",
       "      <td>Metropolitan Statistical Area</td>\n",
       "      <td>1</td>\n",
       "      <td>2963821</td>\n",
       "      <td>1492321</td>\n",
       "      <td>1471500</td>\n",
       "      <td>36.9</td>\n",
       "      <td>36.4</td>\n",
       "      <td>37.5</td>\n",
       "      <td>Denver-Aurora-Broomfield, CO</td>\n",
       "      <td>2543482</td>\n",
       "      <td>2179240</td>\n",
       "    </tr>\n",
       "    <tr>\n",
       "      <th>7</th>\n",
       "      <td>19820</td>\n",
       "      <td>Detroit-Warren-Dearborn, MI</td>\n",
       "      <td>Metropolitan Statistical Area</td>\n",
       "      <td>1</td>\n",
       "      <td>4392041</td>\n",
       "      <td>2153747</td>\n",
       "      <td>2238294</td>\n",
       "      <td>40.1</td>\n",
       "      <td>38.7</td>\n",
       "      <td>41.4</td>\n",
       "      <td>Detroit-Warren-Livonia, MI</td>\n",
       "      <td>4296250</td>\n",
       "      <td>4452557</td>\n",
       "    </tr>\n",
       "    <tr>\n",
       "      <th>8</th>\n",
       "      <td>26420</td>\n",
       "      <td>Houston-The Woodlands-Sugar Land, TX</td>\n",
       "      <td>Metropolitan Statistical Area</td>\n",
       "      <td>1</td>\n",
       "      <td>7122240</td>\n",
       "      <td>3548196</td>\n",
       "      <td>3574044</td>\n",
       "      <td>35.0</td>\n",
       "      <td>34.4</td>\n",
       "      <td>35.5</td>\n",
       "      <td>Houston-Sugar Land-Baytown, TX</td>\n",
       "      <td>5946800</td>\n",
       "      <td>4715407</td>\n",
       "    </tr>\n",
       "    <tr>\n",
       "      <th>9</th>\n",
       "      <td>26900</td>\n",
       "      <td>Indianapolis-Carmel-Anderson, IN</td>\n",
       "      <td>Metropolitan Statistical Area</td>\n",
       "      <td>1</td>\n",
       "      <td>2111040</td>\n",
       "      <td>1038774</td>\n",
       "      <td>1072266</td>\n",
       "      <td>36.7</td>\n",
       "      <td>35.8</td>\n",
       "      <td>37.6</td>\n",
       "      <td>Indianapolis-Carmel, IN</td>\n",
       "      <td>1756241</td>\n",
       "      <td>1525104</td>\n",
       "    </tr>\n",
       "    <tr>\n",
       "      <th>10</th>\n",
       "      <td>28140</td>\n",
       "      <td>Kansas City, MO-KS</td>\n",
       "      <td>Metropolitan Statistical Area</td>\n",
       "      <td>1</td>\n",
       "      <td>2192035</td>\n",
       "      <td>1082767</td>\n",
       "      <td>1109268</td>\n",
       "      <td>37.7</td>\n",
       "      <td>36.8</td>\n",
       "      <td>38.6</td>\n",
       "      <td>Kansas City, MO-KS</td>\n",
       "      <td>2035334</td>\n",
       "      <td>1836038</td>\n",
       "    </tr>\n",
       "    <tr>\n",
       "      <th>11</th>\n",
       "      <td>29820</td>\n",
       "      <td>Las Vegas-Henderson-Paradise, NV</td>\n",
       "      <td>Metropolitan Statistical Area</td>\n",
       "      <td>1</td>\n",
       "      <td>2265461</td>\n",
       "      <td>1134726</td>\n",
       "      <td>1130735</td>\n",
       "      <td>37.8</td>\n",
       "      <td>37.3</td>\n",
       "      <td>38.3</td>\n",
       "      <td>Las Vegas-Paradise, NV</td>\n",
       "      <td>1951269</td>\n",
       "      <td>1375765</td>\n",
       "    </tr>\n",
       "    <tr>\n",
       "      <th>12</th>\n",
       "      <td>31080</td>\n",
       "      <td>Los Angeles-Long Beach-Anaheim, CA</td>\n",
       "      <td>Metropolitan Statistical Area</td>\n",
       "      <td>1</td>\n",
       "      <td>13200998</td>\n",
       "      <td>6546539</td>\n",
       "      <td>6654459</td>\n",
       "      <td>37.6</td>\n",
       "      <td>36.7</td>\n",
       "      <td>38.6</td>\n",
       "      <td>Los Angeles-Long Beach-Santa Ana, CA</td>\n",
       "      <td>12828837</td>\n",
       "      <td>12365627</td>\n",
       "    </tr>\n",
       "    <tr>\n",
       "      <th>13</th>\n",
       "      <td>31140</td>\n",
       "      <td>Louisville/Jefferson County, KY-IN</td>\n",
       "      <td>Metropolitan Statistical Area</td>\n",
       "      <td>1</td>\n",
       "      <td>1285439</td>\n",
       "      <td>631705</td>\n",
       "      <td>653734</td>\n",
       "      <td>39.2</td>\n",
       "      <td>38.1</td>\n",
       "      <td>40.3</td>\n",
       "      <td>Louisville/Jefferson County, KY-IN</td>\n",
       "      <td>1283566</td>\n",
       "      <td>1161975</td>\n",
       "    </tr>\n",
       "    <tr>\n",
       "      <th>14</th>\n",
       "      <td>32820</td>\n",
       "      <td>Memphis, TN-MS-AR</td>\n",
       "      <td>Metropolitan Statistical Area</td>\n",
       "      <td>1</td>\n",
       "      <td>1337779</td>\n",
       "      <td>641509</td>\n",
       "      <td>696270</td>\n",
       "      <td>36.6</td>\n",
       "      <td>35.2</td>\n",
       "      <td>37.9</td>\n",
       "      <td>Memphis, TN-MS-AR</td>\n",
       "      <td>1316100</td>\n",
       "      <td>1205204</td>\n",
       "    </tr>\n",
       "    <tr>\n",
       "      <th>15</th>\n",
       "      <td>33100</td>\n",
       "      <td>Miami-Fort Lauderdale-Pompano Beach, FL</td>\n",
       "      <td>Metropolitan Statistical Area</td>\n",
       "      <td>1</td>\n",
       "      <td>6138333</td>\n",
       "      <td>3005123</td>\n",
       "      <td>3133210</td>\n",
       "      <td>41.6</td>\n",
       "      <td>40.3</td>\n",
       "      <td>42.9</td>\n",
       "      <td>Miami-Fort Lauderdale-Pompano Beach, FL</td>\n",
       "      <td>5564635</td>\n",
       "      <td>5007564</td>\n",
       "    </tr>\n",
       "    <tr>\n",
       "      <th>16</th>\n",
       "      <td>33340</td>\n",
       "      <td>Milwaukee-Waukesha, WI</td>\n",
       "      <td>Metropolitan Statistical Area</td>\n",
       "      <td>1</td>\n",
       "      <td>1574731</td>\n",
       "      <td>772689</td>\n",
       "      <td>802042</td>\n",
       "      <td>38.3</td>\n",
       "      <td>37.4</td>\n",
       "      <td>39.2</td>\n",
       "      <td>Milwaukee-Waukesha-West Allis, WI</td>\n",
       "      <td>1555908</td>\n",
       "      <td>1500741</td>\n",
       "    </tr>\n",
       "    <tr>\n",
       "      <th>17</th>\n",
       "      <td>33460</td>\n",
       "      <td>Minneapolis-St. Paul-Bloomington, MN-WI</td>\n",
       "      <td>Metropolitan Statistical Area</td>\n",
       "      <td>1</td>\n",
       "      <td>3690261</td>\n",
       "      <td>1841756</td>\n",
       "      <td>1848505</td>\n",
       "      <td>37.5</td>\n",
       "      <td>36.9</td>\n",
       "      <td>38.2</td>\n",
       "      <td>Minneapolis-St. Paul-Bloomington, MN-WI</td>\n",
       "      <td>3279833</td>\n",
       "      <td>2968806</td>\n",
       "    </tr>\n",
       "    <tr>\n",
       "      <th>18</th>\n",
       "      <td>34980</td>\n",
       "      <td>Nashville-Davidson--Murfreesboro--Franklin, TN</td>\n",
       "      <td>Metropolitan Statistical Area</td>\n",
       "      <td>1</td>\n",
       "      <td>1989519</td>\n",
       "      <td>975573</td>\n",
       "      <td>1013946</td>\n",
       "      <td>36.8</td>\n",
       "      <td>36.0</td>\n",
       "      <td>37.4</td>\n",
       "      <td>Nashville-Davidson--Murfreesboro--Franklin, TN</td>\n",
       "      <td>1589934</td>\n",
       "      <td>1311789</td>\n",
       "    </tr>\n",
       "    <tr>\n",
       "      <th>19</th>\n",
       "      <td>35380</td>\n",
       "      <td>New Orleans-Metairie, LA</td>\n",
       "      <td>Metropolitan Statistical Area</td>\n",
       "      <td>1</td>\n",
       "      <td>1271845</td>\n",
       "      <td>616081</td>\n",
       "      <td>655764</td>\n",
       "      <td>39.0</td>\n",
       "      <td>38.1</td>\n",
       "      <td>39.9</td>\n",
       "      <td>New Orleans-Metairie-Kenner, LA</td>\n",
       "      <td>1167764</td>\n",
       "      <td>1316510</td>\n",
       "    </tr>\n",
       "    <tr>\n",
       "      <th>20</th>\n",
       "      <td>35620</td>\n",
       "      <td>New York-Newark-Jersey City, NY-NJ-PA</td>\n",
       "      <td>Metropolitan Statistical Area</td>\n",
       "      <td>1</td>\n",
       "      <td>20140470</td>\n",
       "      <td>9811780</td>\n",
       "      <td>10328690</td>\n",
       "      <td>39.0</td>\n",
       "      <td>37.8</td>\n",
       "      <td>40.3</td>\n",
       "      <td>New York-Northern New Jersey-Long Island, NY-N...</td>\n",
       "      <td>18897109</td>\n",
       "      <td>18323002</td>\n",
       "    </tr>\n",
       "    <tr>\n",
       "      <th>21</th>\n",
       "      <td>36740</td>\n",
       "      <td>Orlando-Kissimmee-Sanford, FL</td>\n",
       "      <td>Metropolitan Statistical Area</td>\n",
       "      <td>1</td>\n",
       "      <td>2673376</td>\n",
       "      <td>1314143</td>\n",
       "      <td>1359233</td>\n",
       "      <td>37.9</td>\n",
       "      <td>37.0</td>\n",
       "      <td>38.8</td>\n",
       "      <td>Orlando-Kissimmee-Sanford, FL</td>\n",
       "      <td>2134411</td>\n",
       "      <td>1644561</td>\n",
       "    </tr>\n",
       "    <tr>\n",
       "      <th>22</th>\n",
       "      <td>37980</td>\n",
       "      <td>Philadelphia-Camden-Wilmington, PA-NJ-DE-MD</td>\n",
       "      <td>Metropolitan Statistical Area</td>\n",
       "      <td>1</td>\n",
       "      <td>6245051</td>\n",
       "      <td>3040403</td>\n",
       "      <td>3204648</td>\n",
       "      <td>39.0</td>\n",
       "      <td>37.7</td>\n",
       "      <td>40.3</td>\n",
       "      <td>Philadelphia-Camden-Wilmington, PA-NJ-DE-MD</td>\n",
       "      <td>5965343</td>\n",
       "      <td>5687147</td>\n",
       "    </tr>\n",
       "    <tr>\n",
       "      <th>23</th>\n",
       "      <td>38060</td>\n",
       "      <td>Phoenix-Mesa-Chandler, AZ</td>\n",
       "      <td>Metropolitan Statistical Area</td>\n",
       "      <td>1</td>\n",
       "      <td>4845832</td>\n",
       "      <td>2418925</td>\n",
       "      <td>2426907</td>\n",
       "      <td>37.3</td>\n",
       "      <td>36.4</td>\n",
       "      <td>38.3</td>\n",
       "      <td>Phoenix-Mesa-Glendale, AZ</td>\n",
       "      <td>4192887</td>\n",
       "      <td>3251876</td>\n",
       "    </tr>\n",
       "    <tr>\n",
       "      <th>24</th>\n",
       "      <td>38900</td>\n",
       "      <td>Portland-Vancouver-Hillsboro, OR-WA</td>\n",
       "      <td>Metropolitan Statistical Area</td>\n",
       "      <td>1</td>\n",
       "      <td>2512859</td>\n",
       "      <td>1251332</td>\n",
       "      <td>1261527</td>\n",
       "      <td>38.7</td>\n",
       "      <td>38.0</td>\n",
       "      <td>39.3</td>\n",
       "      <td>Portland-Vancouver-Hillsboro, OR-WA</td>\n",
       "      <td>2226009</td>\n",
       "      <td>1927881</td>\n",
       "    </tr>\n",
       "    <tr>\n",
       "      <th>25</th>\n",
       "      <td>41700</td>\n",
       "      <td>San Antonio-New Braunfels, TX</td>\n",
       "      <td>Metropolitan Statistical Area</td>\n",
       "      <td>1</td>\n",
       "      <td>2558143</td>\n",
       "      <td>1272145</td>\n",
       "      <td>1285998</td>\n",
       "      <td>35.3</td>\n",
       "      <td>34.4</td>\n",
       "      <td>36.3</td>\n",
       "      <td>San Antonio-New Braunfels, TX</td>\n",
       "      <td>2142508</td>\n",
       "      <td>1711703</td>\n",
       "    </tr>\n",
       "    <tr>\n",
       "      <th>26</th>\n",
       "      <td>41740</td>\n",
       "      <td>San Diego-Chula Vista-Carlsbad, CA</td>\n",
       "      <td>Metropolitan Statistical Area</td>\n",
       "      <td>1</td>\n",
       "      <td>3298634</td>\n",
       "      <td>1671043</td>\n",
       "      <td>1627591</td>\n",
       "      <td>36.5</td>\n",
       "      <td>35.5</td>\n",
       "      <td>37.7</td>\n",
       "      <td>San Diego-Carlsbad-San Marcos, CA</td>\n",
       "      <td>3095313</td>\n",
       "      <td>2813833</td>\n",
       "    </tr>\n",
       "    <tr>\n",
       "      <th>27</th>\n",
       "      <td>41860</td>\n",
       "      <td>San Francisco-Oakland-Berkeley, CA</td>\n",
       "      <td>Metropolitan Statistical Area</td>\n",
       "      <td>1</td>\n",
       "      <td>4749008</td>\n",
       "      <td>2365423</td>\n",
       "      <td>2383585</td>\n",
       "      <td>39.3</td>\n",
       "      <td>38.6</td>\n",
       "      <td>40.1</td>\n",
       "      <td>San Francisco-Oakland-Fremont, CA</td>\n",
       "      <td>4335391</td>\n",
       "      <td>4123740</td>\n",
       "    </tr>\n",
       "    <tr>\n",
       "      <th>28</th>\n",
       "      <td>42660</td>\n",
       "      <td>Seattle-Tacoma-Bellevue, WA</td>\n",
       "      <td>Metropolitan Statistical Area</td>\n",
       "      <td>1</td>\n",
       "      <td>4018762</td>\n",
       "      <td>2029293</td>\n",
       "      <td>1989469</td>\n",
       "      <td>37.2</td>\n",
       "      <td>36.5</td>\n",
       "      <td>37.9</td>\n",
       "      <td>Seattle-Tacoma-Bellevue, WA</td>\n",
       "      <td>3439809</td>\n",
       "      <td>3043878</td>\n",
       "    </tr>\n",
       "    <tr>\n",
       "      <th>29</th>\n",
       "      <td>47900</td>\n",
       "      <td>Washington-Arlington-Alexandria, DC-VA-MD-WV</td>\n",
       "      <td>Metropolitan Statistical Area</td>\n",
       "      <td>1</td>\n",
       "      <td>6385162</td>\n",
       "      <td>3141717</td>\n",
       "      <td>3243445</td>\n",
       "      <td>37.6</td>\n",
       "      <td>36.8</td>\n",
       "      <td>38.3</td>\n",
       "      <td>Washington-Arlington-Alexandria, DC-VA-MD-WV</td>\n",
       "      <td>5582170</td>\n",
       "      <td>4796183</td>\n",
       "    </tr>\n",
       "  </tbody>\n",
       "</table>\n",
       "</div>"
      ],
      "text/plain": [
       "     CBSA                                    City_Metro_x  \\\n",
       "0   12060            Atlanta-Sandy Springs-Alpharetta, GA   \n",
       "1   14460                  Boston-Cambridge-Newton, MA-NH   \n",
       "2   15380                         Buffalo-Cheektowaga, NY   \n",
       "3   16980              Chicago-Naperville-Elgin, IL-IN-WI   \n",
       "4   17140                            Cincinnati, OH-KY-IN   \n",
       "5   19100                 Dallas-Fort Worth-Arlington, TX   \n",
       "6   19740                      Denver-Aurora-Lakewood, CO   \n",
       "7   19820                     Detroit-Warren-Dearborn, MI   \n",
       "8   26420            Houston-The Woodlands-Sugar Land, TX   \n",
       "9   26900                Indianapolis-Carmel-Anderson, IN   \n",
       "10  28140                              Kansas City, MO-KS   \n",
       "11  29820                Las Vegas-Henderson-Paradise, NV   \n",
       "12  31080              Los Angeles-Long Beach-Anaheim, CA   \n",
       "13  31140              Louisville/Jefferson County, KY-IN   \n",
       "14  32820                               Memphis, TN-MS-AR   \n",
       "15  33100         Miami-Fort Lauderdale-Pompano Beach, FL   \n",
       "16  33340                          Milwaukee-Waukesha, WI   \n",
       "17  33460         Minneapolis-St. Paul-Bloomington, MN-WI   \n",
       "18  34980  Nashville-Davidson--Murfreesboro--Franklin, TN   \n",
       "19  35380                        New Orleans-Metairie, LA   \n",
       "20  35620           New York-Newark-Jersey City, NY-NJ-PA   \n",
       "21  36740                   Orlando-Kissimmee-Sanford, FL   \n",
       "22  37980     Philadelphia-Camden-Wilmington, PA-NJ-DE-MD   \n",
       "23  38060                       Phoenix-Mesa-Chandler, AZ   \n",
       "24  38900             Portland-Vancouver-Hillsboro, OR-WA   \n",
       "25  41700                   San Antonio-New Braunfels, TX   \n",
       "26  41740              San Diego-Chula Vista-Carlsbad, CA   \n",
       "27  41860              San Francisco-Oakland-Berkeley, CA   \n",
       "28  42660                     Seattle-Tacoma-Bellevue, WA   \n",
       "29  47900    Washington-Arlington-Alexandria, DC-VA-MD-WV   \n",
       "\n",
       "                             LSAD  Date  Population  Male_Population  \\\n",
       "0   Metropolitan Statistical Area     1     6089815          2957470   \n",
       "1   Metropolitan Statistical Area     1     4941632          2418046   \n",
       "2   Metropolitan Statistical Area     1     1166902           569707   \n",
       "3   Metropolitan Statistical Area     1     9618502          4739937   \n",
       "4   Metropolitan Statistical Area     1     2256884          1114630   \n",
       "5   Metropolitan Statistical Area     1     7637387          3779275   \n",
       "6   Metropolitan Statistical Area     1     2963821          1492321   \n",
       "7   Metropolitan Statistical Area     1     4392041          2153747   \n",
       "8   Metropolitan Statistical Area     1     7122240          3548196   \n",
       "9   Metropolitan Statistical Area     1     2111040          1038774   \n",
       "10  Metropolitan Statistical Area     1     2192035          1082767   \n",
       "11  Metropolitan Statistical Area     1     2265461          1134726   \n",
       "12  Metropolitan Statistical Area     1    13200998          6546539   \n",
       "13  Metropolitan Statistical Area     1     1285439           631705   \n",
       "14  Metropolitan Statistical Area     1     1337779           641509   \n",
       "15  Metropolitan Statistical Area     1     6138333          3005123   \n",
       "16  Metropolitan Statistical Area     1     1574731           772689   \n",
       "17  Metropolitan Statistical Area     1     3690261          1841756   \n",
       "18  Metropolitan Statistical Area     1     1989519           975573   \n",
       "19  Metropolitan Statistical Area     1     1271845           616081   \n",
       "20  Metropolitan Statistical Area     1    20140470          9811780   \n",
       "21  Metropolitan Statistical Area     1     2673376          1314143   \n",
       "22  Metropolitan Statistical Area     1     6245051          3040403   \n",
       "23  Metropolitan Statistical Area     1     4845832          2418925   \n",
       "24  Metropolitan Statistical Area     1     2512859          1251332   \n",
       "25  Metropolitan Statistical Area     1     2558143          1272145   \n",
       "26  Metropolitan Statistical Area     1     3298634          1671043   \n",
       "27  Metropolitan Statistical Area     1     4749008          2365423   \n",
       "28  Metropolitan Statistical Area     1     4018762          2029293   \n",
       "29  Metropolitan Statistical Area     1     6385162          3141717   \n",
       "\n",
       "    Female_Population  Median_Age_Total  Median_Age_Male  Median_Age_Female  \\\n",
       "0             3132345              36.9             35.9               37.9   \n",
       "1             2523586              38.8             37.8               39.9   \n",
       "2              597195              40.8             39.4               42.3   \n",
       "3             4878565              38.1             37.1               39.1   \n",
       "4             1142254              38.1             37.1               39.1   \n",
       "5             3858112              35.3             34.6               35.9   \n",
       "6             1471500              36.9             36.4               37.5   \n",
       "7             2238294              40.1             38.7               41.4   \n",
       "8             3574044              35.0             34.4               35.5   \n",
       "9             1072266              36.7             35.8               37.6   \n",
       "10            1109268              37.7             36.8               38.6   \n",
       "11            1130735              37.8             37.3               38.3   \n",
       "12            6654459              37.6             36.7               38.6   \n",
       "13             653734              39.2             38.1               40.3   \n",
       "14             696270              36.6             35.2               37.9   \n",
       "15            3133210              41.6             40.3               42.9   \n",
       "16             802042              38.3             37.4               39.2   \n",
       "17            1848505              37.5             36.9               38.2   \n",
       "18            1013946              36.8             36.0               37.4   \n",
       "19             655764              39.0             38.1               39.9   \n",
       "20           10328690              39.0             37.8               40.3   \n",
       "21            1359233              37.9             37.0               38.8   \n",
       "22            3204648              39.0             37.7               40.3   \n",
       "23            2426907              37.3             36.4               38.3   \n",
       "24            1261527              38.7             38.0               39.3   \n",
       "25            1285998              35.3             34.4               36.3   \n",
       "26            1627591              36.5             35.5               37.7   \n",
       "27            2383585              39.3             38.6               40.1   \n",
       "28            1989469              37.2             36.5               37.9   \n",
       "29            3243445              37.6             36.8               38.3   \n",
       "\n",
       "                                         City_Metro_y  Population_2010  \\\n",
       "0                  Atlanta-Sandy Springs-Marietta, GA          5268860   \n",
       "1                      Boston-Cambridge-Quincy, MA-NH          4552402   \n",
       "2                           Buffalo-Niagara Falls, NY          1135509   \n",
       "3                 Chicago-Joliet-Naperville, IL-IN-WI          9461105   \n",
       "4                     Cincinnati-Middletown, OH-KY-IN          2130151   \n",
       "5                     Dallas-Fort Worth-Arlington, TX          6371773   \n",
       "6                        Denver-Aurora-Broomfield, CO          2543482   \n",
       "7                          Detroit-Warren-Livonia, MI          4296250   \n",
       "8                      Houston-Sugar Land-Baytown, TX          5946800   \n",
       "9                             Indianapolis-Carmel, IN          1756241   \n",
       "10                                 Kansas City, MO-KS          2035334   \n",
       "11                             Las Vegas-Paradise, NV          1951269   \n",
       "12               Los Angeles-Long Beach-Santa Ana, CA         12828837   \n",
       "13                 Louisville/Jefferson County, KY-IN          1283566   \n",
       "14                                  Memphis, TN-MS-AR          1316100   \n",
       "15            Miami-Fort Lauderdale-Pompano Beach, FL          5564635   \n",
       "16                  Milwaukee-Waukesha-West Allis, WI          1555908   \n",
       "17            Minneapolis-St. Paul-Bloomington, MN-WI          3279833   \n",
       "18     Nashville-Davidson--Murfreesboro--Franklin, TN          1589934   \n",
       "19                    New Orleans-Metairie-Kenner, LA          1167764   \n",
       "20  New York-Northern New Jersey-Long Island, NY-N...         18897109   \n",
       "21                      Orlando-Kissimmee-Sanford, FL          2134411   \n",
       "22        Philadelphia-Camden-Wilmington, PA-NJ-DE-MD          5965343   \n",
       "23                          Phoenix-Mesa-Glendale, AZ          4192887   \n",
       "24                Portland-Vancouver-Hillsboro, OR-WA          2226009   \n",
       "25                      San Antonio-New Braunfels, TX          2142508   \n",
       "26                  San Diego-Carlsbad-San Marcos, CA          3095313   \n",
       "27                  San Francisco-Oakland-Fremont, CA          4335391   \n",
       "28                        Seattle-Tacoma-Bellevue, WA          3439809   \n",
       "29       Washington-Arlington-Alexandria, DC-VA-MD-WV          5582170   \n",
       "\n",
       "    Population_2000  \n",
       "0           4247981  \n",
       "1           4391344  \n",
       "2           1170111  \n",
       "3           9098316  \n",
       "4           2009632  \n",
       "5           5161544  \n",
       "6           2179240  \n",
       "7           4452557  \n",
       "8           4715407  \n",
       "9           1525104  \n",
       "10          1836038  \n",
       "11          1375765  \n",
       "12         12365627  \n",
       "13          1161975  \n",
       "14          1205204  \n",
       "15          5007564  \n",
       "16          1500741  \n",
       "17          2968806  \n",
       "18          1311789  \n",
       "19          1316510  \n",
       "20         18323002  \n",
       "21          1644561  \n",
       "22          5687147  \n",
       "23          3251876  \n",
       "24          1927881  \n",
       "25          1711703  \n",
       "26          2813833  \n",
       "27          4123740  \n",
       "28          3043878  \n",
       "29          4796183  "
      ]
     },
     "execution_count": 904,
     "metadata": {},
     "output_type": "execute_result"
    }
   ],
   "source": [
    "Merged_Data"
   ]
  },
  {
   "cell_type": "code",
   "execution_count": null,
   "metadata": {},
   "outputs": [],
   "source": []
  }
 ],
 "metadata": {
  "kernelspec": {
   "display_name": "Python 3",
   "language": "python",
   "name": "python3"
  },
  "language_info": {
   "codemirror_mode": {
    "name": "ipython",
    "version": 3
   },
   "file_extension": ".py",
   "mimetype": "text/x-python",
   "name": "python",
   "nbconvert_exporter": "python",
   "pygments_lexer": "ipython3",
   "version": "3.11.0"
  },
  "orig_nbformat": 4,
  "vscode": {
   "interpreter": {
    "hash": "aee8b7b246df8f9039afb4144a1f6fd8d2ca17a180786b69acc140d282b71a49"
   }
  }
 },
 "nbformat": 4,
 "nbformat_minor": 2
}
