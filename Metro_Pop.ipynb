{
 "cells": [
  {
   "cell_type": "code",
   "execution_count": 1194,
   "metadata": {},
   "outputs": [],
   "source": [
    "# Import packages.\n",
    "import pandas as pd \n",
    "import numpy as np \n",
    "import plotly.express as px  "
   ]
  },
  {
   "cell_type": "code",
   "execution_count": 1195,
   "metadata": {},
   "outputs": [],
   "source": [
    "# Create DataFrame and use the 'usecols' function to select desired columns.\n",
    "Metro_Pop_2020_DF1 = pd.read_csv('Project_2_Data/US_Pop_2020_CSV.csv', usecols= ['CBSA', 'NAME', 'LSAD', 'DATE', 'POPESTIMATE', 'POPEST_MALE', 'POPEST_FEMALE', 'MEDIAN_AGE_TOTAL', 'MEDIAN_AGE_MALE', 'MEDIAN_AGE_FEMALE'])   "
   ]
  },
  {
   "cell_type": "code",
   "execution_count": 1196,
   "metadata": {},
   "outputs": [
    {
     "data": {
      "text/html": [
       "<div>\n",
       "<style scoped>\n",
       "    .dataframe tbody tr th:only-of-type {\n",
       "        vertical-align: middle;\n",
       "    }\n",
       "\n",
       "    .dataframe tbody tr th {\n",
       "        vertical-align: top;\n",
       "    }\n",
       "\n",
       "    .dataframe thead th {\n",
       "        text-align: right;\n",
       "    }\n",
       "</style>\n",
       "<table border=\"1\" class=\"dataframe\">\n",
       "  <thead>\n",
       "    <tr style=\"text-align: right;\">\n",
       "      <th></th>\n",
       "      <th>CBSA</th>\n",
       "      <th>NAME</th>\n",
       "      <th>LSAD</th>\n",
       "      <th>DATE</th>\n",
       "      <th>POPESTIMATE</th>\n",
       "      <th>POPEST_MALE</th>\n",
       "      <th>POPEST_FEMALE</th>\n",
       "      <th>MEDIAN_AGE_TOTAL</th>\n",
       "      <th>MEDIAN_AGE_MALE</th>\n",
       "      <th>MEDIAN_AGE_FEMALE</th>\n",
       "    </tr>\n",
       "  </thead>\n",
       "  <tbody>\n",
       "    <tr>\n",
       "      <th>0</th>\n",
       "      <td>10180</td>\n",
       "      <td>Abilene, TX</td>\n",
       "      <td>Metropolitan Statistical Area</td>\n",
       "      <td>1</td>\n",
       "      <td>176579</td>\n",
       "      <td>89269</td>\n",
       "      <td>87310</td>\n",
       "      <td>34.1</td>\n",
       "      <td>33.2</td>\n",
       "      <td>35.2</td>\n",
       "    </tr>\n",
       "    <tr>\n",
       "      <th>1</th>\n",
       "      <td>10180</td>\n",
       "      <td>Abilene, TX</td>\n",
       "      <td>Metropolitan Statistical Area</td>\n",
       "      <td>2</td>\n",
       "      <td>176809</td>\n",
       "      <td>89408</td>\n",
       "      <td>87401</td>\n",
       "      <td>34.2</td>\n",
       "      <td>33.2</td>\n",
       "      <td>35.2</td>\n",
       "    </tr>\n",
       "    <tr>\n",
       "      <th>2</th>\n",
       "      <td>10180</td>\n",
       "      <td>Abilene, TX</td>\n",
       "      <td>Metropolitan Statistical Area</td>\n",
       "      <td>3</td>\n",
       "      <td>177314</td>\n",
       "      <td>89671</td>\n",
       "      <td>87643</td>\n",
       "      <td>34.3</td>\n",
       "      <td>33.5</td>\n",
       "      <td>35.3</td>\n",
       "    </tr>\n",
       "    <tr>\n",
       "      <th>3</th>\n",
       "      <td>10420</td>\n",
       "      <td>Akron, OH</td>\n",
       "      <td>Metropolitan Statistical Area</td>\n",
       "      <td>1</td>\n",
       "      <td>702219</td>\n",
       "      <td>343286</td>\n",
       "      <td>358933</td>\n",
       "      <td>40.6</td>\n",
       "      <td>39.5</td>\n",
       "      <td>41.7</td>\n",
       "    </tr>\n",
       "    <tr>\n",
       "      <th>4</th>\n",
       "      <td>10420</td>\n",
       "      <td>Akron, OH</td>\n",
       "      <td>Metropolitan Statistical Area</td>\n",
       "      <td>2</td>\n",
       "      <td>701305</td>\n",
       "      <td>342719</td>\n",
       "      <td>358586</td>\n",
       "      <td>40.6</td>\n",
       "      <td>39.6</td>\n",
       "      <td>41.7</td>\n",
       "    </tr>\n",
       "  </tbody>\n",
       "</table>\n",
       "</div>"
      ],
      "text/plain": [
       "    CBSA         NAME                           LSAD  DATE  POPESTIMATE  \\\n",
       "0  10180  Abilene, TX  Metropolitan Statistical Area     1       176579   \n",
       "1  10180  Abilene, TX  Metropolitan Statistical Area     2       176809   \n",
       "2  10180  Abilene, TX  Metropolitan Statistical Area     3       177314   \n",
       "3  10420    Akron, OH  Metropolitan Statistical Area     1       702219   \n",
       "4  10420    Akron, OH  Metropolitan Statistical Area     2       701305   \n",
       "\n",
       "   POPEST_MALE  POPEST_FEMALE  MEDIAN_AGE_TOTAL  MEDIAN_AGE_MALE  \\\n",
       "0        89269          87310              34.1             33.2   \n",
       "1        89408          87401              34.2             33.2   \n",
       "2        89671          87643              34.3             33.5   \n",
       "3       343286         358933              40.6             39.5   \n",
       "4       342719         358586              40.6             39.6   \n",
       "\n",
       "   MEDIAN_AGE_FEMALE  \n",
       "0               35.2  \n",
       "1               35.2  \n",
       "2               35.3  \n",
       "3               41.7  \n",
       "4               41.7  "
      ]
     },
     "execution_count": 1196,
     "metadata": {},
     "output_type": "execute_result"
    }
   ],
   "source": [
    "Metro_Pop_2020_DF1.head() "
   ]
  },
  {
   "cell_type": "code",
   "execution_count": 1197,
   "metadata": {},
   "outputs": [
    {
     "name": "stdout",
     "output_type": "stream",
     "text": [
      "(2781, 10)\n",
      "CBSA                   int64\n",
      "NAME                  object\n",
      "LSAD                  object\n",
      "DATE                   int64\n",
      "POPESTIMATE            int64\n",
      "POPEST_MALE            int64\n",
      "POPEST_FEMALE          int64\n",
      "MEDIAN_AGE_TOTAL     float64\n",
      "MEDIAN_AGE_MALE      float64\n",
      "MEDIAN_AGE_FEMALE    float64\n",
      "dtype: object\n"
     ]
    }
   ],
   "source": [
    "Shape_Of_Master_MetPop_2020 = Metro_Pop_2020_DF1.shape\n",
    "print(Shape_Of_Master_MetPop_2020)\n",
    "Data_Types_Of_Master_MetPop_2020 = Metro_Pop_2020_DF1.dtypes\n",
    "print(Data_Types_Of_Master_MetPop_2020)"
   ]
  },
  {
   "cell_type": "code",
   "execution_count": 1198,
   "metadata": {},
   "outputs": [],
   "source": [
    "# Use the 'rename' function to modify column names. \n",
    "Metro_Pop_2020_DF1.rename(columns={'NAME': 'City_Metro', 'POPESTIMATE': 'Estimated_Population', 'POPESTIMATE': 'Population', 'DATE': 'Date', 'POPEST_MALE': 'Male_Population', 'POPEST_FEMALE': 'Female_Population', 'MEDIAN_AGE_TOTAL': 'Median_Age_Total', 'MEDIAN_AGE_MALE': 'Median_Age_Male', 'MEDIAN_AGE_FEMALE': 'Median_Age_Female'}, inplace= True) "
   ]
  },
  {
   "cell_type": "code",
   "execution_count": 1199,
   "metadata": {},
   "outputs": [
    {
     "data": {
      "text/html": [
       "<div>\n",
       "<style scoped>\n",
       "    .dataframe tbody tr th:only-of-type {\n",
       "        vertical-align: middle;\n",
       "    }\n",
       "\n",
       "    .dataframe tbody tr th {\n",
       "        vertical-align: top;\n",
       "    }\n",
       "\n",
       "    .dataframe thead th {\n",
       "        text-align: right;\n",
       "    }\n",
       "</style>\n",
       "<table border=\"1\" class=\"dataframe\">\n",
       "  <thead>\n",
       "    <tr style=\"text-align: right;\">\n",
       "      <th></th>\n",
       "      <th>CBSA</th>\n",
       "      <th>City_Metro</th>\n",
       "      <th>LSAD</th>\n",
       "      <th>Date</th>\n",
       "      <th>Population</th>\n",
       "      <th>Male_Population</th>\n",
       "      <th>Female_Population</th>\n",
       "      <th>Median_Age_Total</th>\n",
       "      <th>Median_Age_Male</th>\n",
       "      <th>Median_Age_Female</th>\n",
       "    </tr>\n",
       "  </thead>\n",
       "  <tbody>\n",
       "    <tr>\n",
       "      <th>0</th>\n",
       "      <td>10180</td>\n",
       "      <td>Abilene, TX</td>\n",
       "      <td>Metropolitan Statistical Area</td>\n",
       "      <td>1</td>\n",
       "      <td>176579</td>\n",
       "      <td>89269</td>\n",
       "      <td>87310</td>\n",
       "      <td>34.1</td>\n",
       "      <td>33.2</td>\n",
       "      <td>35.2</td>\n",
       "    </tr>\n",
       "    <tr>\n",
       "      <th>1</th>\n",
       "      <td>10180</td>\n",
       "      <td>Abilene, TX</td>\n",
       "      <td>Metropolitan Statistical Area</td>\n",
       "      <td>2</td>\n",
       "      <td>176809</td>\n",
       "      <td>89408</td>\n",
       "      <td>87401</td>\n",
       "      <td>34.2</td>\n",
       "      <td>33.2</td>\n",
       "      <td>35.2</td>\n",
       "    </tr>\n",
       "    <tr>\n",
       "      <th>2</th>\n",
       "      <td>10180</td>\n",
       "      <td>Abilene, TX</td>\n",
       "      <td>Metropolitan Statistical Area</td>\n",
       "      <td>3</td>\n",
       "      <td>177314</td>\n",
       "      <td>89671</td>\n",
       "      <td>87643</td>\n",
       "      <td>34.3</td>\n",
       "      <td>33.5</td>\n",
       "      <td>35.3</td>\n",
       "    </tr>\n",
       "    <tr>\n",
       "      <th>3</th>\n",
       "      <td>10420</td>\n",
       "      <td>Akron, OH</td>\n",
       "      <td>Metropolitan Statistical Area</td>\n",
       "      <td>1</td>\n",
       "      <td>702219</td>\n",
       "      <td>343286</td>\n",
       "      <td>358933</td>\n",
       "      <td>40.6</td>\n",
       "      <td>39.5</td>\n",
       "      <td>41.7</td>\n",
       "    </tr>\n",
       "    <tr>\n",
       "      <th>4</th>\n",
       "      <td>10420</td>\n",
       "      <td>Akron, OH</td>\n",
       "      <td>Metropolitan Statistical Area</td>\n",
       "      <td>2</td>\n",
       "      <td>701305</td>\n",
       "      <td>342719</td>\n",
       "      <td>358586</td>\n",
       "      <td>40.6</td>\n",
       "      <td>39.6</td>\n",
       "      <td>41.7</td>\n",
       "    </tr>\n",
       "  </tbody>\n",
       "</table>\n",
       "</div>"
      ],
      "text/plain": [
       "    CBSA   City_Metro                           LSAD  Date  Population  \\\n",
       "0  10180  Abilene, TX  Metropolitan Statistical Area     1      176579   \n",
       "1  10180  Abilene, TX  Metropolitan Statistical Area     2      176809   \n",
       "2  10180  Abilene, TX  Metropolitan Statistical Area     3      177314   \n",
       "3  10420    Akron, OH  Metropolitan Statistical Area     1      702219   \n",
       "4  10420    Akron, OH  Metropolitan Statistical Area     2      701305   \n",
       "\n",
       "   Male_Population  Female_Population  Median_Age_Total  Median_Age_Male  \\\n",
       "0            89269              87310              34.1             33.2   \n",
       "1            89408              87401              34.2             33.2   \n",
       "2            89671              87643              34.3             33.5   \n",
       "3           343286             358933              40.6             39.5   \n",
       "4           342719             358586              40.6             39.6   \n",
       "\n",
       "   Median_Age_Female  \n",
       "0               35.2  \n",
       "1               35.2  \n",
       "2               35.3  \n",
       "3               41.7  \n",
       "4               41.7  "
      ]
     },
     "execution_count": 1199,
     "metadata": {},
     "output_type": "execute_result"
    }
   ],
   "source": [
    "Metro_Pop_2020_DF1.head() "
   ]
  },
  {
   "cell_type": "code",
   "execution_count": 1200,
   "metadata": {},
   "outputs": [],
   "source": [
    "# Create new DataFrame and select specific portions of 'City/Metro' column using iloc. \n",
    "DF1_MetPop2020 = Metro_Pop_2020_DF1.iloc[[51, 126, 147, 204, 210, 258, 285, 291, 477, 489, 540, 591, 630, 633, 669, 675, 687, 690, 735, 744, 747, 780, 807, 810, 828, 927, 930, 933, 960, 1095]] "
   ]
  },
  {
   "cell_type": "code",
   "execution_count": 1201,
   "metadata": {},
   "outputs": [
    {
     "name": "stdout",
     "output_type": "stream",
     "text": [
      "(30, 10)\n",
      "CBSA                   int64\n",
      "City_Metro            object\n",
      "LSAD                  object\n",
      "Date                   int64\n",
      "Population             int64\n",
      "Male_Population        int64\n",
      "Female_Population      int64\n",
      "Median_Age_Total     float64\n",
      "Median_Age_Male      float64\n",
      "Median_Age_Female    float64\n",
      "dtype: object\n"
     ]
    }
   ],
   "source": [
    "# Visualizing and understanding data.\n",
    "Shape_of_MetPop2020 = DF1_MetPop2020.shape\n",
    "print(Shape_of_MetPop2020)\n",
    "Data_Types_of_MetPop2020 = DF1_MetPop2020.dtypes\n",
    "print(Data_Types_of_MetPop2020) "
   ]
  },
  {
   "cell_type": "code",
   "execution_count": 1202,
   "metadata": {},
   "outputs": [
    {
     "data": {
      "text/html": [
       "<div>\n",
       "<style scoped>\n",
       "    .dataframe tbody tr th:only-of-type {\n",
       "        vertical-align: middle;\n",
       "    }\n",
       "\n",
       "    .dataframe tbody tr th {\n",
       "        vertical-align: top;\n",
       "    }\n",
       "\n",
       "    .dataframe thead th {\n",
       "        text-align: right;\n",
       "    }\n",
       "</style>\n",
       "<table border=\"1\" class=\"dataframe\">\n",
       "  <thead>\n",
       "    <tr style=\"text-align: right;\">\n",
       "      <th></th>\n",
       "      <th>CBSA</th>\n",
       "      <th>City_Metro</th>\n",
       "      <th>LSAD</th>\n",
       "      <th>Date</th>\n",
       "      <th>Population</th>\n",
       "      <th>Male_Population</th>\n",
       "      <th>Female_Population</th>\n",
       "      <th>Median_Age_Total</th>\n",
       "      <th>Median_Age_Male</th>\n",
       "      <th>Median_Age_Female</th>\n",
       "    </tr>\n",
       "  </thead>\n",
       "  <tbody>\n",
       "    <tr>\n",
       "      <th>51</th>\n",
       "      <td>12060</td>\n",
       "      <td>Atlanta-Sandy Springs-Alpharetta, GA</td>\n",
       "      <td>Metropolitan Statistical Area</td>\n",
       "      <td>1</td>\n",
       "      <td>6089815</td>\n",
       "      <td>2957470</td>\n",
       "      <td>3132345</td>\n",
       "      <td>36.9</td>\n",
       "      <td>35.9</td>\n",
       "      <td>37.9</td>\n",
       "    </tr>\n",
       "    <tr>\n",
       "      <th>126</th>\n",
       "      <td>14460</td>\n",
       "      <td>Boston-Cambridge-Newton, MA-NH</td>\n",
       "      <td>Metropolitan Statistical Area</td>\n",
       "      <td>1</td>\n",
       "      <td>4941632</td>\n",
       "      <td>2418046</td>\n",
       "      <td>2523586</td>\n",
       "      <td>38.8</td>\n",
       "      <td>37.8</td>\n",
       "      <td>39.9</td>\n",
       "    </tr>\n",
       "    <tr>\n",
       "      <th>147</th>\n",
       "      <td>15380</td>\n",
       "      <td>Buffalo-Cheektowaga, NY</td>\n",
       "      <td>Metropolitan Statistical Area</td>\n",
       "      <td>1</td>\n",
       "      <td>1166902</td>\n",
       "      <td>569707</td>\n",
       "      <td>597195</td>\n",
       "      <td>40.8</td>\n",
       "      <td>39.4</td>\n",
       "      <td>42.3</td>\n",
       "    </tr>\n",
       "    <tr>\n",
       "      <th>204</th>\n",
       "      <td>16980</td>\n",
       "      <td>Chicago-Naperville-Elgin, IL-IN-WI</td>\n",
       "      <td>Metropolitan Statistical Area</td>\n",
       "      <td>1</td>\n",
       "      <td>9618502</td>\n",
       "      <td>4739937</td>\n",
       "      <td>4878565</td>\n",
       "      <td>38.1</td>\n",
       "      <td>37.1</td>\n",
       "      <td>39.1</td>\n",
       "    </tr>\n",
       "    <tr>\n",
       "      <th>210</th>\n",
       "      <td>17140</td>\n",
       "      <td>Cincinnati, OH-KY-IN</td>\n",
       "      <td>Metropolitan Statistical Area</td>\n",
       "      <td>1</td>\n",
       "      <td>2256884</td>\n",
       "      <td>1114630</td>\n",
       "      <td>1142254</td>\n",
       "      <td>38.1</td>\n",
       "      <td>37.1</td>\n",
       "      <td>39.1</td>\n",
       "    </tr>\n",
       "  </tbody>\n",
       "</table>\n",
       "</div>"
      ],
      "text/plain": [
       "      CBSA                            City_Metro  \\\n",
       "51   12060  Atlanta-Sandy Springs-Alpharetta, GA   \n",
       "126  14460        Boston-Cambridge-Newton, MA-NH   \n",
       "147  15380               Buffalo-Cheektowaga, NY   \n",
       "204  16980    Chicago-Naperville-Elgin, IL-IN-WI   \n",
       "210  17140                  Cincinnati, OH-KY-IN   \n",
       "\n",
       "                              LSAD  Date  Population  Male_Population  \\\n",
       "51   Metropolitan Statistical Area     1     6089815          2957470   \n",
       "126  Metropolitan Statistical Area     1     4941632          2418046   \n",
       "147  Metropolitan Statistical Area     1     1166902           569707   \n",
       "204  Metropolitan Statistical Area     1     9618502          4739937   \n",
       "210  Metropolitan Statistical Area     1     2256884          1114630   \n",
       "\n",
       "     Female_Population  Median_Age_Total  Median_Age_Male  Median_Age_Female  \n",
       "51             3132345              36.9             35.9               37.9  \n",
       "126            2523586              38.8             37.8               39.9  \n",
       "147             597195              40.8             39.4               42.3  \n",
       "204            4878565              38.1             37.1               39.1  \n",
       "210            1142254              38.1             37.1               39.1  "
      ]
     },
     "execution_count": 1202,
     "metadata": {},
     "output_type": "execute_result"
    }
   ],
   "source": [
    "DF1_MetPop2020.head()"
   ]
  },
  {
   "cell_type": "code",
   "execution_count": 1203,
   "metadata": {},
   "outputs": [
    {
     "data": {
      "text/html": [
       "<div>\n",
       "<style scoped>\n",
       "    .dataframe tbody tr th:only-of-type {\n",
       "        vertical-align: middle;\n",
       "    }\n",
       "\n",
       "    .dataframe tbody tr th {\n",
       "        vertical-align: top;\n",
       "    }\n",
       "\n",
       "    .dataframe thead th {\n",
       "        text-align: right;\n",
       "    }\n",
       "</style>\n",
       "<table border=\"1\" class=\"dataframe\">\n",
       "  <thead>\n",
       "    <tr style=\"text-align: right;\">\n",
       "      <th></th>\n",
       "      <th>CBSA Code</th>\n",
       "      <th>Geographic area</th>\n",
       "      <th>Population</th>\n",
       "      <th>Unnamed: 4</th>\n",
       "    </tr>\n",
       "  </thead>\n",
       "  <tbody>\n",
       "    <tr>\n",
       "      <th>0</th>\n",
       "      <td>10420</td>\n",
       "      <td>Akron, OH</td>\n",
       "      <td>703,200</td>\n",
       "      <td>694,960</td>\n",
       "    </tr>\n",
       "    <tr>\n",
       "      <th>1</th>\n",
       "      <td>10500</td>\n",
       "      <td>Albany, GA</td>\n",
       "      <td>157,308</td>\n",
       "      <td>157,833</td>\n",
       "    </tr>\n",
       "    <tr>\n",
       "      <th>2</th>\n",
       "      <td>10580</td>\n",
       "      <td>Albany-Schenectady-Troy, NY</td>\n",
       "      <td>870,716</td>\n",
       "      <td>825,875</td>\n",
       "    </tr>\n",
       "    <tr>\n",
       "      <th>3</th>\n",
       "      <td>10740</td>\n",
       "      <td>Albuquerque, NM</td>\n",
       "      <td>887,077</td>\n",
       "      <td>729,649</td>\n",
       "    </tr>\n",
       "    <tr>\n",
       "      <th>4</th>\n",
       "      <td>10780</td>\n",
       "      <td>Alexandria, LA</td>\n",
       "      <td>153,922</td>\n",
       "      <td>145,035</td>\n",
       "    </tr>\n",
       "  </tbody>\n",
       "</table>\n",
       "</div>"
      ],
      "text/plain": [
       "   CBSA Code              Geographic area Population Unnamed: 4\n",
       "0      10420                    Akron, OH    703,200    694,960\n",
       "1      10500                   Albany, GA    157,308    157,833\n",
       "2      10580  Albany-Schenectady-Troy, NY    870,716    825,875\n",
       "3      10740              Albuquerque, NM    887,077    729,649\n",
       "4      10780               Alexandria, LA    153,922    145,035"
      ]
     },
     "execution_count": 1203,
     "metadata": {},
     "output_type": "execute_result"
    }
   ],
   "source": [
    "# Load new DataFrame.\n",
    "Metro_Pop_2000_DF2 = pd.read_csv('Project_2_Data/US_Pop_2000_CSV.csv', usecols= ['CBSA Code', 'Geographic area', 'Population', 'Unnamed: 4'])  \n",
    "Metro_Pop_2000_DF2.head()"
   ]
  },
  {
   "cell_type": "code",
   "execution_count": 1204,
   "metadata": {},
   "outputs": [
    {
     "data": {
      "text/html": [
       "<div>\n",
       "<style scoped>\n",
       "    .dataframe tbody tr th:only-of-type {\n",
       "        vertical-align: middle;\n",
       "    }\n",
       "\n",
       "    .dataframe tbody tr th {\n",
       "        vertical-align: top;\n",
       "    }\n",
       "\n",
       "    .dataframe thead th {\n",
       "        text-align: right;\n",
       "    }\n",
       "</style>\n",
       "<table border=\"1\" class=\"dataframe\">\n",
       "  <thead>\n",
       "    <tr style=\"text-align: right;\">\n",
       "      <th></th>\n",
       "      <th>CBSA</th>\n",
       "      <th>City_Metro</th>\n",
       "      <th>Population_2010</th>\n",
       "      <th>Population_2000</th>\n",
       "    </tr>\n",
       "  </thead>\n",
       "  <tbody>\n",
       "    <tr>\n",
       "      <th>0</th>\n",
       "      <td>10420</td>\n",
       "      <td>Akron, OH</td>\n",
       "      <td>703,200</td>\n",
       "      <td>694,960</td>\n",
       "    </tr>\n",
       "    <tr>\n",
       "      <th>1</th>\n",
       "      <td>10500</td>\n",
       "      <td>Albany, GA</td>\n",
       "      <td>157,308</td>\n",
       "      <td>157,833</td>\n",
       "    </tr>\n",
       "    <tr>\n",
       "      <th>2</th>\n",
       "      <td>10580</td>\n",
       "      <td>Albany-Schenectady-Troy, NY</td>\n",
       "      <td>870,716</td>\n",
       "      <td>825,875</td>\n",
       "    </tr>\n",
       "    <tr>\n",
       "      <th>3</th>\n",
       "      <td>10740</td>\n",
       "      <td>Albuquerque, NM</td>\n",
       "      <td>887,077</td>\n",
       "      <td>729,649</td>\n",
       "    </tr>\n",
       "    <tr>\n",
       "      <th>4</th>\n",
       "      <td>10780</td>\n",
       "      <td>Alexandria, LA</td>\n",
       "      <td>153,922</td>\n",
       "      <td>145,035</td>\n",
       "    </tr>\n",
       "  </tbody>\n",
       "</table>\n",
       "</div>"
      ],
      "text/plain": [
       "    CBSA                   City_Metro Population_2010 Population_2000\n",
       "0  10420                    Akron, OH         703,200         694,960\n",
       "1  10500                   Albany, GA         157,308         157,833\n",
       "2  10580  Albany-Schenectady-Troy, NY         870,716         825,875\n",
       "3  10740              Albuquerque, NM         887,077         729,649\n",
       "4  10780               Alexandria, LA         153,922         145,035"
      ]
     },
     "execution_count": 1204,
     "metadata": {},
     "output_type": "execute_result"
    }
   ],
   "source": [
    "Metro_Pop_2000_DF2.rename(columns={'CBSA Code': 'CBSA', 'Geographic area': 'City_Metro', 'Population': 'Population_2010', 'Unnamed: 4': 'Population_2000'}, inplace= True)\n",
    "Metro_Pop_2000_DF2.head()"
   ]
  },
  {
   "cell_type": "code",
   "execution_count": 1205,
   "metadata": {},
   "outputs": [
    {
     "name": "stdout",
     "output_type": "stream",
     "text": [
      "(941, 4)\n",
      "CBSA                int64\n",
      "City_Metro         object\n",
      "Population_2010    object\n",
      "Population_2000    object\n",
      "dtype: object\n"
     ]
    }
   ],
   "source": [
    "Shape_Metro_Pop_2000 = Metro_Pop_2000_DF2.shape\n",
    "print(Shape_Metro_Pop_2000) \n",
    "DataType_Metro_Pop_2000 = Metro_Pop_2000_DF2.dtypes\n",
    "print(DataType_Metro_Pop_2000) "
   ]
  },
  {
   "cell_type": "code",
   "execution_count": 1206,
   "metadata": {},
   "outputs": [],
   "source": [
    "# Remove comma from columns and convert from object to float64.\n",
    "Metro_Pop_2000_DF2['Population_2000'] = pd.to_numeric(Metro_Pop_2000_DF2['Population_2000'].replace({',': ''}, regex= True)) \n",
    "Metro_Pop_2000_DF2['Population_2010'] = pd.to_numeric(Metro_Pop_2000_DF2['Population_2010'].replace({',': ''}, regex= True))"
   ]
  },
  {
   "cell_type": "code",
   "execution_count": 1207,
   "metadata": {},
   "outputs": [
    {
     "data": {
      "text/html": [
       "<div>\n",
       "<style scoped>\n",
       "    .dataframe tbody tr th:only-of-type {\n",
       "        vertical-align: middle;\n",
       "    }\n",
       "\n",
       "    .dataframe tbody tr th {\n",
       "        vertical-align: top;\n",
       "    }\n",
       "\n",
       "    .dataframe thead th {\n",
       "        text-align: right;\n",
       "    }\n",
       "</style>\n",
       "<table border=\"1\" class=\"dataframe\">\n",
       "  <thead>\n",
       "    <tr style=\"text-align: right;\">\n",
       "      <th></th>\n",
       "      <th>CBSA</th>\n",
       "      <th>City_Metro</th>\n",
       "      <th>Population_2010</th>\n",
       "      <th>Population_2000</th>\n",
       "    </tr>\n",
       "  </thead>\n",
       "  <tbody>\n",
       "    <tr>\n",
       "      <th>0</th>\n",
       "      <td>10420</td>\n",
       "      <td>Akron, OH</td>\n",
       "      <td>703200</td>\n",
       "      <td>694960</td>\n",
       "    </tr>\n",
       "    <tr>\n",
       "      <th>1</th>\n",
       "      <td>10500</td>\n",
       "      <td>Albany, GA</td>\n",
       "      <td>157308</td>\n",
       "      <td>157833</td>\n",
       "    </tr>\n",
       "    <tr>\n",
       "      <th>2</th>\n",
       "      <td>10580</td>\n",
       "      <td>Albany-Schenectady-Troy, NY</td>\n",
       "      <td>870716</td>\n",
       "      <td>825875</td>\n",
       "    </tr>\n",
       "    <tr>\n",
       "      <th>3</th>\n",
       "      <td>10740</td>\n",
       "      <td>Albuquerque, NM</td>\n",
       "      <td>887077</td>\n",
       "      <td>729649</td>\n",
       "    </tr>\n",
       "    <tr>\n",
       "      <th>4</th>\n",
       "      <td>10780</td>\n",
       "      <td>Alexandria, LA</td>\n",
       "      <td>153922</td>\n",
       "      <td>145035</td>\n",
       "    </tr>\n",
       "  </tbody>\n",
       "</table>\n",
       "</div>"
      ],
      "text/plain": [
       "    CBSA                   City_Metro  Population_2010  Population_2000\n",
       "0  10420                    Akron, OH           703200           694960\n",
       "1  10500                   Albany, GA           157308           157833\n",
       "2  10580  Albany-Schenectady-Troy, NY           870716           825875\n",
       "3  10740              Albuquerque, NM           887077           729649\n",
       "4  10780               Alexandria, LA           153922           145035"
      ]
     },
     "execution_count": 1207,
     "metadata": {},
     "output_type": "execute_result"
    }
   ],
   "source": [
    "Metro_Pop_2000_DF2.head()"
   ]
  },
  {
   "cell_type": "code",
   "execution_count": 1208,
   "metadata": {},
   "outputs": [
    {
     "name": "stdout",
     "output_type": "stream",
     "text": [
      "(941, 4)\n",
      "CBSA                int64\n",
      "City_Metro         object\n",
      "Population_2010     int64\n",
      "Population_2000     int64\n",
      "dtype: object\n"
     ]
    }
   ],
   "source": [
    "Shape_Metro_Pop_2000 = Metro_Pop_2000_DF2.shape\n",
    "print(Shape_Metro_Pop_2000)\n",
    "DataType_Metro_Pop_2000 = Metro_Pop_2000_DF2.dtypes\n",
    "print(DataType_Metro_Pop_2000) "
   ]
  },
  {
   "cell_type": "code",
   "execution_count": 1209,
   "metadata": {},
   "outputs": [],
   "source": [
    "#pd.to_numeric(Metro_Pop_2000_DF2['CBSA'].astype('float64')) "
   ]
  },
  {
   "cell_type": "code",
   "execution_count": 1210,
   "metadata": {},
   "outputs": [
    {
     "data": {
      "text/html": [
       "<div>\n",
       "<style scoped>\n",
       "    .dataframe tbody tr th:only-of-type {\n",
       "        vertical-align: middle;\n",
       "    }\n",
       "\n",
       "    .dataframe tbody tr th {\n",
       "        vertical-align: top;\n",
       "    }\n",
       "\n",
       "    .dataframe thead th {\n",
       "        text-align: right;\n",
       "    }\n",
       "</style>\n",
       "<table border=\"1\" class=\"dataframe\">\n",
       "  <thead>\n",
       "    <tr style=\"text-align: right;\">\n",
       "      <th></th>\n",
       "      <th>CBSA</th>\n",
       "      <th>City_Metro</th>\n",
       "      <th>Population_2010</th>\n",
       "      <th>Population_2000</th>\n",
       "    </tr>\n",
       "  </thead>\n",
       "  <tbody>\n",
       "    <tr>\n",
       "      <th>17</th>\n",
       "      <td>12060</td>\n",
       "      <td>Atlanta-Sandy Springs-Marietta, GA</td>\n",
       "      <td>5268860</td>\n",
       "      <td>4247981</td>\n",
       "    </tr>\n",
       "    <tr>\n",
       "      <th>40</th>\n",
       "      <td>14460</td>\n",
       "      <td>Boston-Cambridge-Quincy, MA-NH</td>\n",
       "      <td>4552402</td>\n",
       "      <td>4391344</td>\n",
       "    </tr>\n",
       "    <tr>\n",
       "      <th>47</th>\n",
       "      <td>15380</td>\n",
       "      <td>Buffalo-Niagara Falls, NY</td>\n",
       "      <td>1135509</td>\n",
       "      <td>1170111</td>\n",
       "    </tr>\n",
       "    <tr>\n",
       "      <th>63</th>\n",
       "      <td>16980</td>\n",
       "      <td>Chicago-Joliet-Naperville, IL-IN-WI</td>\n",
       "      <td>9461105</td>\n",
       "      <td>9098316</td>\n",
       "    </tr>\n",
       "    <tr>\n",
       "      <th>65</th>\n",
       "      <td>17140</td>\n",
       "      <td>Cincinnati-Middletown, OH-KY-IN</td>\n",
       "      <td>2130151</td>\n",
       "      <td>2009632</td>\n",
       "    </tr>\n",
       "  </tbody>\n",
       "</table>\n",
       "</div>"
      ],
      "text/plain": [
       "     CBSA                           City_Metro  Population_2010  \\\n",
       "17  12060   Atlanta-Sandy Springs-Marietta, GA          5268860   \n",
       "40  14460       Boston-Cambridge-Quincy, MA-NH          4552402   \n",
       "47  15380            Buffalo-Niagara Falls, NY          1135509   \n",
       "63  16980  Chicago-Joliet-Naperville, IL-IN-WI          9461105   \n",
       "65  17140      Cincinnati-Middletown, OH-KY-IN          2130151   \n",
       "\n",
       "    Population_2000  \n",
       "17          4247981  \n",
       "40          4391344  \n",
       "47          1170111  \n",
       "63          9098316  \n",
       "65          2009632  "
      ]
     },
     "execution_count": 1210,
     "metadata": {},
     "output_type": "execute_result"
    }
   ],
   "source": [
    "# Create a new DataFrame using 'iloc'.\n",
    "DF2_Metro_Pop2000 = Metro_Pop_2000_DF2.iloc[[17, 40, 47, 63, 65, 81, 90, 92, 148, 152, 168, 185, 198, 199, 211, 213, 216, 217, 232, 234, 235, 246, 257, 258, 264, 297, 298, 300, 309, 348]]\n",
    "DF2_Metro_Pop2000.head()"
   ]
  },
  {
   "cell_type": "code",
   "execution_count": 1211,
   "metadata": {},
   "outputs": [
    {
     "name": "stdout",
     "output_type": "stream",
     "text": [
      "(30, 4)\n",
      "CBSA                int64\n",
      "City_Metro         object\n",
      "Population_2010     int64\n",
      "Population_2000     int64\n",
      "dtype: object\n"
     ]
    }
   ],
   "source": [
    "MetroPop2000_Shape = DF2_Metro_Pop2000.shape\n",
    "print(MetroPop2000_Shape)\n",
    "MetroPop2000_Dtypes = DF2_Metro_Pop2000.dtypes\n",
    "print(MetroPop2000_Dtypes)"
   ]
  },
  {
   "cell_type": "code",
   "execution_count": 1238,
   "metadata": {},
   "outputs": [
    {
     "data": {
      "text/html": [
       "<div>\n",
       "<style scoped>\n",
       "    .dataframe tbody tr th:only-of-type {\n",
       "        vertical-align: middle;\n",
       "    }\n",
       "\n",
       "    .dataframe tbody tr th {\n",
       "        vertical-align: top;\n",
       "    }\n",
       "\n",
       "    .dataframe thead th {\n",
       "        text-align: right;\n",
       "    }\n",
       "</style>\n",
       "<table border=\"1\" class=\"dataframe\">\n",
       "  <thead>\n",
       "    <tr style=\"text-align: right;\">\n",
       "      <th></th>\n",
       "      <th>GeoFips</th>\n",
       "      <th>GeoName</th>\n",
       "      <th>LineCode</th>\n",
       "      <th>Description</th>\n",
       "      <th>2021</th>\n",
       "      <th>Unnamed: 5</th>\n",
       "    </tr>\n",
       "  </thead>\n",
       "  <tbody>\n",
       "    <tr>\n",
       "      <th>0</th>\n",
       "      <td>10180</td>\n",
       "      <td>Abilene, TX (Metropolitan Statistical Area)</td>\n",
       "      <td>2</td>\n",
       "      <td>Chain-type quantity indexes for real GDP</td>\n",
       "      <td>1.175150e+02</td>\n",
       "      <td>NaN</td>\n",
       "    </tr>\n",
       "    <tr>\n",
       "      <th>1</th>\n",
       "      <td>10180</td>\n",
       "      <td>Abilene, TX (Metropolitan Statistical Area)</td>\n",
       "      <td>3</td>\n",
       "      <td>Current-dollar GDP (thousands of current dollars)</td>\n",
       "      <td>8.848793e+06</td>\n",
       "      <td>NaN</td>\n",
       "    </tr>\n",
       "    <tr>\n",
       "      <th>2</th>\n",
       "      <td>10420</td>\n",
       "      <td>Akron, OH (Metropolitan Statistical Area)</td>\n",
       "      <td>1</td>\n",
       "      <td>Real GDP (thousands of chained 2012 dollars)</td>\n",
       "      <td>3.404113e+07</td>\n",
       "      <td>NaN</td>\n",
       "    </tr>\n",
       "    <tr>\n",
       "      <th>3</th>\n",
       "      <td>10420</td>\n",
       "      <td>Akron, OH (Metropolitan Statistical Area)</td>\n",
       "      <td>2</td>\n",
       "      <td>Chain-type quantity indexes for real GDP</td>\n",
       "      <td>1.099950e+02</td>\n",
       "      <td>NaN</td>\n",
       "    </tr>\n",
       "    <tr>\n",
       "      <th>4</th>\n",
       "      <td>10420</td>\n",
       "      <td>Akron, OH (Metropolitan Statistical Area)</td>\n",
       "      <td>3</td>\n",
       "      <td>Current-dollar GDP (thousands of current dollars)</td>\n",
       "      <td>4.105888e+07</td>\n",
       "      <td>NaN</td>\n",
       "    </tr>\n",
       "    <tr>\n",
       "      <th>5</th>\n",
       "      <td>10500</td>\n",
       "      <td>Albany, GA (Metropolitan Statistical Area)</td>\n",
       "      <td>1</td>\n",
       "      <td>Real GDP (thousands of chained 2012 dollars)</td>\n",
       "      <td>5.210366e+06</td>\n",
       "      <td>NaN</td>\n",
       "    </tr>\n",
       "    <tr>\n",
       "      <th>6</th>\n",
       "      <td>10500</td>\n",
       "      <td>Albany, GA (Metropolitan Statistical Area)</td>\n",
       "      <td>2</td>\n",
       "      <td>Chain-type quantity indexes for real GDP</td>\n",
       "      <td>9.945300e+01</td>\n",
       "      <td>NaN</td>\n",
       "    </tr>\n",
       "    <tr>\n",
       "      <th>7</th>\n",
       "      <td>10500</td>\n",
       "      <td>Albany, GA (Metropolitan Statistical Area)</td>\n",
       "      <td>3</td>\n",
       "      <td>Current-dollar GDP (thousands of current dollars)</td>\n",
       "      <td>6.462473e+06</td>\n",
       "      <td>NaN</td>\n",
       "    </tr>\n",
       "    <tr>\n",
       "      <th>8</th>\n",
       "      <td>10540</td>\n",
       "      <td>Albany-Lebanon, OR (Metropolitan Statistical A...</td>\n",
       "      <td>1</td>\n",
       "      <td>Real GDP (thousands of chained 2012 dollars)</td>\n",
       "      <td>4.523198e+06</td>\n",
       "      <td>NaN</td>\n",
       "    </tr>\n",
       "    <tr>\n",
       "      <th>9</th>\n",
       "      <td>10540</td>\n",
       "      <td>Albany-Lebanon, OR (Metropolitan Statistical A...</td>\n",
       "      <td>2</td>\n",
       "      <td>Chain-type quantity indexes for real GDP</td>\n",
       "      <td>1.232560e+02</td>\n",
       "      <td>NaN</td>\n",
       "    </tr>\n",
       "  </tbody>\n",
       "</table>\n",
       "</div>"
      ],
      "text/plain": [
       "   GeoFips                                            GeoName  LineCode  \\\n",
       "0    10180        Abilene, TX (Metropolitan Statistical Area)         2   \n",
       "1    10180        Abilene, TX (Metropolitan Statistical Area)         3   \n",
       "2    10420          Akron, OH (Metropolitan Statistical Area)         1   \n",
       "3    10420          Akron, OH (Metropolitan Statistical Area)         2   \n",
       "4    10420          Akron, OH (Metropolitan Statistical Area)         3   \n",
       "5    10500         Albany, GA (Metropolitan Statistical Area)         1   \n",
       "6    10500         Albany, GA (Metropolitan Statistical Area)         2   \n",
       "7    10500         Albany, GA (Metropolitan Statistical Area)         3   \n",
       "8    10540  Albany-Lebanon, OR (Metropolitan Statistical A...         1   \n",
       "9    10540  Albany-Lebanon, OR (Metropolitan Statistical A...         2   \n",
       "\n",
       "                                         Description          2021  Unnamed: 5  \n",
       "0           Chain-type quantity indexes for real GDP  1.175150e+02         NaN  \n",
       "1  Current-dollar GDP (thousands of current dollars)  8.848793e+06         NaN  \n",
       "2       Real GDP (thousands of chained 2012 dollars)  3.404113e+07         NaN  \n",
       "3           Chain-type quantity indexes for real GDP  1.099950e+02         NaN  \n",
       "4  Current-dollar GDP (thousands of current dollars)  4.105888e+07         NaN  \n",
       "5       Real GDP (thousands of chained 2012 dollars)  5.210366e+06         NaN  \n",
       "6           Chain-type quantity indexes for real GDP  9.945300e+01         NaN  \n",
       "7  Current-dollar GDP (thousands of current dollars)  6.462473e+06         NaN  \n",
       "8       Real GDP (thousands of chained 2012 dollars)  4.523198e+06         NaN  \n",
       "9           Chain-type quantity indexes for real GDP  1.232560e+02         NaN  "
      ]
     },
     "execution_count": 1238,
     "metadata": {},
     "output_type": "execute_result"
    }
   ],
   "source": [
    "# Load GDP DataFrame.\n",
    "GDP_Metro_DF3 = pd.read_csv('Project_2_Data/Metro GDP 2021 CSV.csv')\n",
    "GDP_Metro_DF3.head(10)"
   ]
  },
  {
   "cell_type": "code",
   "execution_count": 1239,
   "metadata": {},
   "outputs": [
    {
     "name": "stdout",
     "output_type": "stream",
     "text": [
      "(1151, 6)\n",
      "GeoFips          int64\n",
      "GeoName         object\n",
      "LineCode         int64\n",
      "Description     object\n",
      "2021           float64\n",
      "Unnamed: 5     float64\n",
      "dtype: object\n"
     ]
    }
   ],
   "source": [
    "GDP_Metro_Shape = GDP_Metro_DF3.shape\n",
    "print(GDP_Metro_Shape)\n",
    "GDP_Metro_Dtypes = GDP_Metro_DF3.dtypes\n",
    "print(GDP_Metro_Dtypes)"
   ]
  },
  {
   "cell_type": "code",
   "execution_count": 1213,
   "metadata": {},
   "outputs": [
    {
     "data": {
      "application/vnd.plotly.v1+json": {
       "config": {
        "plotlyServerURL": "https://plot.ly"
       },
       "data": [
        {
         "alignmentgroup": "True",
         "bingroup": "x",
         "histfunc": "sum",
         "hovertemplate": "City_Metro=%{x}<br>sum of Population_2000=%{y}<extra></extra>",
         "legendgroup": "",
         "marker": {
          "color": "#636efa",
          "pattern": {
           "shape": ""
          }
         },
         "name": "",
         "nbinsx": 7,
         "offsetgroup": "",
         "orientation": "v",
         "showlegend": false,
         "type": "histogram",
         "x": [
          "Atlanta-Sandy Springs-Marietta, GA",
          "Boston-Cambridge-Quincy, MA-NH",
          "Buffalo-Niagara Falls, NY",
          "Chicago-Joliet-Naperville, IL-IN-WI",
          "Cincinnati-Middletown, OH-KY-IN",
          "Dallas-Fort Worth-Arlington, TX",
          "Denver-Aurora-Broomfield, CO",
          "Detroit-Warren-Livonia, MI",
          "Houston-Sugar Land-Baytown, TX",
          "Indianapolis-Carmel, IN",
          "Kansas City, MO-KS",
          "Las Vegas-Paradise, NV",
          "Los Angeles-Long Beach-Santa Ana, CA",
          "Louisville/Jefferson County, KY-IN",
          "Memphis, TN-MS-AR",
          "Miami-Fort Lauderdale-Pompano Beach, FL",
          "Milwaukee-Waukesha-West Allis, WI",
          "Minneapolis-St. Paul-Bloomington, MN-WI",
          "Nashville-Davidson--Murfreesboro--Franklin, TN",
          "New Orleans-Metairie-Kenner, LA",
          "New York-Northern New Jersey-Long Island, NY-NJ-PA",
          "Orlando-Kissimmee-Sanford, FL",
          "Philadelphia-Camden-Wilmington, PA-NJ-DE-MD",
          "Phoenix-Mesa-Glendale, AZ",
          "Portland-Vancouver-Hillsboro, OR-WA",
          "San Antonio-New Braunfels, TX",
          "San Diego-Carlsbad-San Marcos, CA",
          "San Francisco-Oakland-Fremont, CA",
          "Seattle-Tacoma-Bellevue, WA",
          "Washington-Arlington-Alexandria, DC-VA-MD-WV"
         ],
         "xaxis": "x",
         "y": [
          4247981,
          4391344,
          1170111,
          9098316,
          2009632,
          5161544,
          2179240,
          4452557,
          4715407,
          1525104,
          1836038,
          1375765,
          12365627,
          1161975,
          1205204,
          5007564,
          1500741,
          2968806,
          1311789,
          1316510,
          18323002,
          1644561,
          5687147,
          3251876,
          1927881,
          1711703,
          2813833,
          4123740,
          3043878,
          4796183
         ],
         "yaxis": "y"
        }
       ],
       "layout": {
        "barmode": "relative",
        "legend": {
         "tracegroupgap": 0
        },
        "template": {
         "data": {
          "bar": [
           {
            "error_x": {
             "color": "#2a3f5f"
            },
            "error_y": {
             "color": "#2a3f5f"
            },
            "marker": {
             "line": {
              "color": "#E5ECF6",
              "width": 0.5
             },
             "pattern": {
              "fillmode": "overlay",
              "size": 10,
              "solidity": 0.2
             }
            },
            "type": "bar"
           }
          ],
          "barpolar": [
           {
            "marker": {
             "line": {
              "color": "#E5ECF6",
              "width": 0.5
             },
             "pattern": {
              "fillmode": "overlay",
              "size": 10,
              "solidity": 0.2
             }
            },
            "type": "barpolar"
           }
          ],
          "carpet": [
           {
            "aaxis": {
             "endlinecolor": "#2a3f5f",
             "gridcolor": "white",
             "linecolor": "white",
             "minorgridcolor": "white",
             "startlinecolor": "#2a3f5f"
            },
            "baxis": {
             "endlinecolor": "#2a3f5f",
             "gridcolor": "white",
             "linecolor": "white",
             "minorgridcolor": "white",
             "startlinecolor": "#2a3f5f"
            },
            "type": "carpet"
           }
          ],
          "choropleth": [
           {
            "colorbar": {
             "outlinewidth": 0,
             "ticks": ""
            },
            "type": "choropleth"
           }
          ],
          "contour": [
           {
            "colorbar": {
             "outlinewidth": 0,
             "ticks": ""
            },
            "colorscale": [
             [
              0,
              "#0d0887"
             ],
             [
              0.1111111111111111,
              "#46039f"
             ],
             [
              0.2222222222222222,
              "#7201a8"
             ],
             [
              0.3333333333333333,
              "#9c179e"
             ],
             [
              0.4444444444444444,
              "#bd3786"
             ],
             [
              0.5555555555555556,
              "#d8576b"
             ],
             [
              0.6666666666666666,
              "#ed7953"
             ],
             [
              0.7777777777777778,
              "#fb9f3a"
             ],
             [
              0.8888888888888888,
              "#fdca26"
             ],
             [
              1,
              "#f0f921"
             ]
            ],
            "type": "contour"
           }
          ],
          "contourcarpet": [
           {
            "colorbar": {
             "outlinewidth": 0,
             "ticks": ""
            },
            "type": "contourcarpet"
           }
          ],
          "heatmap": [
           {
            "colorbar": {
             "outlinewidth": 0,
             "ticks": ""
            },
            "colorscale": [
             [
              0,
              "#0d0887"
             ],
             [
              0.1111111111111111,
              "#46039f"
             ],
             [
              0.2222222222222222,
              "#7201a8"
             ],
             [
              0.3333333333333333,
              "#9c179e"
             ],
             [
              0.4444444444444444,
              "#bd3786"
             ],
             [
              0.5555555555555556,
              "#d8576b"
             ],
             [
              0.6666666666666666,
              "#ed7953"
             ],
             [
              0.7777777777777778,
              "#fb9f3a"
             ],
             [
              0.8888888888888888,
              "#fdca26"
             ],
             [
              1,
              "#f0f921"
             ]
            ],
            "type": "heatmap"
           }
          ],
          "heatmapgl": [
           {
            "colorbar": {
             "outlinewidth": 0,
             "ticks": ""
            },
            "colorscale": [
             [
              0,
              "#0d0887"
             ],
             [
              0.1111111111111111,
              "#46039f"
             ],
             [
              0.2222222222222222,
              "#7201a8"
             ],
             [
              0.3333333333333333,
              "#9c179e"
             ],
             [
              0.4444444444444444,
              "#bd3786"
             ],
             [
              0.5555555555555556,
              "#d8576b"
             ],
             [
              0.6666666666666666,
              "#ed7953"
             ],
             [
              0.7777777777777778,
              "#fb9f3a"
             ],
             [
              0.8888888888888888,
              "#fdca26"
             ],
             [
              1,
              "#f0f921"
             ]
            ],
            "type": "heatmapgl"
           }
          ],
          "histogram": [
           {
            "marker": {
             "pattern": {
              "fillmode": "overlay",
              "size": 10,
              "solidity": 0.2
             }
            },
            "type": "histogram"
           }
          ],
          "histogram2d": [
           {
            "colorbar": {
             "outlinewidth": 0,
             "ticks": ""
            },
            "colorscale": [
             [
              0,
              "#0d0887"
             ],
             [
              0.1111111111111111,
              "#46039f"
             ],
             [
              0.2222222222222222,
              "#7201a8"
             ],
             [
              0.3333333333333333,
              "#9c179e"
             ],
             [
              0.4444444444444444,
              "#bd3786"
             ],
             [
              0.5555555555555556,
              "#d8576b"
             ],
             [
              0.6666666666666666,
              "#ed7953"
             ],
             [
              0.7777777777777778,
              "#fb9f3a"
             ],
             [
              0.8888888888888888,
              "#fdca26"
             ],
             [
              1,
              "#f0f921"
             ]
            ],
            "type": "histogram2d"
           }
          ],
          "histogram2dcontour": [
           {
            "colorbar": {
             "outlinewidth": 0,
             "ticks": ""
            },
            "colorscale": [
             [
              0,
              "#0d0887"
             ],
             [
              0.1111111111111111,
              "#46039f"
             ],
             [
              0.2222222222222222,
              "#7201a8"
             ],
             [
              0.3333333333333333,
              "#9c179e"
             ],
             [
              0.4444444444444444,
              "#bd3786"
             ],
             [
              0.5555555555555556,
              "#d8576b"
             ],
             [
              0.6666666666666666,
              "#ed7953"
             ],
             [
              0.7777777777777778,
              "#fb9f3a"
             ],
             [
              0.8888888888888888,
              "#fdca26"
             ],
             [
              1,
              "#f0f921"
             ]
            ],
            "type": "histogram2dcontour"
           }
          ],
          "mesh3d": [
           {
            "colorbar": {
             "outlinewidth": 0,
             "ticks": ""
            },
            "type": "mesh3d"
           }
          ],
          "parcoords": [
           {
            "line": {
             "colorbar": {
              "outlinewidth": 0,
              "ticks": ""
             }
            },
            "type": "parcoords"
           }
          ],
          "pie": [
           {
            "automargin": true,
            "type": "pie"
           }
          ],
          "scatter": [
           {
            "fillpattern": {
             "fillmode": "overlay",
             "size": 10,
             "solidity": 0.2
            },
            "type": "scatter"
           }
          ],
          "scatter3d": [
           {
            "line": {
             "colorbar": {
              "outlinewidth": 0,
              "ticks": ""
             }
            },
            "marker": {
             "colorbar": {
              "outlinewidth": 0,
              "ticks": ""
             }
            },
            "type": "scatter3d"
           }
          ],
          "scattercarpet": [
           {
            "marker": {
             "colorbar": {
              "outlinewidth": 0,
              "ticks": ""
             }
            },
            "type": "scattercarpet"
           }
          ],
          "scattergeo": [
           {
            "marker": {
             "colorbar": {
              "outlinewidth": 0,
              "ticks": ""
             }
            },
            "type": "scattergeo"
           }
          ],
          "scattergl": [
           {
            "marker": {
             "colorbar": {
              "outlinewidth": 0,
              "ticks": ""
             }
            },
            "type": "scattergl"
           }
          ],
          "scattermapbox": [
           {
            "marker": {
             "colorbar": {
              "outlinewidth": 0,
              "ticks": ""
             }
            },
            "type": "scattermapbox"
           }
          ],
          "scatterpolar": [
           {
            "marker": {
             "colorbar": {
              "outlinewidth": 0,
              "ticks": ""
             }
            },
            "type": "scatterpolar"
           }
          ],
          "scatterpolargl": [
           {
            "marker": {
             "colorbar": {
              "outlinewidth": 0,
              "ticks": ""
             }
            },
            "type": "scatterpolargl"
           }
          ],
          "scatterternary": [
           {
            "marker": {
             "colorbar": {
              "outlinewidth": 0,
              "ticks": ""
             }
            },
            "type": "scatterternary"
           }
          ],
          "surface": [
           {
            "colorbar": {
             "outlinewidth": 0,
             "ticks": ""
            },
            "colorscale": [
             [
              0,
              "#0d0887"
             ],
             [
              0.1111111111111111,
              "#46039f"
             ],
             [
              0.2222222222222222,
              "#7201a8"
             ],
             [
              0.3333333333333333,
              "#9c179e"
             ],
             [
              0.4444444444444444,
              "#bd3786"
             ],
             [
              0.5555555555555556,
              "#d8576b"
             ],
             [
              0.6666666666666666,
              "#ed7953"
             ],
             [
              0.7777777777777778,
              "#fb9f3a"
             ],
             [
              0.8888888888888888,
              "#fdca26"
             ],
             [
              1,
              "#f0f921"
             ]
            ],
            "type": "surface"
           }
          ],
          "table": [
           {
            "cells": {
             "fill": {
              "color": "#EBF0F8"
             },
             "line": {
              "color": "white"
             }
            },
            "header": {
             "fill": {
              "color": "#C8D4E3"
             },
             "line": {
              "color": "white"
             }
            },
            "type": "table"
           }
          ]
         },
         "layout": {
          "annotationdefaults": {
           "arrowcolor": "#2a3f5f",
           "arrowhead": 0,
           "arrowwidth": 1
          },
          "autotypenumbers": "strict",
          "coloraxis": {
           "colorbar": {
            "outlinewidth": 0,
            "ticks": ""
           }
          },
          "colorscale": {
           "diverging": [
            [
             0,
             "#8e0152"
            ],
            [
             0.1,
             "#c51b7d"
            ],
            [
             0.2,
             "#de77ae"
            ],
            [
             0.3,
             "#f1b6da"
            ],
            [
             0.4,
             "#fde0ef"
            ],
            [
             0.5,
             "#f7f7f7"
            ],
            [
             0.6,
             "#e6f5d0"
            ],
            [
             0.7,
             "#b8e186"
            ],
            [
             0.8,
             "#7fbc41"
            ],
            [
             0.9,
             "#4d9221"
            ],
            [
             1,
             "#276419"
            ]
           ],
           "sequential": [
            [
             0,
             "#0d0887"
            ],
            [
             0.1111111111111111,
             "#46039f"
            ],
            [
             0.2222222222222222,
             "#7201a8"
            ],
            [
             0.3333333333333333,
             "#9c179e"
            ],
            [
             0.4444444444444444,
             "#bd3786"
            ],
            [
             0.5555555555555556,
             "#d8576b"
            ],
            [
             0.6666666666666666,
             "#ed7953"
            ],
            [
             0.7777777777777778,
             "#fb9f3a"
            ],
            [
             0.8888888888888888,
             "#fdca26"
            ],
            [
             1,
             "#f0f921"
            ]
           ],
           "sequentialminus": [
            [
             0,
             "#0d0887"
            ],
            [
             0.1111111111111111,
             "#46039f"
            ],
            [
             0.2222222222222222,
             "#7201a8"
            ],
            [
             0.3333333333333333,
             "#9c179e"
            ],
            [
             0.4444444444444444,
             "#bd3786"
            ],
            [
             0.5555555555555556,
             "#d8576b"
            ],
            [
             0.6666666666666666,
             "#ed7953"
            ],
            [
             0.7777777777777778,
             "#fb9f3a"
            ],
            [
             0.8888888888888888,
             "#fdca26"
            ],
            [
             1,
             "#f0f921"
            ]
           ]
          },
          "colorway": [
           "#636efa",
           "#EF553B",
           "#00cc96",
           "#ab63fa",
           "#FFA15A",
           "#19d3f3",
           "#FF6692",
           "#B6E880",
           "#FF97FF",
           "#FECB52"
          ],
          "font": {
           "color": "#2a3f5f"
          },
          "geo": {
           "bgcolor": "white",
           "lakecolor": "white",
           "landcolor": "#E5ECF6",
           "showlakes": true,
           "showland": true,
           "subunitcolor": "white"
          },
          "hoverlabel": {
           "align": "left"
          },
          "hovermode": "closest",
          "mapbox": {
           "style": "light"
          },
          "paper_bgcolor": "white",
          "plot_bgcolor": "#E5ECF6",
          "polar": {
           "angularaxis": {
            "gridcolor": "white",
            "linecolor": "white",
            "ticks": ""
           },
           "bgcolor": "#E5ECF6",
           "radialaxis": {
            "gridcolor": "white",
            "linecolor": "white",
            "ticks": ""
           }
          },
          "scene": {
           "xaxis": {
            "backgroundcolor": "#E5ECF6",
            "gridcolor": "white",
            "gridwidth": 2,
            "linecolor": "white",
            "showbackground": true,
            "ticks": "",
            "zerolinecolor": "white"
           },
           "yaxis": {
            "backgroundcolor": "#E5ECF6",
            "gridcolor": "white",
            "gridwidth": 2,
            "linecolor": "white",
            "showbackground": true,
            "ticks": "",
            "zerolinecolor": "white"
           },
           "zaxis": {
            "backgroundcolor": "#E5ECF6",
            "gridcolor": "white",
            "gridwidth": 2,
            "linecolor": "white",
            "showbackground": true,
            "ticks": "",
            "zerolinecolor": "white"
           }
          },
          "shapedefaults": {
           "line": {
            "color": "#2a3f5f"
           }
          },
          "ternary": {
           "aaxis": {
            "gridcolor": "white",
            "linecolor": "white",
            "ticks": ""
           },
           "baxis": {
            "gridcolor": "white",
            "linecolor": "white",
            "ticks": ""
           },
           "bgcolor": "#E5ECF6",
           "caxis": {
            "gridcolor": "white",
            "linecolor": "white",
            "ticks": ""
           }
          },
          "title": {
           "x": 0.05
          },
          "xaxis": {
           "automargin": true,
           "gridcolor": "white",
           "linecolor": "white",
           "ticks": "",
           "title": {
            "standoff": 15
           },
           "zerolinecolor": "white",
           "zerolinewidth": 2
          },
          "yaxis": {
           "automargin": true,
           "gridcolor": "white",
           "linecolor": "white",
           "ticks": "",
           "title": {
            "standoff": 15
           },
           "zerolinecolor": "white",
           "zerolinewidth": 2
          }
         }
        },
        "title": {
         "text": "Metro Population 2000"
        },
        "xaxis": {
         "anchor": "y",
         "domain": [
          0,
          1
         ],
         "title": {
          "text": "City_Metro"
         }
        },
        "yaxis": {
         "anchor": "x",
         "domain": [
          0,
          1
         ],
         "title": {
          "text": "sum of Population_2000"
         }
        }
       }
      }
     },
     "metadata": {},
     "output_type": "display_data"
    }
   ],
   "source": [
    "px.histogram(DF2_Metro_Pop2000, x='City_Metro', y='Population_2000', nbins= 7, title='Metro Population 2000')"
   ]
  },
  {
   "cell_type": "code",
   "execution_count": 1214,
   "metadata": {},
   "outputs": [
    {
     "data": {
      "application/vnd.plotly.v1+json": {
       "config": {
        "plotlyServerURL": "https://plot.ly"
       },
       "data": [
        {
         "alignmentgroup": "True",
         "bingroup": "x",
         "histfunc": "sum",
         "hovertemplate": "City_Metro=%{x}<br>sum of Population_2010=%{y}<extra></extra>",
         "legendgroup": "",
         "marker": {
          "color": "#636efa",
          "pattern": {
           "shape": ""
          }
         },
         "name": "",
         "nbinsx": 7,
         "offsetgroup": "",
         "orientation": "v",
         "showlegend": false,
         "type": "histogram",
         "x": [
          "Atlanta-Sandy Springs-Marietta, GA",
          "Boston-Cambridge-Quincy, MA-NH",
          "Buffalo-Niagara Falls, NY",
          "Chicago-Joliet-Naperville, IL-IN-WI",
          "Cincinnati-Middletown, OH-KY-IN",
          "Dallas-Fort Worth-Arlington, TX",
          "Denver-Aurora-Broomfield, CO",
          "Detroit-Warren-Livonia, MI",
          "Houston-Sugar Land-Baytown, TX",
          "Indianapolis-Carmel, IN",
          "Kansas City, MO-KS",
          "Las Vegas-Paradise, NV",
          "Los Angeles-Long Beach-Santa Ana, CA",
          "Louisville/Jefferson County, KY-IN",
          "Memphis, TN-MS-AR",
          "Miami-Fort Lauderdale-Pompano Beach, FL",
          "Milwaukee-Waukesha-West Allis, WI",
          "Minneapolis-St. Paul-Bloomington, MN-WI",
          "Nashville-Davidson--Murfreesboro--Franklin, TN",
          "New Orleans-Metairie-Kenner, LA",
          "New York-Northern New Jersey-Long Island, NY-NJ-PA",
          "Orlando-Kissimmee-Sanford, FL",
          "Philadelphia-Camden-Wilmington, PA-NJ-DE-MD",
          "Phoenix-Mesa-Glendale, AZ",
          "Portland-Vancouver-Hillsboro, OR-WA",
          "San Antonio-New Braunfels, TX",
          "San Diego-Carlsbad-San Marcos, CA",
          "San Francisco-Oakland-Fremont, CA",
          "Seattle-Tacoma-Bellevue, WA",
          "Washington-Arlington-Alexandria, DC-VA-MD-WV"
         ],
         "xaxis": "x",
         "y": [
          5268860,
          4552402,
          1135509,
          9461105,
          2130151,
          6371773,
          2543482,
          4296250,
          5946800,
          1756241,
          2035334,
          1951269,
          12828837,
          1283566,
          1316100,
          5564635,
          1555908,
          3279833,
          1589934,
          1167764,
          18897109,
          2134411,
          5965343,
          4192887,
          2226009,
          2142508,
          3095313,
          4335391,
          3439809,
          5582170
         ],
         "yaxis": "y"
        }
       ],
       "layout": {
        "barmode": "relative",
        "legend": {
         "tracegroupgap": 0
        },
        "template": {
         "data": {
          "bar": [
           {
            "error_x": {
             "color": "#2a3f5f"
            },
            "error_y": {
             "color": "#2a3f5f"
            },
            "marker": {
             "line": {
              "color": "#E5ECF6",
              "width": 0.5
             },
             "pattern": {
              "fillmode": "overlay",
              "size": 10,
              "solidity": 0.2
             }
            },
            "type": "bar"
           }
          ],
          "barpolar": [
           {
            "marker": {
             "line": {
              "color": "#E5ECF6",
              "width": 0.5
             },
             "pattern": {
              "fillmode": "overlay",
              "size": 10,
              "solidity": 0.2
             }
            },
            "type": "barpolar"
           }
          ],
          "carpet": [
           {
            "aaxis": {
             "endlinecolor": "#2a3f5f",
             "gridcolor": "white",
             "linecolor": "white",
             "minorgridcolor": "white",
             "startlinecolor": "#2a3f5f"
            },
            "baxis": {
             "endlinecolor": "#2a3f5f",
             "gridcolor": "white",
             "linecolor": "white",
             "minorgridcolor": "white",
             "startlinecolor": "#2a3f5f"
            },
            "type": "carpet"
           }
          ],
          "choropleth": [
           {
            "colorbar": {
             "outlinewidth": 0,
             "ticks": ""
            },
            "type": "choropleth"
           }
          ],
          "contour": [
           {
            "colorbar": {
             "outlinewidth": 0,
             "ticks": ""
            },
            "colorscale": [
             [
              0,
              "#0d0887"
             ],
             [
              0.1111111111111111,
              "#46039f"
             ],
             [
              0.2222222222222222,
              "#7201a8"
             ],
             [
              0.3333333333333333,
              "#9c179e"
             ],
             [
              0.4444444444444444,
              "#bd3786"
             ],
             [
              0.5555555555555556,
              "#d8576b"
             ],
             [
              0.6666666666666666,
              "#ed7953"
             ],
             [
              0.7777777777777778,
              "#fb9f3a"
             ],
             [
              0.8888888888888888,
              "#fdca26"
             ],
             [
              1,
              "#f0f921"
             ]
            ],
            "type": "contour"
           }
          ],
          "contourcarpet": [
           {
            "colorbar": {
             "outlinewidth": 0,
             "ticks": ""
            },
            "type": "contourcarpet"
           }
          ],
          "heatmap": [
           {
            "colorbar": {
             "outlinewidth": 0,
             "ticks": ""
            },
            "colorscale": [
             [
              0,
              "#0d0887"
             ],
             [
              0.1111111111111111,
              "#46039f"
             ],
             [
              0.2222222222222222,
              "#7201a8"
             ],
             [
              0.3333333333333333,
              "#9c179e"
             ],
             [
              0.4444444444444444,
              "#bd3786"
             ],
             [
              0.5555555555555556,
              "#d8576b"
             ],
             [
              0.6666666666666666,
              "#ed7953"
             ],
             [
              0.7777777777777778,
              "#fb9f3a"
             ],
             [
              0.8888888888888888,
              "#fdca26"
             ],
             [
              1,
              "#f0f921"
             ]
            ],
            "type": "heatmap"
           }
          ],
          "heatmapgl": [
           {
            "colorbar": {
             "outlinewidth": 0,
             "ticks": ""
            },
            "colorscale": [
             [
              0,
              "#0d0887"
             ],
             [
              0.1111111111111111,
              "#46039f"
             ],
             [
              0.2222222222222222,
              "#7201a8"
             ],
             [
              0.3333333333333333,
              "#9c179e"
             ],
             [
              0.4444444444444444,
              "#bd3786"
             ],
             [
              0.5555555555555556,
              "#d8576b"
             ],
             [
              0.6666666666666666,
              "#ed7953"
             ],
             [
              0.7777777777777778,
              "#fb9f3a"
             ],
             [
              0.8888888888888888,
              "#fdca26"
             ],
             [
              1,
              "#f0f921"
             ]
            ],
            "type": "heatmapgl"
           }
          ],
          "histogram": [
           {
            "marker": {
             "pattern": {
              "fillmode": "overlay",
              "size": 10,
              "solidity": 0.2
             }
            },
            "type": "histogram"
           }
          ],
          "histogram2d": [
           {
            "colorbar": {
             "outlinewidth": 0,
             "ticks": ""
            },
            "colorscale": [
             [
              0,
              "#0d0887"
             ],
             [
              0.1111111111111111,
              "#46039f"
             ],
             [
              0.2222222222222222,
              "#7201a8"
             ],
             [
              0.3333333333333333,
              "#9c179e"
             ],
             [
              0.4444444444444444,
              "#bd3786"
             ],
             [
              0.5555555555555556,
              "#d8576b"
             ],
             [
              0.6666666666666666,
              "#ed7953"
             ],
             [
              0.7777777777777778,
              "#fb9f3a"
             ],
             [
              0.8888888888888888,
              "#fdca26"
             ],
             [
              1,
              "#f0f921"
             ]
            ],
            "type": "histogram2d"
           }
          ],
          "histogram2dcontour": [
           {
            "colorbar": {
             "outlinewidth": 0,
             "ticks": ""
            },
            "colorscale": [
             [
              0,
              "#0d0887"
             ],
             [
              0.1111111111111111,
              "#46039f"
             ],
             [
              0.2222222222222222,
              "#7201a8"
             ],
             [
              0.3333333333333333,
              "#9c179e"
             ],
             [
              0.4444444444444444,
              "#bd3786"
             ],
             [
              0.5555555555555556,
              "#d8576b"
             ],
             [
              0.6666666666666666,
              "#ed7953"
             ],
             [
              0.7777777777777778,
              "#fb9f3a"
             ],
             [
              0.8888888888888888,
              "#fdca26"
             ],
             [
              1,
              "#f0f921"
             ]
            ],
            "type": "histogram2dcontour"
           }
          ],
          "mesh3d": [
           {
            "colorbar": {
             "outlinewidth": 0,
             "ticks": ""
            },
            "type": "mesh3d"
           }
          ],
          "parcoords": [
           {
            "line": {
             "colorbar": {
              "outlinewidth": 0,
              "ticks": ""
             }
            },
            "type": "parcoords"
           }
          ],
          "pie": [
           {
            "automargin": true,
            "type": "pie"
           }
          ],
          "scatter": [
           {
            "fillpattern": {
             "fillmode": "overlay",
             "size": 10,
             "solidity": 0.2
            },
            "type": "scatter"
           }
          ],
          "scatter3d": [
           {
            "line": {
             "colorbar": {
              "outlinewidth": 0,
              "ticks": ""
             }
            },
            "marker": {
             "colorbar": {
              "outlinewidth": 0,
              "ticks": ""
             }
            },
            "type": "scatter3d"
           }
          ],
          "scattercarpet": [
           {
            "marker": {
             "colorbar": {
              "outlinewidth": 0,
              "ticks": ""
             }
            },
            "type": "scattercarpet"
           }
          ],
          "scattergeo": [
           {
            "marker": {
             "colorbar": {
              "outlinewidth": 0,
              "ticks": ""
             }
            },
            "type": "scattergeo"
           }
          ],
          "scattergl": [
           {
            "marker": {
             "colorbar": {
              "outlinewidth": 0,
              "ticks": ""
             }
            },
            "type": "scattergl"
           }
          ],
          "scattermapbox": [
           {
            "marker": {
             "colorbar": {
              "outlinewidth": 0,
              "ticks": ""
             }
            },
            "type": "scattermapbox"
           }
          ],
          "scatterpolar": [
           {
            "marker": {
             "colorbar": {
              "outlinewidth": 0,
              "ticks": ""
             }
            },
            "type": "scatterpolar"
           }
          ],
          "scatterpolargl": [
           {
            "marker": {
             "colorbar": {
              "outlinewidth": 0,
              "ticks": ""
             }
            },
            "type": "scatterpolargl"
           }
          ],
          "scatterternary": [
           {
            "marker": {
             "colorbar": {
              "outlinewidth": 0,
              "ticks": ""
             }
            },
            "type": "scatterternary"
           }
          ],
          "surface": [
           {
            "colorbar": {
             "outlinewidth": 0,
             "ticks": ""
            },
            "colorscale": [
             [
              0,
              "#0d0887"
             ],
             [
              0.1111111111111111,
              "#46039f"
             ],
             [
              0.2222222222222222,
              "#7201a8"
             ],
             [
              0.3333333333333333,
              "#9c179e"
             ],
             [
              0.4444444444444444,
              "#bd3786"
             ],
             [
              0.5555555555555556,
              "#d8576b"
             ],
             [
              0.6666666666666666,
              "#ed7953"
             ],
             [
              0.7777777777777778,
              "#fb9f3a"
             ],
             [
              0.8888888888888888,
              "#fdca26"
             ],
             [
              1,
              "#f0f921"
             ]
            ],
            "type": "surface"
           }
          ],
          "table": [
           {
            "cells": {
             "fill": {
              "color": "#EBF0F8"
             },
             "line": {
              "color": "white"
             }
            },
            "header": {
             "fill": {
              "color": "#C8D4E3"
             },
             "line": {
              "color": "white"
             }
            },
            "type": "table"
           }
          ]
         },
         "layout": {
          "annotationdefaults": {
           "arrowcolor": "#2a3f5f",
           "arrowhead": 0,
           "arrowwidth": 1
          },
          "autotypenumbers": "strict",
          "coloraxis": {
           "colorbar": {
            "outlinewidth": 0,
            "ticks": ""
           }
          },
          "colorscale": {
           "diverging": [
            [
             0,
             "#8e0152"
            ],
            [
             0.1,
             "#c51b7d"
            ],
            [
             0.2,
             "#de77ae"
            ],
            [
             0.3,
             "#f1b6da"
            ],
            [
             0.4,
             "#fde0ef"
            ],
            [
             0.5,
             "#f7f7f7"
            ],
            [
             0.6,
             "#e6f5d0"
            ],
            [
             0.7,
             "#b8e186"
            ],
            [
             0.8,
             "#7fbc41"
            ],
            [
             0.9,
             "#4d9221"
            ],
            [
             1,
             "#276419"
            ]
           ],
           "sequential": [
            [
             0,
             "#0d0887"
            ],
            [
             0.1111111111111111,
             "#46039f"
            ],
            [
             0.2222222222222222,
             "#7201a8"
            ],
            [
             0.3333333333333333,
             "#9c179e"
            ],
            [
             0.4444444444444444,
             "#bd3786"
            ],
            [
             0.5555555555555556,
             "#d8576b"
            ],
            [
             0.6666666666666666,
             "#ed7953"
            ],
            [
             0.7777777777777778,
             "#fb9f3a"
            ],
            [
             0.8888888888888888,
             "#fdca26"
            ],
            [
             1,
             "#f0f921"
            ]
           ],
           "sequentialminus": [
            [
             0,
             "#0d0887"
            ],
            [
             0.1111111111111111,
             "#46039f"
            ],
            [
             0.2222222222222222,
             "#7201a8"
            ],
            [
             0.3333333333333333,
             "#9c179e"
            ],
            [
             0.4444444444444444,
             "#bd3786"
            ],
            [
             0.5555555555555556,
             "#d8576b"
            ],
            [
             0.6666666666666666,
             "#ed7953"
            ],
            [
             0.7777777777777778,
             "#fb9f3a"
            ],
            [
             0.8888888888888888,
             "#fdca26"
            ],
            [
             1,
             "#f0f921"
            ]
           ]
          },
          "colorway": [
           "#636efa",
           "#EF553B",
           "#00cc96",
           "#ab63fa",
           "#FFA15A",
           "#19d3f3",
           "#FF6692",
           "#B6E880",
           "#FF97FF",
           "#FECB52"
          ],
          "font": {
           "color": "#2a3f5f"
          },
          "geo": {
           "bgcolor": "white",
           "lakecolor": "white",
           "landcolor": "#E5ECF6",
           "showlakes": true,
           "showland": true,
           "subunitcolor": "white"
          },
          "hoverlabel": {
           "align": "left"
          },
          "hovermode": "closest",
          "mapbox": {
           "style": "light"
          },
          "paper_bgcolor": "white",
          "plot_bgcolor": "#E5ECF6",
          "polar": {
           "angularaxis": {
            "gridcolor": "white",
            "linecolor": "white",
            "ticks": ""
           },
           "bgcolor": "#E5ECF6",
           "radialaxis": {
            "gridcolor": "white",
            "linecolor": "white",
            "ticks": ""
           }
          },
          "scene": {
           "xaxis": {
            "backgroundcolor": "#E5ECF6",
            "gridcolor": "white",
            "gridwidth": 2,
            "linecolor": "white",
            "showbackground": true,
            "ticks": "",
            "zerolinecolor": "white"
           },
           "yaxis": {
            "backgroundcolor": "#E5ECF6",
            "gridcolor": "white",
            "gridwidth": 2,
            "linecolor": "white",
            "showbackground": true,
            "ticks": "",
            "zerolinecolor": "white"
           },
           "zaxis": {
            "backgroundcolor": "#E5ECF6",
            "gridcolor": "white",
            "gridwidth": 2,
            "linecolor": "white",
            "showbackground": true,
            "ticks": "",
            "zerolinecolor": "white"
           }
          },
          "shapedefaults": {
           "line": {
            "color": "#2a3f5f"
           }
          },
          "ternary": {
           "aaxis": {
            "gridcolor": "white",
            "linecolor": "white",
            "ticks": ""
           },
           "baxis": {
            "gridcolor": "white",
            "linecolor": "white",
            "ticks": ""
           },
           "bgcolor": "#E5ECF6",
           "caxis": {
            "gridcolor": "white",
            "linecolor": "white",
            "ticks": ""
           }
          },
          "title": {
           "x": 0.05
          },
          "xaxis": {
           "automargin": true,
           "gridcolor": "white",
           "linecolor": "white",
           "ticks": "",
           "title": {
            "standoff": 15
           },
           "zerolinecolor": "white",
           "zerolinewidth": 2
          },
          "yaxis": {
           "automargin": true,
           "gridcolor": "white",
           "linecolor": "white",
           "ticks": "",
           "title": {
            "standoff": 15
           },
           "zerolinecolor": "white",
           "zerolinewidth": 2
          }
         }
        },
        "title": {
         "text": "Metro Population 2010"
        },
        "xaxis": {
         "anchor": "y",
         "domain": [
          0,
          1
         ],
         "title": {
          "text": "City_Metro"
         }
        },
        "yaxis": {
         "anchor": "x",
         "domain": [
          0,
          1
         ],
         "title": {
          "text": "sum of Population_2010"
         }
        }
       }
      }
     },
     "metadata": {},
     "output_type": "display_data"
    }
   ],
   "source": [
    "px.histogram(DF2_Metro_Pop2000, x='City_Metro', y='Population_2010', nbins= 7, title='Metro Population 2010')"
   ]
  },
  {
   "cell_type": "code",
   "execution_count": 1215,
   "metadata": {},
   "outputs": [
    {
     "data": {
      "application/vnd.plotly.v1+json": {
       "config": {
        "plotlyServerURL": "https://plot.ly"
       },
       "data": [
        {
         "alignmentgroup": "True",
         "bingroup": "x",
         "histfunc": "sum",
         "hovertemplate": "City_Metro=%{x}<br>sum of Population=%{y}<extra></extra>",
         "legendgroup": "",
         "marker": {
          "color": "#636efa",
          "pattern": {
           "shape": ""
          }
         },
         "name": "",
         "nbinsx": 7,
         "offsetgroup": "",
         "orientation": "v",
         "showlegend": false,
         "type": "histogram",
         "x": [
          "Atlanta-Sandy Springs-Alpharetta, GA",
          "Boston-Cambridge-Newton, MA-NH",
          "Buffalo-Cheektowaga, NY",
          "Chicago-Naperville-Elgin, IL-IN-WI",
          "Cincinnati, OH-KY-IN",
          "Dallas-Fort Worth-Arlington, TX",
          "Denver-Aurora-Lakewood, CO",
          "Detroit-Warren-Dearborn, MI",
          "Houston-The Woodlands-Sugar Land, TX",
          "Indianapolis-Carmel-Anderson, IN",
          "Kansas City, MO-KS",
          "Las Vegas-Henderson-Paradise, NV",
          "Los Angeles-Long Beach-Anaheim, CA",
          "Louisville/Jefferson County, KY-IN",
          "Memphis, TN-MS-AR",
          "Miami-Fort Lauderdale-Pompano Beach, FL",
          "Milwaukee-Waukesha, WI",
          "Minneapolis-St. Paul-Bloomington, MN-WI",
          "Nashville-Davidson--Murfreesboro--Franklin, TN",
          "New Orleans-Metairie, LA",
          "New York-Newark-Jersey City, NY-NJ-PA",
          "Orlando-Kissimmee-Sanford, FL",
          "Philadelphia-Camden-Wilmington, PA-NJ-DE-MD",
          "Phoenix-Mesa-Chandler, AZ",
          "Portland-Vancouver-Hillsboro, OR-WA",
          "San Antonio-New Braunfels, TX",
          "San Diego-Chula Vista-Carlsbad, CA",
          "San Francisco-Oakland-Berkeley, CA",
          "Seattle-Tacoma-Bellevue, WA",
          "Washington-Arlington-Alexandria, DC-VA-MD-WV"
         ],
         "xaxis": "x",
         "y": [
          6089815,
          4941632,
          1166902,
          9618502,
          2256884,
          7637387,
          2963821,
          4392041,
          7122240,
          2111040,
          2192035,
          2265461,
          13200998,
          1285439,
          1337779,
          6138333,
          1574731,
          3690261,
          1989519,
          1271845,
          20140470,
          2673376,
          6245051,
          4845832,
          2512859,
          2558143,
          3298634,
          4749008,
          4018762,
          6385162
         ],
         "yaxis": "y"
        }
       ],
       "layout": {
        "barmode": "relative",
        "legend": {
         "tracegroupgap": 0
        },
        "template": {
         "data": {
          "bar": [
           {
            "error_x": {
             "color": "#2a3f5f"
            },
            "error_y": {
             "color": "#2a3f5f"
            },
            "marker": {
             "line": {
              "color": "#E5ECF6",
              "width": 0.5
             },
             "pattern": {
              "fillmode": "overlay",
              "size": 10,
              "solidity": 0.2
             }
            },
            "type": "bar"
           }
          ],
          "barpolar": [
           {
            "marker": {
             "line": {
              "color": "#E5ECF6",
              "width": 0.5
             },
             "pattern": {
              "fillmode": "overlay",
              "size": 10,
              "solidity": 0.2
             }
            },
            "type": "barpolar"
           }
          ],
          "carpet": [
           {
            "aaxis": {
             "endlinecolor": "#2a3f5f",
             "gridcolor": "white",
             "linecolor": "white",
             "minorgridcolor": "white",
             "startlinecolor": "#2a3f5f"
            },
            "baxis": {
             "endlinecolor": "#2a3f5f",
             "gridcolor": "white",
             "linecolor": "white",
             "minorgridcolor": "white",
             "startlinecolor": "#2a3f5f"
            },
            "type": "carpet"
           }
          ],
          "choropleth": [
           {
            "colorbar": {
             "outlinewidth": 0,
             "ticks": ""
            },
            "type": "choropleth"
           }
          ],
          "contour": [
           {
            "colorbar": {
             "outlinewidth": 0,
             "ticks": ""
            },
            "colorscale": [
             [
              0,
              "#0d0887"
             ],
             [
              0.1111111111111111,
              "#46039f"
             ],
             [
              0.2222222222222222,
              "#7201a8"
             ],
             [
              0.3333333333333333,
              "#9c179e"
             ],
             [
              0.4444444444444444,
              "#bd3786"
             ],
             [
              0.5555555555555556,
              "#d8576b"
             ],
             [
              0.6666666666666666,
              "#ed7953"
             ],
             [
              0.7777777777777778,
              "#fb9f3a"
             ],
             [
              0.8888888888888888,
              "#fdca26"
             ],
             [
              1,
              "#f0f921"
             ]
            ],
            "type": "contour"
           }
          ],
          "contourcarpet": [
           {
            "colorbar": {
             "outlinewidth": 0,
             "ticks": ""
            },
            "type": "contourcarpet"
           }
          ],
          "heatmap": [
           {
            "colorbar": {
             "outlinewidth": 0,
             "ticks": ""
            },
            "colorscale": [
             [
              0,
              "#0d0887"
             ],
             [
              0.1111111111111111,
              "#46039f"
             ],
             [
              0.2222222222222222,
              "#7201a8"
             ],
             [
              0.3333333333333333,
              "#9c179e"
             ],
             [
              0.4444444444444444,
              "#bd3786"
             ],
             [
              0.5555555555555556,
              "#d8576b"
             ],
             [
              0.6666666666666666,
              "#ed7953"
             ],
             [
              0.7777777777777778,
              "#fb9f3a"
             ],
             [
              0.8888888888888888,
              "#fdca26"
             ],
             [
              1,
              "#f0f921"
             ]
            ],
            "type": "heatmap"
           }
          ],
          "heatmapgl": [
           {
            "colorbar": {
             "outlinewidth": 0,
             "ticks": ""
            },
            "colorscale": [
             [
              0,
              "#0d0887"
             ],
             [
              0.1111111111111111,
              "#46039f"
             ],
             [
              0.2222222222222222,
              "#7201a8"
             ],
             [
              0.3333333333333333,
              "#9c179e"
             ],
             [
              0.4444444444444444,
              "#bd3786"
             ],
             [
              0.5555555555555556,
              "#d8576b"
             ],
             [
              0.6666666666666666,
              "#ed7953"
             ],
             [
              0.7777777777777778,
              "#fb9f3a"
             ],
             [
              0.8888888888888888,
              "#fdca26"
             ],
             [
              1,
              "#f0f921"
             ]
            ],
            "type": "heatmapgl"
           }
          ],
          "histogram": [
           {
            "marker": {
             "pattern": {
              "fillmode": "overlay",
              "size": 10,
              "solidity": 0.2
             }
            },
            "type": "histogram"
           }
          ],
          "histogram2d": [
           {
            "colorbar": {
             "outlinewidth": 0,
             "ticks": ""
            },
            "colorscale": [
             [
              0,
              "#0d0887"
             ],
             [
              0.1111111111111111,
              "#46039f"
             ],
             [
              0.2222222222222222,
              "#7201a8"
             ],
             [
              0.3333333333333333,
              "#9c179e"
             ],
             [
              0.4444444444444444,
              "#bd3786"
             ],
             [
              0.5555555555555556,
              "#d8576b"
             ],
             [
              0.6666666666666666,
              "#ed7953"
             ],
             [
              0.7777777777777778,
              "#fb9f3a"
             ],
             [
              0.8888888888888888,
              "#fdca26"
             ],
             [
              1,
              "#f0f921"
             ]
            ],
            "type": "histogram2d"
           }
          ],
          "histogram2dcontour": [
           {
            "colorbar": {
             "outlinewidth": 0,
             "ticks": ""
            },
            "colorscale": [
             [
              0,
              "#0d0887"
             ],
             [
              0.1111111111111111,
              "#46039f"
             ],
             [
              0.2222222222222222,
              "#7201a8"
             ],
             [
              0.3333333333333333,
              "#9c179e"
             ],
             [
              0.4444444444444444,
              "#bd3786"
             ],
             [
              0.5555555555555556,
              "#d8576b"
             ],
             [
              0.6666666666666666,
              "#ed7953"
             ],
             [
              0.7777777777777778,
              "#fb9f3a"
             ],
             [
              0.8888888888888888,
              "#fdca26"
             ],
             [
              1,
              "#f0f921"
             ]
            ],
            "type": "histogram2dcontour"
           }
          ],
          "mesh3d": [
           {
            "colorbar": {
             "outlinewidth": 0,
             "ticks": ""
            },
            "type": "mesh3d"
           }
          ],
          "parcoords": [
           {
            "line": {
             "colorbar": {
              "outlinewidth": 0,
              "ticks": ""
             }
            },
            "type": "parcoords"
           }
          ],
          "pie": [
           {
            "automargin": true,
            "type": "pie"
           }
          ],
          "scatter": [
           {
            "fillpattern": {
             "fillmode": "overlay",
             "size": 10,
             "solidity": 0.2
            },
            "type": "scatter"
           }
          ],
          "scatter3d": [
           {
            "line": {
             "colorbar": {
              "outlinewidth": 0,
              "ticks": ""
             }
            },
            "marker": {
             "colorbar": {
              "outlinewidth": 0,
              "ticks": ""
             }
            },
            "type": "scatter3d"
           }
          ],
          "scattercarpet": [
           {
            "marker": {
             "colorbar": {
              "outlinewidth": 0,
              "ticks": ""
             }
            },
            "type": "scattercarpet"
           }
          ],
          "scattergeo": [
           {
            "marker": {
             "colorbar": {
              "outlinewidth": 0,
              "ticks": ""
             }
            },
            "type": "scattergeo"
           }
          ],
          "scattergl": [
           {
            "marker": {
             "colorbar": {
              "outlinewidth": 0,
              "ticks": ""
             }
            },
            "type": "scattergl"
           }
          ],
          "scattermapbox": [
           {
            "marker": {
             "colorbar": {
              "outlinewidth": 0,
              "ticks": ""
             }
            },
            "type": "scattermapbox"
           }
          ],
          "scatterpolar": [
           {
            "marker": {
             "colorbar": {
              "outlinewidth": 0,
              "ticks": ""
             }
            },
            "type": "scatterpolar"
           }
          ],
          "scatterpolargl": [
           {
            "marker": {
             "colorbar": {
              "outlinewidth": 0,
              "ticks": ""
             }
            },
            "type": "scatterpolargl"
           }
          ],
          "scatterternary": [
           {
            "marker": {
             "colorbar": {
              "outlinewidth": 0,
              "ticks": ""
             }
            },
            "type": "scatterternary"
           }
          ],
          "surface": [
           {
            "colorbar": {
             "outlinewidth": 0,
             "ticks": ""
            },
            "colorscale": [
             [
              0,
              "#0d0887"
             ],
             [
              0.1111111111111111,
              "#46039f"
             ],
             [
              0.2222222222222222,
              "#7201a8"
             ],
             [
              0.3333333333333333,
              "#9c179e"
             ],
             [
              0.4444444444444444,
              "#bd3786"
             ],
             [
              0.5555555555555556,
              "#d8576b"
             ],
             [
              0.6666666666666666,
              "#ed7953"
             ],
             [
              0.7777777777777778,
              "#fb9f3a"
             ],
             [
              0.8888888888888888,
              "#fdca26"
             ],
             [
              1,
              "#f0f921"
             ]
            ],
            "type": "surface"
           }
          ],
          "table": [
           {
            "cells": {
             "fill": {
              "color": "#EBF0F8"
             },
             "line": {
              "color": "white"
             }
            },
            "header": {
             "fill": {
              "color": "#C8D4E3"
             },
             "line": {
              "color": "white"
             }
            },
            "type": "table"
           }
          ]
         },
         "layout": {
          "annotationdefaults": {
           "arrowcolor": "#2a3f5f",
           "arrowhead": 0,
           "arrowwidth": 1
          },
          "autotypenumbers": "strict",
          "coloraxis": {
           "colorbar": {
            "outlinewidth": 0,
            "ticks": ""
           }
          },
          "colorscale": {
           "diverging": [
            [
             0,
             "#8e0152"
            ],
            [
             0.1,
             "#c51b7d"
            ],
            [
             0.2,
             "#de77ae"
            ],
            [
             0.3,
             "#f1b6da"
            ],
            [
             0.4,
             "#fde0ef"
            ],
            [
             0.5,
             "#f7f7f7"
            ],
            [
             0.6,
             "#e6f5d0"
            ],
            [
             0.7,
             "#b8e186"
            ],
            [
             0.8,
             "#7fbc41"
            ],
            [
             0.9,
             "#4d9221"
            ],
            [
             1,
             "#276419"
            ]
           ],
           "sequential": [
            [
             0,
             "#0d0887"
            ],
            [
             0.1111111111111111,
             "#46039f"
            ],
            [
             0.2222222222222222,
             "#7201a8"
            ],
            [
             0.3333333333333333,
             "#9c179e"
            ],
            [
             0.4444444444444444,
             "#bd3786"
            ],
            [
             0.5555555555555556,
             "#d8576b"
            ],
            [
             0.6666666666666666,
             "#ed7953"
            ],
            [
             0.7777777777777778,
             "#fb9f3a"
            ],
            [
             0.8888888888888888,
             "#fdca26"
            ],
            [
             1,
             "#f0f921"
            ]
           ],
           "sequentialminus": [
            [
             0,
             "#0d0887"
            ],
            [
             0.1111111111111111,
             "#46039f"
            ],
            [
             0.2222222222222222,
             "#7201a8"
            ],
            [
             0.3333333333333333,
             "#9c179e"
            ],
            [
             0.4444444444444444,
             "#bd3786"
            ],
            [
             0.5555555555555556,
             "#d8576b"
            ],
            [
             0.6666666666666666,
             "#ed7953"
            ],
            [
             0.7777777777777778,
             "#fb9f3a"
            ],
            [
             0.8888888888888888,
             "#fdca26"
            ],
            [
             1,
             "#f0f921"
            ]
           ]
          },
          "colorway": [
           "#636efa",
           "#EF553B",
           "#00cc96",
           "#ab63fa",
           "#FFA15A",
           "#19d3f3",
           "#FF6692",
           "#B6E880",
           "#FF97FF",
           "#FECB52"
          ],
          "font": {
           "color": "#2a3f5f"
          },
          "geo": {
           "bgcolor": "white",
           "lakecolor": "white",
           "landcolor": "#E5ECF6",
           "showlakes": true,
           "showland": true,
           "subunitcolor": "white"
          },
          "hoverlabel": {
           "align": "left"
          },
          "hovermode": "closest",
          "mapbox": {
           "style": "light"
          },
          "paper_bgcolor": "white",
          "plot_bgcolor": "#E5ECF6",
          "polar": {
           "angularaxis": {
            "gridcolor": "white",
            "linecolor": "white",
            "ticks": ""
           },
           "bgcolor": "#E5ECF6",
           "radialaxis": {
            "gridcolor": "white",
            "linecolor": "white",
            "ticks": ""
           }
          },
          "scene": {
           "xaxis": {
            "backgroundcolor": "#E5ECF6",
            "gridcolor": "white",
            "gridwidth": 2,
            "linecolor": "white",
            "showbackground": true,
            "ticks": "",
            "zerolinecolor": "white"
           },
           "yaxis": {
            "backgroundcolor": "#E5ECF6",
            "gridcolor": "white",
            "gridwidth": 2,
            "linecolor": "white",
            "showbackground": true,
            "ticks": "",
            "zerolinecolor": "white"
           },
           "zaxis": {
            "backgroundcolor": "#E5ECF6",
            "gridcolor": "white",
            "gridwidth": 2,
            "linecolor": "white",
            "showbackground": true,
            "ticks": "",
            "zerolinecolor": "white"
           }
          },
          "shapedefaults": {
           "line": {
            "color": "#2a3f5f"
           }
          },
          "ternary": {
           "aaxis": {
            "gridcolor": "white",
            "linecolor": "white",
            "ticks": ""
           },
           "baxis": {
            "gridcolor": "white",
            "linecolor": "white",
            "ticks": ""
           },
           "bgcolor": "#E5ECF6",
           "caxis": {
            "gridcolor": "white",
            "linecolor": "white",
            "ticks": ""
           }
          },
          "title": {
           "x": 0.05
          },
          "xaxis": {
           "automargin": true,
           "gridcolor": "white",
           "linecolor": "white",
           "ticks": "",
           "title": {
            "standoff": 15
           },
           "zerolinecolor": "white",
           "zerolinewidth": 2
          },
          "yaxis": {
           "automargin": true,
           "gridcolor": "white",
           "linecolor": "white",
           "ticks": "",
           "title": {
            "standoff": 15
           },
           "zerolinecolor": "white",
           "zerolinewidth": 2
          }
         }
        },
        "title": {
         "text": "Metro Population 2020"
        },
        "xaxis": {
         "anchor": "y",
         "domain": [
          0,
          1
         ],
         "title": {
          "text": "City_Metro"
         }
        },
        "yaxis": {
         "anchor": "x",
         "domain": [
          0,
          1
         ],
         "title": {
          "text": "sum of Population"
         }
        }
       }
      }
     },
     "metadata": {},
     "output_type": "display_data"
    }
   ],
   "source": [
    "px.histogram(DF1_MetPop2020, x='City_Metro', y='Population', nbins= 7, title='Metro Population 2020') "
   ]
  },
  {
   "cell_type": "code",
   "execution_count": null,
   "metadata": {},
   "outputs": [],
   "source": []
  },
  {
   "cell_type": "code",
   "execution_count": 1216,
   "metadata": {},
   "outputs": [
    {
     "data": {
      "text/html": [
       "<div>\n",
       "<style scoped>\n",
       "    .dataframe tbody tr th:only-of-type {\n",
       "        vertical-align: middle;\n",
       "    }\n",
       "\n",
       "    .dataframe tbody tr th {\n",
       "        vertical-align: top;\n",
       "    }\n",
       "\n",
       "    .dataframe thead th {\n",
       "        text-align: right;\n",
       "    }\n",
       "</style>\n",
       "<table border=\"1\" class=\"dataframe\">\n",
       "  <thead>\n",
       "    <tr style=\"text-align: right;\">\n",
       "      <th></th>\n",
       "      <th>CBSA</th>\n",
       "      <th>City_Metro</th>\n",
       "      <th>LSAD</th>\n",
       "      <th>Date</th>\n",
       "      <th>Population</th>\n",
       "      <th>Male_Population</th>\n",
       "      <th>Female_Population</th>\n",
       "      <th>Median_Age_Total</th>\n",
       "      <th>Median_Age_Male</th>\n",
       "      <th>Median_Age_Female</th>\n",
       "    </tr>\n",
       "  </thead>\n",
       "  <tbody>\n",
       "    <tr>\n",
       "      <th>630</th>\n",
       "      <td>31080</td>\n",
       "      <td>Los Angeles-Long Beach-Anaheim, CA</td>\n",
       "      <td>Metropolitan Statistical Area</td>\n",
       "      <td>1</td>\n",
       "      <td>13200998</td>\n",
       "      <td>6546539</td>\n",
       "      <td>6654459</td>\n",
       "      <td>37.6</td>\n",
       "      <td>36.7</td>\n",
       "      <td>38.6</td>\n",
       "    </tr>\n",
       "    <tr>\n",
       "      <th>747</th>\n",
       "      <td>35620</td>\n",
       "      <td>New York-Newark-Jersey City, NY-NJ-PA</td>\n",
       "      <td>Metropolitan Statistical Area</td>\n",
       "      <td>1</td>\n",
       "      <td>20140470</td>\n",
       "      <td>9811780</td>\n",
       "      <td>10328690</td>\n",
       "      <td>39.0</td>\n",
       "      <td>37.8</td>\n",
       "      <td>40.3</td>\n",
       "    </tr>\n",
       "  </tbody>\n",
       "</table>\n",
       "</div>"
      ],
      "text/plain": [
       "      CBSA                             City_Metro  \\\n",
       "630  31080     Los Angeles-Long Beach-Anaheim, CA   \n",
       "747  35620  New York-Newark-Jersey City, NY-NJ-PA   \n",
       "\n",
       "                              LSAD  Date  Population  Male_Population  \\\n",
       "630  Metropolitan Statistical Area     1    13200998          6546539   \n",
       "747  Metropolitan Statistical Area     1    20140470          9811780   \n",
       "\n",
       "     Female_Population  Median_Age_Total  Median_Age_Male  Median_Age_Female  \n",
       "630            6654459              37.6             36.7               38.6  \n",
       "747           10328690              39.0             37.8               40.3  "
      ]
     },
     "execution_count": 1216,
     "metadata": {},
     "output_type": "execute_result"
    }
   ],
   "source": [
    "# Which metro areas have a population over 10 million?\n",
    "HighestPop = DF1_MetPop2020[DF1_MetPop2020['Population'] > 10000000]\n",
    "HighestPop"
   ]
  },
  {
   "cell_type": "code",
   "execution_count": 1217,
   "metadata": {},
   "outputs": [
    {
     "data": {
      "text/html": [
       "<div>\n",
       "<style scoped>\n",
       "    .dataframe tbody tr th:only-of-type {\n",
       "        vertical-align: middle;\n",
       "    }\n",
       "\n",
       "    .dataframe tbody tr th {\n",
       "        vertical-align: top;\n",
       "    }\n",
       "\n",
       "    .dataframe thead th {\n",
       "        text-align: right;\n",
       "    }\n",
       "</style>\n",
       "<table border=\"1\" class=\"dataframe\">\n",
       "  <thead>\n",
       "    <tr style=\"text-align: right;\">\n",
       "      <th></th>\n",
       "      <th>CBSA</th>\n",
       "      <th>City_Metro</th>\n",
       "      <th>LSAD</th>\n",
       "      <th>Date</th>\n",
       "      <th>Population</th>\n",
       "      <th>Male_Population</th>\n",
       "      <th>Female_Population</th>\n",
       "      <th>Median_Age_Total</th>\n",
       "      <th>Median_Age_Male</th>\n",
       "      <th>Median_Age_Female</th>\n",
       "    </tr>\n",
       "  </thead>\n",
       "  <tbody>\n",
       "    <tr>\n",
       "      <th>51</th>\n",
       "      <td>12060</td>\n",
       "      <td>Atlanta-Sandy Springs-Alpharetta, GA</td>\n",
       "      <td>Metropolitan Statistical Area</td>\n",
       "      <td>1</td>\n",
       "      <td>6089815</td>\n",
       "      <td>2957470</td>\n",
       "      <td>3132345</td>\n",
       "      <td>36.9</td>\n",
       "      <td>35.9</td>\n",
       "      <td>37.9</td>\n",
       "    </tr>\n",
       "    <tr>\n",
       "      <th>204</th>\n",
       "      <td>16980</td>\n",
       "      <td>Chicago-Naperville-Elgin, IL-IN-WI</td>\n",
       "      <td>Metropolitan Statistical Area</td>\n",
       "      <td>1</td>\n",
       "      <td>9618502</td>\n",
       "      <td>4739937</td>\n",
       "      <td>4878565</td>\n",
       "      <td>38.1</td>\n",
       "      <td>37.1</td>\n",
       "      <td>39.1</td>\n",
       "    </tr>\n",
       "    <tr>\n",
       "      <th>258</th>\n",
       "      <td>19100</td>\n",
       "      <td>Dallas-Fort Worth-Arlington, TX</td>\n",
       "      <td>Metropolitan Statistical Area</td>\n",
       "      <td>1</td>\n",
       "      <td>7637387</td>\n",
       "      <td>3779275</td>\n",
       "      <td>3858112</td>\n",
       "      <td>35.3</td>\n",
       "      <td>34.6</td>\n",
       "      <td>35.9</td>\n",
       "    </tr>\n",
       "    <tr>\n",
       "      <th>477</th>\n",
       "      <td>26420</td>\n",
       "      <td>Houston-The Woodlands-Sugar Land, TX</td>\n",
       "      <td>Metropolitan Statistical Area</td>\n",
       "      <td>1</td>\n",
       "      <td>7122240</td>\n",
       "      <td>3548196</td>\n",
       "      <td>3574044</td>\n",
       "      <td>35.0</td>\n",
       "      <td>34.4</td>\n",
       "      <td>35.5</td>\n",
       "    </tr>\n",
       "    <tr>\n",
       "      <th>630</th>\n",
       "      <td>31080</td>\n",
       "      <td>Los Angeles-Long Beach-Anaheim, CA</td>\n",
       "      <td>Metropolitan Statistical Area</td>\n",
       "      <td>1</td>\n",
       "      <td>13200998</td>\n",
       "      <td>6546539</td>\n",
       "      <td>6654459</td>\n",
       "      <td>37.6</td>\n",
       "      <td>36.7</td>\n",
       "      <td>38.6</td>\n",
       "    </tr>\n",
       "    <tr>\n",
       "      <th>675</th>\n",
       "      <td>33100</td>\n",
       "      <td>Miami-Fort Lauderdale-Pompano Beach, FL</td>\n",
       "      <td>Metropolitan Statistical Area</td>\n",
       "      <td>1</td>\n",
       "      <td>6138333</td>\n",
       "      <td>3005123</td>\n",
       "      <td>3133210</td>\n",
       "      <td>41.6</td>\n",
       "      <td>40.3</td>\n",
       "      <td>42.9</td>\n",
       "    </tr>\n",
       "    <tr>\n",
       "      <th>747</th>\n",
       "      <td>35620</td>\n",
       "      <td>New York-Newark-Jersey City, NY-NJ-PA</td>\n",
       "      <td>Metropolitan Statistical Area</td>\n",
       "      <td>1</td>\n",
       "      <td>20140470</td>\n",
       "      <td>9811780</td>\n",
       "      <td>10328690</td>\n",
       "      <td>39.0</td>\n",
       "      <td>37.8</td>\n",
       "      <td>40.3</td>\n",
       "    </tr>\n",
       "    <tr>\n",
       "      <th>807</th>\n",
       "      <td>37980</td>\n",
       "      <td>Philadelphia-Camden-Wilmington, PA-NJ-DE-MD</td>\n",
       "      <td>Metropolitan Statistical Area</td>\n",
       "      <td>1</td>\n",
       "      <td>6245051</td>\n",
       "      <td>3040403</td>\n",
       "      <td>3204648</td>\n",
       "      <td>39.0</td>\n",
       "      <td>37.7</td>\n",
       "      <td>40.3</td>\n",
       "    </tr>\n",
       "    <tr>\n",
       "      <th>1095</th>\n",
       "      <td>47900</td>\n",
       "      <td>Washington-Arlington-Alexandria, DC-VA-MD-WV</td>\n",
       "      <td>Metropolitan Statistical Area</td>\n",
       "      <td>1</td>\n",
       "      <td>6385162</td>\n",
       "      <td>3141717</td>\n",
       "      <td>3243445</td>\n",
       "      <td>37.6</td>\n",
       "      <td>36.8</td>\n",
       "      <td>38.3</td>\n",
       "    </tr>\n",
       "  </tbody>\n",
       "</table>\n",
       "</div>"
      ],
      "text/plain": [
       "       CBSA                                    City_Metro  \\\n",
       "51    12060          Atlanta-Sandy Springs-Alpharetta, GA   \n",
       "204   16980            Chicago-Naperville-Elgin, IL-IN-WI   \n",
       "258   19100               Dallas-Fort Worth-Arlington, TX   \n",
       "477   26420          Houston-The Woodlands-Sugar Land, TX   \n",
       "630   31080            Los Angeles-Long Beach-Anaheim, CA   \n",
       "675   33100       Miami-Fort Lauderdale-Pompano Beach, FL   \n",
       "747   35620         New York-Newark-Jersey City, NY-NJ-PA   \n",
       "807   37980   Philadelphia-Camden-Wilmington, PA-NJ-DE-MD   \n",
       "1095  47900  Washington-Arlington-Alexandria, DC-VA-MD-WV   \n",
       "\n",
       "                               LSAD  Date  Population  Male_Population  \\\n",
       "51    Metropolitan Statistical Area     1     6089815          2957470   \n",
       "204   Metropolitan Statistical Area     1     9618502          4739937   \n",
       "258   Metropolitan Statistical Area     1     7637387          3779275   \n",
       "477   Metropolitan Statistical Area     1     7122240          3548196   \n",
       "630   Metropolitan Statistical Area     1    13200998          6546539   \n",
       "675   Metropolitan Statistical Area     1     6138333          3005123   \n",
       "747   Metropolitan Statistical Area     1    20140470          9811780   \n",
       "807   Metropolitan Statistical Area     1     6245051          3040403   \n",
       "1095  Metropolitan Statistical Area     1     6385162          3141717   \n",
       "\n",
       "      Female_Population  Median_Age_Total  Median_Age_Male  Median_Age_Female  \n",
       "51              3132345              36.9             35.9               37.9  \n",
       "204             4878565              38.1             37.1               39.1  \n",
       "258             3858112              35.3             34.6               35.9  \n",
       "477             3574044              35.0             34.4               35.5  \n",
       "630             6654459              37.6             36.7               38.6  \n",
       "675             3133210              41.6             40.3               42.9  \n",
       "747            10328690              39.0             37.8               40.3  \n",
       "807             3204648              39.0             37.7               40.3  \n",
       "1095            3243445              37.6             36.8               38.3  "
      ]
     },
     "execution_count": 1217,
     "metadata": {},
     "output_type": "execute_result"
    }
   ],
   "source": [
    "PopOver_5mil = DF1_MetPop2020[DF1_MetPop2020['Population'] >= 5000000]\n",
    "PopOver_5mil"
   ]
  },
  {
   "cell_type": "code",
   "execution_count": 1218,
   "metadata": {},
   "outputs": [
    {
     "data": {
      "text/html": [
       "<div>\n",
       "<style scoped>\n",
       "    .dataframe tbody tr th:only-of-type {\n",
       "        vertical-align: middle;\n",
       "    }\n",
       "\n",
       "    .dataframe tbody tr th {\n",
       "        vertical-align: top;\n",
       "    }\n",
       "\n",
       "    .dataframe thead th {\n",
       "        text-align: right;\n",
       "    }\n",
       "</style>\n",
       "<table border=\"1\" class=\"dataframe\">\n",
       "  <thead>\n",
       "    <tr style=\"text-align: right;\">\n",
       "      <th></th>\n",
       "      <th>CBSA</th>\n",
       "      <th>City_Metro</th>\n",
       "      <th>LSAD</th>\n",
       "      <th>Date</th>\n",
       "      <th>Population</th>\n",
       "      <th>Male_Population</th>\n",
       "      <th>Female_Population</th>\n",
       "      <th>Median_Age_Total</th>\n",
       "      <th>Median_Age_Male</th>\n",
       "      <th>Median_Age_Female</th>\n",
       "    </tr>\n",
       "  </thead>\n",
       "  <tbody>\n",
       "    <tr>\n",
       "      <th>126</th>\n",
       "      <td>14460</td>\n",
       "      <td>Boston-Cambridge-Newton, MA-NH</td>\n",
       "      <td>Metropolitan Statistical Area</td>\n",
       "      <td>1</td>\n",
       "      <td>4941632</td>\n",
       "      <td>2418046</td>\n",
       "      <td>2523586</td>\n",
       "      <td>38.8</td>\n",
       "      <td>37.8</td>\n",
       "      <td>39.9</td>\n",
       "    </tr>\n",
       "    <tr>\n",
       "      <th>147</th>\n",
       "      <td>15380</td>\n",
       "      <td>Buffalo-Cheektowaga, NY</td>\n",
       "      <td>Metropolitan Statistical Area</td>\n",
       "      <td>1</td>\n",
       "      <td>1166902</td>\n",
       "      <td>569707</td>\n",
       "      <td>597195</td>\n",
       "      <td>40.8</td>\n",
       "      <td>39.4</td>\n",
       "      <td>42.3</td>\n",
       "    </tr>\n",
       "    <tr>\n",
       "      <th>210</th>\n",
       "      <td>17140</td>\n",
       "      <td>Cincinnati, OH-KY-IN</td>\n",
       "      <td>Metropolitan Statistical Area</td>\n",
       "      <td>1</td>\n",
       "      <td>2256884</td>\n",
       "      <td>1114630</td>\n",
       "      <td>1142254</td>\n",
       "      <td>38.1</td>\n",
       "      <td>37.1</td>\n",
       "      <td>39.1</td>\n",
       "    </tr>\n",
       "    <tr>\n",
       "      <th>285</th>\n",
       "      <td>19740</td>\n",
       "      <td>Denver-Aurora-Lakewood, CO</td>\n",
       "      <td>Metropolitan Statistical Area</td>\n",
       "      <td>1</td>\n",
       "      <td>2963821</td>\n",
       "      <td>1492321</td>\n",
       "      <td>1471500</td>\n",
       "      <td>36.9</td>\n",
       "      <td>36.4</td>\n",
       "      <td>37.5</td>\n",
       "    </tr>\n",
       "    <tr>\n",
       "      <th>291</th>\n",
       "      <td>19820</td>\n",
       "      <td>Detroit-Warren-Dearborn, MI</td>\n",
       "      <td>Metropolitan Statistical Area</td>\n",
       "      <td>1</td>\n",
       "      <td>4392041</td>\n",
       "      <td>2153747</td>\n",
       "      <td>2238294</td>\n",
       "      <td>40.1</td>\n",
       "      <td>38.7</td>\n",
       "      <td>41.4</td>\n",
       "    </tr>\n",
       "    <tr>\n",
       "      <th>489</th>\n",
       "      <td>26900</td>\n",
       "      <td>Indianapolis-Carmel-Anderson, IN</td>\n",
       "      <td>Metropolitan Statistical Area</td>\n",
       "      <td>1</td>\n",
       "      <td>2111040</td>\n",
       "      <td>1038774</td>\n",
       "      <td>1072266</td>\n",
       "      <td>36.7</td>\n",
       "      <td>35.8</td>\n",
       "      <td>37.6</td>\n",
       "    </tr>\n",
       "    <tr>\n",
       "      <th>540</th>\n",
       "      <td>28140</td>\n",
       "      <td>Kansas City, MO-KS</td>\n",
       "      <td>Metropolitan Statistical Area</td>\n",
       "      <td>1</td>\n",
       "      <td>2192035</td>\n",
       "      <td>1082767</td>\n",
       "      <td>1109268</td>\n",
       "      <td>37.7</td>\n",
       "      <td>36.8</td>\n",
       "      <td>38.6</td>\n",
       "    </tr>\n",
       "    <tr>\n",
       "      <th>591</th>\n",
       "      <td>29820</td>\n",
       "      <td>Las Vegas-Henderson-Paradise, NV</td>\n",
       "      <td>Metropolitan Statistical Area</td>\n",
       "      <td>1</td>\n",
       "      <td>2265461</td>\n",
       "      <td>1134726</td>\n",
       "      <td>1130735</td>\n",
       "      <td>37.8</td>\n",
       "      <td>37.3</td>\n",
       "      <td>38.3</td>\n",
       "    </tr>\n",
       "    <tr>\n",
       "      <th>633</th>\n",
       "      <td>31140</td>\n",
       "      <td>Louisville/Jefferson County, KY-IN</td>\n",
       "      <td>Metropolitan Statistical Area</td>\n",
       "      <td>1</td>\n",
       "      <td>1285439</td>\n",
       "      <td>631705</td>\n",
       "      <td>653734</td>\n",
       "      <td>39.2</td>\n",
       "      <td>38.1</td>\n",
       "      <td>40.3</td>\n",
       "    </tr>\n",
       "    <tr>\n",
       "      <th>669</th>\n",
       "      <td>32820</td>\n",
       "      <td>Memphis, TN-MS-AR</td>\n",
       "      <td>Metropolitan Statistical Area</td>\n",
       "      <td>1</td>\n",
       "      <td>1337779</td>\n",
       "      <td>641509</td>\n",
       "      <td>696270</td>\n",
       "      <td>36.6</td>\n",
       "      <td>35.2</td>\n",
       "      <td>37.9</td>\n",
       "    </tr>\n",
       "    <tr>\n",
       "      <th>687</th>\n",
       "      <td>33340</td>\n",
       "      <td>Milwaukee-Waukesha, WI</td>\n",
       "      <td>Metropolitan Statistical Area</td>\n",
       "      <td>1</td>\n",
       "      <td>1574731</td>\n",
       "      <td>772689</td>\n",
       "      <td>802042</td>\n",
       "      <td>38.3</td>\n",
       "      <td>37.4</td>\n",
       "      <td>39.2</td>\n",
       "    </tr>\n",
       "    <tr>\n",
       "      <th>690</th>\n",
       "      <td>33460</td>\n",
       "      <td>Minneapolis-St. Paul-Bloomington, MN-WI</td>\n",
       "      <td>Metropolitan Statistical Area</td>\n",
       "      <td>1</td>\n",
       "      <td>3690261</td>\n",
       "      <td>1841756</td>\n",
       "      <td>1848505</td>\n",
       "      <td>37.5</td>\n",
       "      <td>36.9</td>\n",
       "      <td>38.2</td>\n",
       "    </tr>\n",
       "    <tr>\n",
       "      <th>735</th>\n",
       "      <td>34980</td>\n",
       "      <td>Nashville-Davidson--Murfreesboro--Franklin, TN</td>\n",
       "      <td>Metropolitan Statistical Area</td>\n",
       "      <td>1</td>\n",
       "      <td>1989519</td>\n",
       "      <td>975573</td>\n",
       "      <td>1013946</td>\n",
       "      <td>36.8</td>\n",
       "      <td>36.0</td>\n",
       "      <td>37.4</td>\n",
       "    </tr>\n",
       "    <tr>\n",
       "      <th>744</th>\n",
       "      <td>35380</td>\n",
       "      <td>New Orleans-Metairie, LA</td>\n",
       "      <td>Metropolitan Statistical Area</td>\n",
       "      <td>1</td>\n",
       "      <td>1271845</td>\n",
       "      <td>616081</td>\n",
       "      <td>655764</td>\n",
       "      <td>39.0</td>\n",
       "      <td>38.1</td>\n",
       "      <td>39.9</td>\n",
       "    </tr>\n",
       "    <tr>\n",
       "      <th>780</th>\n",
       "      <td>36740</td>\n",
       "      <td>Orlando-Kissimmee-Sanford, FL</td>\n",
       "      <td>Metropolitan Statistical Area</td>\n",
       "      <td>1</td>\n",
       "      <td>2673376</td>\n",
       "      <td>1314143</td>\n",
       "      <td>1359233</td>\n",
       "      <td>37.9</td>\n",
       "      <td>37.0</td>\n",
       "      <td>38.8</td>\n",
       "    </tr>\n",
       "    <tr>\n",
       "      <th>810</th>\n",
       "      <td>38060</td>\n",
       "      <td>Phoenix-Mesa-Chandler, AZ</td>\n",
       "      <td>Metropolitan Statistical Area</td>\n",
       "      <td>1</td>\n",
       "      <td>4845832</td>\n",
       "      <td>2418925</td>\n",
       "      <td>2426907</td>\n",
       "      <td>37.3</td>\n",
       "      <td>36.4</td>\n",
       "      <td>38.3</td>\n",
       "    </tr>\n",
       "    <tr>\n",
       "      <th>828</th>\n",
       "      <td>38900</td>\n",
       "      <td>Portland-Vancouver-Hillsboro, OR-WA</td>\n",
       "      <td>Metropolitan Statistical Area</td>\n",
       "      <td>1</td>\n",
       "      <td>2512859</td>\n",
       "      <td>1251332</td>\n",
       "      <td>1261527</td>\n",
       "      <td>38.7</td>\n",
       "      <td>38.0</td>\n",
       "      <td>39.3</td>\n",
       "    </tr>\n",
       "    <tr>\n",
       "      <th>927</th>\n",
       "      <td>41700</td>\n",
       "      <td>San Antonio-New Braunfels, TX</td>\n",
       "      <td>Metropolitan Statistical Area</td>\n",
       "      <td>1</td>\n",
       "      <td>2558143</td>\n",
       "      <td>1272145</td>\n",
       "      <td>1285998</td>\n",
       "      <td>35.3</td>\n",
       "      <td>34.4</td>\n",
       "      <td>36.3</td>\n",
       "    </tr>\n",
       "    <tr>\n",
       "      <th>930</th>\n",
       "      <td>41740</td>\n",
       "      <td>San Diego-Chula Vista-Carlsbad, CA</td>\n",
       "      <td>Metropolitan Statistical Area</td>\n",
       "      <td>1</td>\n",
       "      <td>3298634</td>\n",
       "      <td>1671043</td>\n",
       "      <td>1627591</td>\n",
       "      <td>36.5</td>\n",
       "      <td>35.5</td>\n",
       "      <td>37.7</td>\n",
       "    </tr>\n",
       "    <tr>\n",
       "      <th>933</th>\n",
       "      <td>41860</td>\n",
       "      <td>San Francisco-Oakland-Berkeley, CA</td>\n",
       "      <td>Metropolitan Statistical Area</td>\n",
       "      <td>1</td>\n",
       "      <td>4749008</td>\n",
       "      <td>2365423</td>\n",
       "      <td>2383585</td>\n",
       "      <td>39.3</td>\n",
       "      <td>38.6</td>\n",
       "      <td>40.1</td>\n",
       "    </tr>\n",
       "    <tr>\n",
       "      <th>960</th>\n",
       "      <td>42660</td>\n",
       "      <td>Seattle-Tacoma-Bellevue, WA</td>\n",
       "      <td>Metropolitan Statistical Area</td>\n",
       "      <td>1</td>\n",
       "      <td>4018762</td>\n",
       "      <td>2029293</td>\n",
       "      <td>1989469</td>\n",
       "      <td>37.2</td>\n",
       "      <td>36.5</td>\n",
       "      <td>37.9</td>\n",
       "    </tr>\n",
       "  </tbody>\n",
       "</table>\n",
       "</div>"
      ],
      "text/plain": [
       "      CBSA                                      City_Metro  \\\n",
       "126  14460                  Boston-Cambridge-Newton, MA-NH   \n",
       "147  15380                         Buffalo-Cheektowaga, NY   \n",
       "210  17140                            Cincinnati, OH-KY-IN   \n",
       "285  19740                      Denver-Aurora-Lakewood, CO   \n",
       "291  19820                     Detroit-Warren-Dearborn, MI   \n",
       "489  26900                Indianapolis-Carmel-Anderson, IN   \n",
       "540  28140                              Kansas City, MO-KS   \n",
       "591  29820                Las Vegas-Henderson-Paradise, NV   \n",
       "633  31140              Louisville/Jefferson County, KY-IN   \n",
       "669  32820                               Memphis, TN-MS-AR   \n",
       "687  33340                          Milwaukee-Waukesha, WI   \n",
       "690  33460         Minneapolis-St. Paul-Bloomington, MN-WI   \n",
       "735  34980  Nashville-Davidson--Murfreesboro--Franklin, TN   \n",
       "744  35380                        New Orleans-Metairie, LA   \n",
       "780  36740                   Orlando-Kissimmee-Sanford, FL   \n",
       "810  38060                       Phoenix-Mesa-Chandler, AZ   \n",
       "828  38900             Portland-Vancouver-Hillsboro, OR-WA   \n",
       "927  41700                   San Antonio-New Braunfels, TX   \n",
       "930  41740              San Diego-Chula Vista-Carlsbad, CA   \n",
       "933  41860              San Francisco-Oakland-Berkeley, CA   \n",
       "960  42660                     Seattle-Tacoma-Bellevue, WA   \n",
       "\n",
       "                              LSAD  Date  Population  Male_Population  \\\n",
       "126  Metropolitan Statistical Area     1     4941632          2418046   \n",
       "147  Metropolitan Statistical Area     1     1166902           569707   \n",
       "210  Metropolitan Statistical Area     1     2256884          1114630   \n",
       "285  Metropolitan Statistical Area     1     2963821          1492321   \n",
       "291  Metropolitan Statistical Area     1     4392041          2153747   \n",
       "489  Metropolitan Statistical Area     1     2111040          1038774   \n",
       "540  Metropolitan Statistical Area     1     2192035          1082767   \n",
       "591  Metropolitan Statistical Area     1     2265461          1134726   \n",
       "633  Metropolitan Statistical Area     1     1285439           631705   \n",
       "669  Metropolitan Statistical Area     1     1337779           641509   \n",
       "687  Metropolitan Statistical Area     1     1574731           772689   \n",
       "690  Metropolitan Statistical Area     1     3690261          1841756   \n",
       "735  Metropolitan Statistical Area     1     1989519           975573   \n",
       "744  Metropolitan Statistical Area     1     1271845           616081   \n",
       "780  Metropolitan Statistical Area     1     2673376          1314143   \n",
       "810  Metropolitan Statistical Area     1     4845832          2418925   \n",
       "828  Metropolitan Statistical Area     1     2512859          1251332   \n",
       "927  Metropolitan Statistical Area     1     2558143          1272145   \n",
       "930  Metropolitan Statistical Area     1     3298634          1671043   \n",
       "933  Metropolitan Statistical Area     1     4749008          2365423   \n",
       "960  Metropolitan Statistical Area     1     4018762          2029293   \n",
       "\n",
       "     Female_Population  Median_Age_Total  Median_Age_Male  Median_Age_Female  \n",
       "126            2523586              38.8             37.8               39.9  \n",
       "147             597195              40.8             39.4               42.3  \n",
       "210            1142254              38.1             37.1               39.1  \n",
       "285            1471500              36.9             36.4               37.5  \n",
       "291            2238294              40.1             38.7               41.4  \n",
       "489            1072266              36.7             35.8               37.6  \n",
       "540            1109268              37.7             36.8               38.6  \n",
       "591            1130735              37.8             37.3               38.3  \n",
       "633             653734              39.2             38.1               40.3  \n",
       "669             696270              36.6             35.2               37.9  \n",
       "687             802042              38.3             37.4               39.2  \n",
       "690            1848505              37.5             36.9               38.2  \n",
       "735            1013946              36.8             36.0               37.4  \n",
       "744             655764              39.0             38.1               39.9  \n",
       "780            1359233              37.9             37.0               38.8  \n",
       "810            2426907              37.3             36.4               38.3  \n",
       "828            1261527              38.7             38.0               39.3  \n",
       "927            1285998              35.3             34.4               36.3  \n",
       "930            1627591              36.5             35.5               37.7  \n",
       "933            2383585              39.3             38.6               40.1  \n",
       "960            1989469              37.2             36.5               37.9  "
      ]
     },
     "execution_count": 1218,
     "metadata": {},
     "output_type": "execute_result"
    }
   ],
   "source": [
    "PopUnder_5Mil = DF1_MetPop2020[DF1_MetPop2020['Population'] <= 5000000]\n",
    "PopUnder_5Mil"
   ]
  },
  {
   "cell_type": "code",
   "execution_count": 1219,
   "metadata": {},
   "outputs": [
    {
     "data": {
      "text/html": [
       "<div>\n",
       "<style scoped>\n",
       "    .dataframe tbody tr th:only-of-type {\n",
       "        vertical-align: middle;\n",
       "    }\n",
       "\n",
       "    .dataframe tbody tr th {\n",
       "        vertical-align: top;\n",
       "    }\n",
       "\n",
       "    .dataframe thead th {\n",
       "        text-align: right;\n",
       "    }\n",
       "</style>\n",
       "<table border=\"1\" class=\"dataframe\">\n",
       "  <thead>\n",
       "    <tr style=\"text-align: right;\">\n",
       "      <th></th>\n",
       "      <th>City_Metro</th>\n",
       "      <th>Population</th>\n",
       "    </tr>\n",
       "  </thead>\n",
       "  <tbody>\n",
       "    <tr>\n",
       "      <th>747</th>\n",
       "      <td>New York-Newark-Jersey City, NY-NJ-PA</td>\n",
       "      <td>20140470</td>\n",
       "    </tr>\n",
       "    <tr>\n",
       "      <th>630</th>\n",
       "      <td>Los Angeles-Long Beach-Anaheim, CA</td>\n",
       "      <td>13200998</td>\n",
       "    </tr>\n",
       "    <tr>\n",
       "      <th>204</th>\n",
       "      <td>Chicago-Naperville-Elgin, IL-IN-WI</td>\n",
       "      <td>9618502</td>\n",
       "    </tr>\n",
       "    <tr>\n",
       "      <th>258</th>\n",
       "      <td>Dallas-Fort Worth-Arlington, TX</td>\n",
       "      <td>7637387</td>\n",
       "    </tr>\n",
       "    <tr>\n",
       "      <th>477</th>\n",
       "      <td>Houston-The Woodlands-Sugar Land, TX</td>\n",
       "      <td>7122240</td>\n",
       "    </tr>\n",
       "    <tr>\n",
       "      <th>1095</th>\n",
       "      <td>Washington-Arlington-Alexandria, DC-VA-MD-WV</td>\n",
       "      <td>6385162</td>\n",
       "    </tr>\n",
       "    <tr>\n",
       "      <th>807</th>\n",
       "      <td>Philadelphia-Camden-Wilmington, PA-NJ-DE-MD</td>\n",
       "      <td>6245051</td>\n",
       "    </tr>\n",
       "    <tr>\n",
       "      <th>675</th>\n",
       "      <td>Miami-Fort Lauderdale-Pompano Beach, FL</td>\n",
       "      <td>6138333</td>\n",
       "    </tr>\n",
       "    <tr>\n",
       "      <th>51</th>\n",
       "      <td>Atlanta-Sandy Springs-Alpharetta, GA</td>\n",
       "      <td>6089815</td>\n",
       "    </tr>\n",
       "    <tr>\n",
       "      <th>126</th>\n",
       "      <td>Boston-Cambridge-Newton, MA-NH</td>\n",
       "      <td>4941632</td>\n",
       "    </tr>\n",
       "    <tr>\n",
       "      <th>810</th>\n",
       "      <td>Phoenix-Mesa-Chandler, AZ</td>\n",
       "      <td>4845832</td>\n",
       "    </tr>\n",
       "    <tr>\n",
       "      <th>933</th>\n",
       "      <td>San Francisco-Oakland-Berkeley, CA</td>\n",
       "      <td>4749008</td>\n",
       "    </tr>\n",
       "    <tr>\n",
       "      <th>291</th>\n",
       "      <td>Detroit-Warren-Dearborn, MI</td>\n",
       "      <td>4392041</td>\n",
       "    </tr>\n",
       "    <tr>\n",
       "      <th>960</th>\n",
       "      <td>Seattle-Tacoma-Bellevue, WA</td>\n",
       "      <td>4018762</td>\n",
       "    </tr>\n",
       "    <tr>\n",
       "      <th>690</th>\n",
       "      <td>Minneapolis-St. Paul-Bloomington, MN-WI</td>\n",
       "      <td>3690261</td>\n",
       "    </tr>\n",
       "    <tr>\n",
       "      <th>930</th>\n",
       "      <td>San Diego-Chula Vista-Carlsbad, CA</td>\n",
       "      <td>3298634</td>\n",
       "    </tr>\n",
       "    <tr>\n",
       "      <th>285</th>\n",
       "      <td>Denver-Aurora-Lakewood, CO</td>\n",
       "      <td>2963821</td>\n",
       "    </tr>\n",
       "    <tr>\n",
       "      <th>780</th>\n",
       "      <td>Orlando-Kissimmee-Sanford, FL</td>\n",
       "      <td>2673376</td>\n",
       "    </tr>\n",
       "    <tr>\n",
       "      <th>927</th>\n",
       "      <td>San Antonio-New Braunfels, TX</td>\n",
       "      <td>2558143</td>\n",
       "    </tr>\n",
       "    <tr>\n",
       "      <th>828</th>\n",
       "      <td>Portland-Vancouver-Hillsboro, OR-WA</td>\n",
       "      <td>2512859</td>\n",
       "    </tr>\n",
       "    <tr>\n",
       "      <th>591</th>\n",
       "      <td>Las Vegas-Henderson-Paradise, NV</td>\n",
       "      <td>2265461</td>\n",
       "    </tr>\n",
       "    <tr>\n",
       "      <th>210</th>\n",
       "      <td>Cincinnati, OH-KY-IN</td>\n",
       "      <td>2256884</td>\n",
       "    </tr>\n",
       "    <tr>\n",
       "      <th>540</th>\n",
       "      <td>Kansas City, MO-KS</td>\n",
       "      <td>2192035</td>\n",
       "    </tr>\n",
       "    <tr>\n",
       "      <th>489</th>\n",
       "      <td>Indianapolis-Carmel-Anderson, IN</td>\n",
       "      <td>2111040</td>\n",
       "    </tr>\n",
       "    <tr>\n",
       "      <th>735</th>\n",
       "      <td>Nashville-Davidson--Murfreesboro--Franklin, TN</td>\n",
       "      <td>1989519</td>\n",
       "    </tr>\n",
       "    <tr>\n",
       "      <th>687</th>\n",
       "      <td>Milwaukee-Waukesha, WI</td>\n",
       "      <td>1574731</td>\n",
       "    </tr>\n",
       "    <tr>\n",
       "      <th>669</th>\n",
       "      <td>Memphis, TN-MS-AR</td>\n",
       "      <td>1337779</td>\n",
       "    </tr>\n",
       "    <tr>\n",
       "      <th>633</th>\n",
       "      <td>Louisville/Jefferson County, KY-IN</td>\n",
       "      <td>1285439</td>\n",
       "    </tr>\n",
       "    <tr>\n",
       "      <th>744</th>\n",
       "      <td>New Orleans-Metairie, LA</td>\n",
       "      <td>1271845</td>\n",
       "    </tr>\n",
       "    <tr>\n",
       "      <th>147</th>\n",
       "      <td>Buffalo-Cheektowaga, NY</td>\n",
       "      <td>1166902</td>\n",
       "    </tr>\n",
       "  </tbody>\n",
       "</table>\n",
       "</div>"
      ],
      "text/plain": [
       "                                          City_Metro  Population\n",
       "747            New York-Newark-Jersey City, NY-NJ-PA    20140470\n",
       "630               Los Angeles-Long Beach-Anaheim, CA    13200998\n",
       "204               Chicago-Naperville-Elgin, IL-IN-WI     9618502\n",
       "258                  Dallas-Fort Worth-Arlington, TX     7637387\n",
       "477             Houston-The Woodlands-Sugar Land, TX     7122240\n",
       "1095    Washington-Arlington-Alexandria, DC-VA-MD-WV     6385162\n",
       "807      Philadelphia-Camden-Wilmington, PA-NJ-DE-MD     6245051\n",
       "675          Miami-Fort Lauderdale-Pompano Beach, FL     6138333\n",
       "51              Atlanta-Sandy Springs-Alpharetta, GA     6089815\n",
       "126                   Boston-Cambridge-Newton, MA-NH     4941632\n",
       "810                        Phoenix-Mesa-Chandler, AZ     4845832\n",
       "933               San Francisco-Oakland-Berkeley, CA     4749008\n",
       "291                      Detroit-Warren-Dearborn, MI     4392041\n",
       "960                      Seattle-Tacoma-Bellevue, WA     4018762\n",
       "690          Minneapolis-St. Paul-Bloomington, MN-WI     3690261\n",
       "930               San Diego-Chula Vista-Carlsbad, CA     3298634\n",
       "285                       Denver-Aurora-Lakewood, CO     2963821\n",
       "780                    Orlando-Kissimmee-Sanford, FL     2673376\n",
       "927                    San Antonio-New Braunfels, TX     2558143\n",
       "828              Portland-Vancouver-Hillsboro, OR-WA     2512859\n",
       "591                 Las Vegas-Henderson-Paradise, NV     2265461\n",
       "210                             Cincinnati, OH-KY-IN     2256884\n",
       "540                               Kansas City, MO-KS     2192035\n",
       "489                 Indianapolis-Carmel-Anderson, IN     2111040\n",
       "735   Nashville-Davidson--Murfreesboro--Franklin, TN     1989519\n",
       "687                           Milwaukee-Waukesha, WI     1574731\n",
       "669                                Memphis, TN-MS-AR     1337779\n",
       "633               Louisville/Jefferson County, KY-IN     1285439\n",
       "744                         New Orleans-Metairie, LA     1271845\n",
       "147                          Buffalo-Cheektowaga, NY     1166902"
      ]
     },
     "execution_count": 1219,
     "metadata": {},
     "output_type": "execute_result"
    }
   ],
   "source": [
    "MetroPop_High_to_Low = DF1_MetPop2020[['City_Metro', 'Population']].sort_values(by='Population', ascending=False)\n",
    "MetroPop_High_to_Low"
   ]
  },
  {
   "cell_type": "code",
   "execution_count": 1220,
   "metadata": {},
   "outputs": [
    {
     "data": {
      "text/html": [
       "<div>\n",
       "<style scoped>\n",
       "    .dataframe tbody tr th:only-of-type {\n",
       "        vertical-align: middle;\n",
       "    }\n",
       "\n",
       "    .dataframe tbody tr th {\n",
       "        vertical-align: top;\n",
       "    }\n",
       "\n",
       "    .dataframe thead th {\n",
       "        text-align: right;\n",
       "    }\n",
       "</style>\n",
       "<table border=\"1\" class=\"dataframe\">\n",
       "  <thead>\n",
       "    <tr style=\"text-align: right;\">\n",
       "      <th></th>\n",
       "      <th>CBSA</th>\n",
       "      <th>City_Metro_x</th>\n",
       "      <th>LSAD</th>\n",
       "      <th>Date</th>\n",
       "      <th>Population</th>\n",
       "      <th>Male_Population</th>\n",
       "      <th>Female_Population</th>\n",
       "      <th>Median_Age_Total</th>\n",
       "      <th>Median_Age_Male</th>\n",
       "      <th>Median_Age_Female</th>\n",
       "      <th>City_Metro_y</th>\n",
       "      <th>Population_2010</th>\n",
       "      <th>Population_2000</th>\n",
       "    </tr>\n",
       "  </thead>\n",
       "  <tbody>\n",
       "    <tr>\n",
       "      <th>0</th>\n",
       "      <td>12060</td>\n",
       "      <td>Atlanta-Sandy Springs-Alpharetta, GA</td>\n",
       "      <td>Metropolitan Statistical Area</td>\n",
       "      <td>1</td>\n",
       "      <td>6089815</td>\n",
       "      <td>2957470</td>\n",
       "      <td>3132345</td>\n",
       "      <td>36.9</td>\n",
       "      <td>35.9</td>\n",
       "      <td>37.9</td>\n",
       "      <td>Atlanta-Sandy Springs-Marietta, GA</td>\n",
       "      <td>5268860</td>\n",
       "      <td>4247981</td>\n",
       "    </tr>\n",
       "    <tr>\n",
       "      <th>1</th>\n",
       "      <td>14460</td>\n",
       "      <td>Boston-Cambridge-Newton, MA-NH</td>\n",
       "      <td>Metropolitan Statistical Area</td>\n",
       "      <td>1</td>\n",
       "      <td>4941632</td>\n",
       "      <td>2418046</td>\n",
       "      <td>2523586</td>\n",
       "      <td>38.8</td>\n",
       "      <td>37.8</td>\n",
       "      <td>39.9</td>\n",
       "      <td>Boston-Cambridge-Quincy, MA-NH</td>\n",
       "      <td>4552402</td>\n",
       "      <td>4391344</td>\n",
       "    </tr>\n",
       "    <tr>\n",
       "      <th>2</th>\n",
       "      <td>15380</td>\n",
       "      <td>Buffalo-Cheektowaga, NY</td>\n",
       "      <td>Metropolitan Statistical Area</td>\n",
       "      <td>1</td>\n",
       "      <td>1166902</td>\n",
       "      <td>569707</td>\n",
       "      <td>597195</td>\n",
       "      <td>40.8</td>\n",
       "      <td>39.4</td>\n",
       "      <td>42.3</td>\n",
       "      <td>Buffalo-Niagara Falls, NY</td>\n",
       "      <td>1135509</td>\n",
       "      <td>1170111</td>\n",
       "    </tr>\n",
       "    <tr>\n",
       "      <th>3</th>\n",
       "      <td>16980</td>\n",
       "      <td>Chicago-Naperville-Elgin, IL-IN-WI</td>\n",
       "      <td>Metropolitan Statistical Area</td>\n",
       "      <td>1</td>\n",
       "      <td>9618502</td>\n",
       "      <td>4739937</td>\n",
       "      <td>4878565</td>\n",
       "      <td>38.1</td>\n",
       "      <td>37.1</td>\n",
       "      <td>39.1</td>\n",
       "      <td>Chicago-Joliet-Naperville, IL-IN-WI</td>\n",
       "      <td>9461105</td>\n",
       "      <td>9098316</td>\n",
       "    </tr>\n",
       "    <tr>\n",
       "      <th>4</th>\n",
       "      <td>17140</td>\n",
       "      <td>Cincinnati, OH-KY-IN</td>\n",
       "      <td>Metropolitan Statistical Area</td>\n",
       "      <td>1</td>\n",
       "      <td>2256884</td>\n",
       "      <td>1114630</td>\n",
       "      <td>1142254</td>\n",
       "      <td>38.1</td>\n",
       "      <td>37.1</td>\n",
       "      <td>39.1</td>\n",
       "      <td>Cincinnati-Middletown, OH-KY-IN</td>\n",
       "      <td>2130151</td>\n",
       "      <td>2009632</td>\n",
       "    </tr>\n",
       "  </tbody>\n",
       "</table>\n",
       "</div>"
      ],
      "text/plain": [
       "    CBSA                          City_Metro_x                           LSAD  \\\n",
       "0  12060  Atlanta-Sandy Springs-Alpharetta, GA  Metropolitan Statistical Area   \n",
       "1  14460        Boston-Cambridge-Newton, MA-NH  Metropolitan Statistical Area   \n",
       "2  15380               Buffalo-Cheektowaga, NY  Metropolitan Statistical Area   \n",
       "3  16980    Chicago-Naperville-Elgin, IL-IN-WI  Metropolitan Statistical Area   \n",
       "4  17140                  Cincinnati, OH-KY-IN  Metropolitan Statistical Area   \n",
       "\n",
       "   Date  Population  Male_Population  Female_Population  Median_Age_Total  \\\n",
       "0     1     6089815          2957470            3132345              36.9   \n",
       "1     1     4941632          2418046            2523586              38.8   \n",
       "2     1     1166902           569707             597195              40.8   \n",
       "3     1     9618502          4739937            4878565              38.1   \n",
       "4     1     2256884          1114630            1142254              38.1   \n",
       "\n",
       "   Median_Age_Male  Median_Age_Female                         City_Metro_y  \\\n",
       "0             35.9               37.9   Atlanta-Sandy Springs-Marietta, GA   \n",
       "1             37.8               39.9       Boston-Cambridge-Quincy, MA-NH   \n",
       "2             39.4               42.3            Buffalo-Niagara Falls, NY   \n",
       "3             37.1               39.1  Chicago-Joliet-Naperville, IL-IN-WI   \n",
       "4             37.1               39.1      Cincinnati-Middletown, OH-KY-IN   \n",
       "\n",
       "   Population_2010  Population_2000  \n",
       "0          5268860          4247981  \n",
       "1          4552402          4391344  \n",
       "2          1135509          1170111  \n",
       "3          9461105          9098316  \n",
       "4          2130151          2009632  "
      ]
     },
     "execution_count": 1220,
     "metadata": {},
     "output_type": "execute_result"
    }
   ],
   "source": [
    "# Merge the two DataFrames.\n",
    "Merged_Data = pd.merge(DF1_MetPop2020, DF2_Metro_Pop2000, on=['CBSA'], how='outer')\n",
    "Merged_Data.head()"
   ]
  },
  {
   "cell_type": "code",
   "execution_count": 1221,
   "metadata": {},
   "outputs": [
    {
     "name": "stdout",
     "output_type": "stream",
     "text": [
      "(30, 13)\n",
      "CBSA                   int64\n",
      "City_Metro_x          object\n",
      "LSAD                  object\n",
      "Date                   int64\n",
      "Population             int64\n",
      "Male_Population        int64\n",
      "Female_Population      int64\n",
      "Median_Age_Total     float64\n",
      "Median_Age_Male      float64\n",
      "Median_Age_Female    float64\n",
      "City_Metro_y          object\n",
      "Population_2010        int64\n",
      "Population_2000        int64\n",
      "dtype: object\n"
     ]
    }
   ],
   "source": [
    "# Visualizing and understanding merged data.\n",
    "Merged_Data_Shape = Merged_Data.shape\n",
    "print(Merged_Data_Shape)\n",
    "Merged_Data_Dtypes = Merged_Data.dtypes\n",
    "print(Merged_Data_Dtypes)"
   ]
  },
  {
   "cell_type": "code",
   "execution_count": 1222,
   "metadata": {},
   "outputs": [
    {
     "data": {
      "text/html": [
       "<div>\n",
       "<style scoped>\n",
       "    .dataframe tbody tr th:only-of-type {\n",
       "        vertical-align: middle;\n",
       "    }\n",
       "\n",
       "    .dataframe tbody tr th {\n",
       "        vertical-align: top;\n",
       "    }\n",
       "\n",
       "    .dataframe thead th {\n",
       "        text-align: right;\n",
       "    }\n",
       "</style>\n",
       "<table border=\"1\" class=\"dataframe\">\n",
       "  <thead>\n",
       "    <tr style=\"text-align: right;\">\n",
       "      <th></th>\n",
       "      <th>CBSA</th>\n",
       "      <th>City_Metro_x</th>\n",
       "      <th>LSAD</th>\n",
       "      <th>Date</th>\n",
       "      <th>Population</th>\n",
       "      <th>Male_Population</th>\n",
       "      <th>Female_Population</th>\n",
       "      <th>Median_Age_Total</th>\n",
       "      <th>Median_Age_Male</th>\n",
       "      <th>Median_Age_Female</th>\n",
       "      <th>City_Metro_y</th>\n",
       "      <th>Population_2010</th>\n",
       "      <th>Population_2000</th>\n",
       "      <th>PopulationDiff</th>\n",
       "    </tr>\n",
       "  </thead>\n",
       "  <tbody>\n",
       "    <tr>\n",
       "      <th>0</th>\n",
       "      <td>12060</td>\n",
       "      <td>Atlanta-Sandy Springs-Alpharetta, GA</td>\n",
       "      <td>Metropolitan Statistical Area</td>\n",
       "      <td>1</td>\n",
       "      <td>6089815</td>\n",
       "      <td>2957470</td>\n",
       "      <td>3132345</td>\n",
       "      <td>36.9</td>\n",
       "      <td>35.9</td>\n",
       "      <td>37.9</td>\n",
       "      <td>Atlanta-Sandy Springs-Marietta, GA</td>\n",
       "      <td>5268860</td>\n",
       "      <td>4247981</td>\n",
       "      <td>1841834</td>\n",
       "    </tr>\n",
       "    <tr>\n",
       "      <th>1</th>\n",
       "      <td>14460</td>\n",
       "      <td>Boston-Cambridge-Newton, MA-NH</td>\n",
       "      <td>Metropolitan Statistical Area</td>\n",
       "      <td>1</td>\n",
       "      <td>4941632</td>\n",
       "      <td>2418046</td>\n",
       "      <td>2523586</td>\n",
       "      <td>38.8</td>\n",
       "      <td>37.8</td>\n",
       "      <td>39.9</td>\n",
       "      <td>Boston-Cambridge-Quincy, MA-NH</td>\n",
       "      <td>4552402</td>\n",
       "      <td>4391344</td>\n",
       "      <td>550288</td>\n",
       "    </tr>\n",
       "    <tr>\n",
       "      <th>2</th>\n",
       "      <td>15380</td>\n",
       "      <td>Buffalo-Cheektowaga, NY</td>\n",
       "      <td>Metropolitan Statistical Area</td>\n",
       "      <td>1</td>\n",
       "      <td>1166902</td>\n",
       "      <td>569707</td>\n",
       "      <td>597195</td>\n",
       "      <td>40.8</td>\n",
       "      <td>39.4</td>\n",
       "      <td>42.3</td>\n",
       "      <td>Buffalo-Niagara Falls, NY</td>\n",
       "      <td>1135509</td>\n",
       "      <td>1170111</td>\n",
       "      <td>-3209</td>\n",
       "    </tr>\n",
       "    <tr>\n",
       "      <th>3</th>\n",
       "      <td>16980</td>\n",
       "      <td>Chicago-Naperville-Elgin, IL-IN-WI</td>\n",
       "      <td>Metropolitan Statistical Area</td>\n",
       "      <td>1</td>\n",
       "      <td>9618502</td>\n",
       "      <td>4739937</td>\n",
       "      <td>4878565</td>\n",
       "      <td>38.1</td>\n",
       "      <td>37.1</td>\n",
       "      <td>39.1</td>\n",
       "      <td>Chicago-Joliet-Naperville, IL-IN-WI</td>\n",
       "      <td>9461105</td>\n",
       "      <td>9098316</td>\n",
       "      <td>520186</td>\n",
       "    </tr>\n",
       "    <tr>\n",
       "      <th>4</th>\n",
       "      <td>17140</td>\n",
       "      <td>Cincinnati, OH-KY-IN</td>\n",
       "      <td>Metropolitan Statistical Area</td>\n",
       "      <td>1</td>\n",
       "      <td>2256884</td>\n",
       "      <td>1114630</td>\n",
       "      <td>1142254</td>\n",
       "      <td>38.1</td>\n",
       "      <td>37.1</td>\n",
       "      <td>39.1</td>\n",
       "      <td>Cincinnati-Middletown, OH-KY-IN</td>\n",
       "      <td>2130151</td>\n",
       "      <td>2009632</td>\n",
       "      <td>247252</td>\n",
       "    </tr>\n",
       "    <tr>\n",
       "      <th>5</th>\n",
       "      <td>19100</td>\n",
       "      <td>Dallas-Fort Worth-Arlington, TX</td>\n",
       "      <td>Metropolitan Statistical Area</td>\n",
       "      <td>1</td>\n",
       "      <td>7637387</td>\n",
       "      <td>3779275</td>\n",
       "      <td>3858112</td>\n",
       "      <td>35.3</td>\n",
       "      <td>34.6</td>\n",
       "      <td>35.9</td>\n",
       "      <td>Dallas-Fort Worth-Arlington, TX</td>\n",
       "      <td>6371773</td>\n",
       "      <td>5161544</td>\n",
       "      <td>2475843</td>\n",
       "    </tr>\n",
       "    <tr>\n",
       "      <th>6</th>\n",
       "      <td>19740</td>\n",
       "      <td>Denver-Aurora-Lakewood, CO</td>\n",
       "      <td>Metropolitan Statistical Area</td>\n",
       "      <td>1</td>\n",
       "      <td>2963821</td>\n",
       "      <td>1492321</td>\n",
       "      <td>1471500</td>\n",
       "      <td>36.9</td>\n",
       "      <td>36.4</td>\n",
       "      <td>37.5</td>\n",
       "      <td>Denver-Aurora-Broomfield, CO</td>\n",
       "      <td>2543482</td>\n",
       "      <td>2179240</td>\n",
       "      <td>784581</td>\n",
       "    </tr>\n",
       "  </tbody>\n",
       "</table>\n",
       "</div>"
      ],
      "text/plain": [
       "    CBSA                          City_Metro_x                           LSAD  \\\n",
       "0  12060  Atlanta-Sandy Springs-Alpharetta, GA  Metropolitan Statistical Area   \n",
       "1  14460        Boston-Cambridge-Newton, MA-NH  Metropolitan Statistical Area   \n",
       "2  15380               Buffalo-Cheektowaga, NY  Metropolitan Statistical Area   \n",
       "3  16980    Chicago-Naperville-Elgin, IL-IN-WI  Metropolitan Statistical Area   \n",
       "4  17140                  Cincinnati, OH-KY-IN  Metropolitan Statistical Area   \n",
       "5  19100       Dallas-Fort Worth-Arlington, TX  Metropolitan Statistical Area   \n",
       "6  19740            Denver-Aurora-Lakewood, CO  Metropolitan Statistical Area   \n",
       "\n",
       "   Date  Population  Male_Population  Female_Population  Median_Age_Total  \\\n",
       "0     1     6089815          2957470            3132345              36.9   \n",
       "1     1     4941632          2418046            2523586              38.8   \n",
       "2     1     1166902           569707             597195              40.8   \n",
       "3     1     9618502          4739937            4878565              38.1   \n",
       "4     1     2256884          1114630            1142254              38.1   \n",
       "5     1     7637387          3779275            3858112              35.3   \n",
       "6     1     2963821          1492321            1471500              36.9   \n",
       "\n",
       "   Median_Age_Male  Median_Age_Female                         City_Metro_y  \\\n",
       "0             35.9               37.9   Atlanta-Sandy Springs-Marietta, GA   \n",
       "1             37.8               39.9       Boston-Cambridge-Quincy, MA-NH   \n",
       "2             39.4               42.3            Buffalo-Niagara Falls, NY   \n",
       "3             37.1               39.1  Chicago-Joliet-Naperville, IL-IN-WI   \n",
       "4             37.1               39.1      Cincinnati-Middletown, OH-KY-IN   \n",
       "5             34.6               35.9      Dallas-Fort Worth-Arlington, TX   \n",
       "6             36.4               37.5         Denver-Aurora-Broomfield, CO   \n",
       "\n",
       "   Population_2010  Population_2000  PopulationDiff  \n",
       "0          5268860          4247981         1841834  \n",
       "1          4552402          4391344          550288  \n",
       "2          1135509          1170111           -3209  \n",
       "3          9461105          9098316          520186  \n",
       "4          2130151          2009632          247252  \n",
       "5          6371773          5161544         2475843  \n",
       "6          2543482          2179240          784581  "
      ]
     },
     "execution_count": 1222,
     "metadata": {},
     "output_type": "execute_result"
    }
   ],
   "source": [
    "# Create a new column using the Merged_Data DataFrame. \n",
    "DifferenceInPop = Merged_Data['PopulationDiff'] = Merged_Data['Population'] - Merged_Data['Population_2000']\n",
    "Merged_Data.head(7) "
   ]
  },
  {
   "cell_type": "code",
   "execution_count": 1223,
   "metadata": {},
   "outputs": [
    {
     "name": "stdout",
     "output_type": "stream",
     "text": [
      "\n",
      " Dallas has the highest population increase over two decades:\n",
      " 2475843 People\n"
     ]
    }
   ],
   "source": [
    "MaxPop_Increase = DifferenceInPop.max()\n",
    "print('\\n Dallas has the highest population increase over two decades:\\n', MaxPop_Increase, 'People')"
   ]
  },
  {
   "cell_type": "code",
   "execution_count": 1224,
   "metadata": {},
   "outputs": [
    {
     "name": "stdout",
     "output_type": "stream",
     "text": [
      "\n",
      " Detroit has the largest decrease in population over two decades:\n",
      " -60516 People\n"
     ]
    }
   ],
   "source": [
    "MinPop_Decrease = DifferenceInPop.min()\n",
    "print('\\n Detroit has the largest decrease in population over two decades:\\n', MinPop_Decrease, 'People')"
   ]
  },
  {
   "cell_type": "code",
   "execution_count": 1225,
   "metadata": {},
   "outputs": [
    {
     "name": "stdout",
     "output_type": "stream",
     "text": [
      "\n",
      " The average population increase over the two decades:\n",
      " 811630.1 People\n"
     ]
    }
   ],
   "source": [
    "MeanPop_Increase = DifferenceInPop.mean()\n",
    "print('\\n The average population increase over the two decades:\\n', MeanPop_Increase, 'People')"
   ]
  },
  {
   "cell_type": "code",
   "execution_count": 1226,
   "metadata": {},
   "outputs": [
    {
     "name": "stdout",
     "output_type": "stream",
     "text": [
      "\n",
      " The population over two dacades has increased by:\n",
      " 24348903 People\n"
     ]
    }
   ],
   "source": [
    "Combined_Pop = DifferenceInPop.sum()\n",
    "print('\\n The population over two dacades has increased by:\\n', Combined_Pop, 'People')"
   ]
  },
  {
   "cell_type": "code",
   "execution_count": 1227,
   "metadata": {},
   "outputs": [
    {
     "data": {
      "text/html": [
       "<div>\n",
       "<style scoped>\n",
       "    .dataframe tbody tr th:only-of-type {\n",
       "        vertical-align: middle;\n",
       "    }\n",
       "\n",
       "    .dataframe tbody tr th {\n",
       "        vertical-align: top;\n",
       "    }\n",
       "\n",
       "    .dataframe thead th {\n",
       "        text-align: right;\n",
       "    }\n",
       "</style>\n",
       "<table border=\"1\" class=\"dataframe\">\n",
       "  <thead>\n",
       "    <tr style=\"text-align: right;\">\n",
       "      <th></th>\n",
       "      <th>CBSA</th>\n",
       "      <th>City_Metro_x</th>\n",
       "      <th>LSAD</th>\n",
       "      <th>Date</th>\n",
       "      <th>Population</th>\n",
       "      <th>Male_Population</th>\n",
       "      <th>Female_Population</th>\n",
       "      <th>Median_Age_Total</th>\n",
       "      <th>Median_Age_Male</th>\n",
       "      <th>Median_Age_Female</th>\n",
       "      <th>City_Metro_y</th>\n",
       "      <th>Population_2010</th>\n",
       "      <th>Population_2000</th>\n",
       "      <th>PopulationDiff</th>\n",
       "    </tr>\n",
       "  </thead>\n",
       "  <tbody>\n",
       "    <tr>\n",
       "      <th>2</th>\n",
       "      <td>15380</td>\n",
       "      <td>Buffalo-Cheektowaga, NY</td>\n",
       "      <td>Metropolitan Statistical Area</td>\n",
       "      <td>1</td>\n",
       "      <td>1166902</td>\n",
       "      <td>569707</td>\n",
       "      <td>597195</td>\n",
       "      <td>40.8</td>\n",
       "      <td>39.4</td>\n",
       "      <td>42.3</td>\n",
       "      <td>Buffalo-Niagara Falls, NY</td>\n",
       "      <td>1135509</td>\n",
       "      <td>1170111</td>\n",
       "      <td>-3209</td>\n",
       "    </tr>\n",
       "    <tr>\n",
       "      <th>7</th>\n",
       "      <td>19820</td>\n",
       "      <td>Detroit-Warren-Dearborn, MI</td>\n",
       "      <td>Metropolitan Statistical Area</td>\n",
       "      <td>1</td>\n",
       "      <td>4392041</td>\n",
       "      <td>2153747</td>\n",
       "      <td>2238294</td>\n",
       "      <td>40.1</td>\n",
       "      <td>38.7</td>\n",
       "      <td>41.4</td>\n",
       "      <td>Detroit-Warren-Livonia, MI</td>\n",
       "      <td>4296250</td>\n",
       "      <td>4452557</td>\n",
       "      <td>-60516</td>\n",
       "    </tr>\n",
       "    <tr>\n",
       "      <th>19</th>\n",
       "      <td>35380</td>\n",
       "      <td>New Orleans-Metairie, LA</td>\n",
       "      <td>Metropolitan Statistical Area</td>\n",
       "      <td>1</td>\n",
       "      <td>1271845</td>\n",
       "      <td>616081</td>\n",
       "      <td>655764</td>\n",
       "      <td>39.0</td>\n",
       "      <td>38.1</td>\n",
       "      <td>39.9</td>\n",
       "      <td>New Orleans-Metairie-Kenner, LA</td>\n",
       "      <td>1167764</td>\n",
       "      <td>1316510</td>\n",
       "      <td>-44665</td>\n",
       "    </tr>\n",
       "  </tbody>\n",
       "</table>\n",
       "</div>"
      ],
      "text/plain": [
       "     CBSA                 City_Metro_x                           LSAD  Date  \\\n",
       "2   15380      Buffalo-Cheektowaga, NY  Metropolitan Statistical Area     1   \n",
       "7   19820  Detroit-Warren-Dearborn, MI  Metropolitan Statistical Area     1   \n",
       "19  35380     New Orleans-Metairie, LA  Metropolitan Statistical Area     1   \n",
       "\n",
       "    Population  Male_Population  Female_Population  Median_Age_Total  \\\n",
       "2      1166902           569707             597195              40.8   \n",
       "7      4392041          2153747            2238294              40.1   \n",
       "19     1271845           616081             655764              39.0   \n",
       "\n",
       "    Median_Age_Male  Median_Age_Female                     City_Metro_y  \\\n",
       "2              39.4               42.3        Buffalo-Niagara Falls, NY   \n",
       "7              38.7               41.4       Detroit-Warren-Livonia, MI   \n",
       "19             38.1               39.9  New Orleans-Metairie-Kenner, LA   \n",
       "\n",
       "    Population_2010  Population_2000  PopulationDiff  \n",
       "2           1135509          1170111           -3209  \n",
       "7           4296250          4452557          -60516  \n",
       "19          1167764          1316510          -44665  "
      ]
     },
     "execution_count": 1227,
     "metadata": {},
     "output_type": "execute_result"
    }
   ],
   "source": [
    "DecreasePop = Merged_Data[Merged_Data['PopulationDiff'] < 0]\n",
    "DecreasePop"
   ]
  },
  {
   "cell_type": "code",
   "execution_count": 1228,
   "metadata": {},
   "outputs": [
    {
     "data": {
      "text/html": [
       "<div>\n",
       "<style scoped>\n",
       "    .dataframe tbody tr th:only-of-type {\n",
       "        vertical-align: middle;\n",
       "    }\n",
       "\n",
       "    .dataframe tbody tr th {\n",
       "        vertical-align: top;\n",
       "    }\n",
       "\n",
       "    .dataframe thead th {\n",
       "        text-align: right;\n",
       "    }\n",
       "</style>\n",
       "<table border=\"1\" class=\"dataframe\">\n",
       "  <thead>\n",
       "    <tr style=\"text-align: right;\">\n",
       "      <th></th>\n",
       "      <th>CBSA</th>\n",
       "      <th>City_Metro_x</th>\n",
       "      <th>LSAD</th>\n",
       "      <th>Date</th>\n",
       "      <th>Population</th>\n",
       "      <th>Male_Population</th>\n",
       "      <th>Female_Population</th>\n",
       "      <th>Median_Age_Total</th>\n",
       "      <th>Median_Age_Male</th>\n",
       "      <th>Median_Age_Female</th>\n",
       "      <th>City_Metro_y</th>\n",
       "      <th>Population_2010</th>\n",
       "      <th>Population_2000</th>\n",
       "      <th>PopulationDiff</th>\n",
       "    </tr>\n",
       "  </thead>\n",
       "  <tbody>\n",
       "    <tr>\n",
       "      <th>0</th>\n",
       "      <td>12060</td>\n",
       "      <td>Atlanta-Sandy Springs-Alpharetta, GA</td>\n",
       "      <td>Metropolitan Statistical Area</td>\n",
       "      <td>1</td>\n",
       "      <td>6089815</td>\n",
       "      <td>2957470</td>\n",
       "      <td>3132345</td>\n",
       "      <td>36.9</td>\n",
       "      <td>35.9</td>\n",
       "      <td>37.9</td>\n",
       "      <td>Atlanta-Sandy Springs-Marietta, GA</td>\n",
       "      <td>5268860</td>\n",
       "      <td>4247981</td>\n",
       "      <td>1841834</td>\n",
       "    </tr>\n",
       "    <tr>\n",
       "      <th>5</th>\n",
       "      <td>19100</td>\n",
       "      <td>Dallas-Fort Worth-Arlington, TX</td>\n",
       "      <td>Metropolitan Statistical Area</td>\n",
       "      <td>1</td>\n",
       "      <td>7637387</td>\n",
       "      <td>3779275</td>\n",
       "      <td>3858112</td>\n",
       "      <td>35.3</td>\n",
       "      <td>34.6</td>\n",
       "      <td>35.9</td>\n",
       "      <td>Dallas-Fort Worth-Arlington, TX</td>\n",
       "      <td>6371773</td>\n",
       "      <td>5161544</td>\n",
       "      <td>2475843</td>\n",
       "    </tr>\n",
       "    <tr>\n",
       "      <th>8</th>\n",
       "      <td>26420</td>\n",
       "      <td>Houston-The Woodlands-Sugar Land, TX</td>\n",
       "      <td>Metropolitan Statistical Area</td>\n",
       "      <td>1</td>\n",
       "      <td>7122240</td>\n",
       "      <td>3548196</td>\n",
       "      <td>3574044</td>\n",
       "      <td>35.0</td>\n",
       "      <td>34.4</td>\n",
       "      <td>35.5</td>\n",
       "      <td>Houston-Sugar Land-Baytown, TX</td>\n",
       "      <td>5946800</td>\n",
       "      <td>4715407</td>\n",
       "      <td>2406833</td>\n",
       "    </tr>\n",
       "    <tr>\n",
       "      <th>15</th>\n",
       "      <td>33100</td>\n",
       "      <td>Miami-Fort Lauderdale-Pompano Beach, FL</td>\n",
       "      <td>Metropolitan Statistical Area</td>\n",
       "      <td>1</td>\n",
       "      <td>6138333</td>\n",
       "      <td>3005123</td>\n",
       "      <td>3133210</td>\n",
       "      <td>41.6</td>\n",
       "      <td>40.3</td>\n",
       "      <td>42.9</td>\n",
       "      <td>Miami-Fort Lauderdale-Pompano Beach, FL</td>\n",
       "      <td>5564635</td>\n",
       "      <td>5007564</td>\n",
       "      <td>1130769</td>\n",
       "    </tr>\n",
       "    <tr>\n",
       "      <th>20</th>\n",
       "      <td>35620</td>\n",
       "      <td>New York-Newark-Jersey City, NY-NJ-PA</td>\n",
       "      <td>Metropolitan Statistical Area</td>\n",
       "      <td>1</td>\n",
       "      <td>20140470</td>\n",
       "      <td>9811780</td>\n",
       "      <td>10328690</td>\n",
       "      <td>39.0</td>\n",
       "      <td>37.8</td>\n",
       "      <td>40.3</td>\n",
       "      <td>New York-Northern New Jersey-Long Island, NY-N...</td>\n",
       "      <td>18897109</td>\n",
       "      <td>18323002</td>\n",
       "      <td>1817468</td>\n",
       "    </tr>\n",
       "    <tr>\n",
       "      <th>21</th>\n",
       "      <td>36740</td>\n",
       "      <td>Orlando-Kissimmee-Sanford, FL</td>\n",
       "      <td>Metropolitan Statistical Area</td>\n",
       "      <td>1</td>\n",
       "      <td>2673376</td>\n",
       "      <td>1314143</td>\n",
       "      <td>1359233</td>\n",
       "      <td>37.9</td>\n",
       "      <td>37.0</td>\n",
       "      <td>38.8</td>\n",
       "      <td>Orlando-Kissimmee-Sanford, FL</td>\n",
       "      <td>2134411</td>\n",
       "      <td>1644561</td>\n",
       "      <td>1028815</td>\n",
       "    </tr>\n",
       "    <tr>\n",
       "      <th>23</th>\n",
       "      <td>38060</td>\n",
       "      <td>Phoenix-Mesa-Chandler, AZ</td>\n",
       "      <td>Metropolitan Statistical Area</td>\n",
       "      <td>1</td>\n",
       "      <td>4845832</td>\n",
       "      <td>2418925</td>\n",
       "      <td>2426907</td>\n",
       "      <td>37.3</td>\n",
       "      <td>36.4</td>\n",
       "      <td>38.3</td>\n",
       "      <td>Phoenix-Mesa-Glendale, AZ</td>\n",
       "      <td>4192887</td>\n",
       "      <td>3251876</td>\n",
       "      <td>1593956</td>\n",
       "    </tr>\n",
       "    <tr>\n",
       "      <th>29</th>\n",
       "      <td>47900</td>\n",
       "      <td>Washington-Arlington-Alexandria, DC-VA-MD-WV</td>\n",
       "      <td>Metropolitan Statistical Area</td>\n",
       "      <td>1</td>\n",
       "      <td>6385162</td>\n",
       "      <td>3141717</td>\n",
       "      <td>3243445</td>\n",
       "      <td>37.6</td>\n",
       "      <td>36.8</td>\n",
       "      <td>38.3</td>\n",
       "      <td>Washington-Arlington-Alexandria, DC-VA-MD-WV</td>\n",
       "      <td>5582170</td>\n",
       "      <td>4796183</td>\n",
       "      <td>1588979</td>\n",
       "    </tr>\n",
       "  </tbody>\n",
       "</table>\n",
       "</div>"
      ],
      "text/plain": [
       "     CBSA                                  City_Metro_x  \\\n",
       "0   12060          Atlanta-Sandy Springs-Alpharetta, GA   \n",
       "5   19100               Dallas-Fort Worth-Arlington, TX   \n",
       "8   26420          Houston-The Woodlands-Sugar Land, TX   \n",
       "15  33100       Miami-Fort Lauderdale-Pompano Beach, FL   \n",
       "20  35620         New York-Newark-Jersey City, NY-NJ-PA   \n",
       "21  36740                 Orlando-Kissimmee-Sanford, FL   \n",
       "23  38060                     Phoenix-Mesa-Chandler, AZ   \n",
       "29  47900  Washington-Arlington-Alexandria, DC-VA-MD-WV   \n",
       "\n",
       "                             LSAD  Date  Population  Male_Population  \\\n",
       "0   Metropolitan Statistical Area     1     6089815          2957470   \n",
       "5   Metropolitan Statistical Area     1     7637387          3779275   \n",
       "8   Metropolitan Statistical Area     1     7122240          3548196   \n",
       "15  Metropolitan Statistical Area     1     6138333          3005123   \n",
       "20  Metropolitan Statistical Area     1    20140470          9811780   \n",
       "21  Metropolitan Statistical Area     1     2673376          1314143   \n",
       "23  Metropolitan Statistical Area     1     4845832          2418925   \n",
       "29  Metropolitan Statistical Area     1     6385162          3141717   \n",
       "\n",
       "    Female_Population  Median_Age_Total  Median_Age_Male  Median_Age_Female  \\\n",
       "0             3132345              36.9             35.9               37.9   \n",
       "5             3858112              35.3             34.6               35.9   \n",
       "8             3574044              35.0             34.4               35.5   \n",
       "15            3133210              41.6             40.3               42.9   \n",
       "20           10328690              39.0             37.8               40.3   \n",
       "21            1359233              37.9             37.0               38.8   \n",
       "23            2426907              37.3             36.4               38.3   \n",
       "29            3243445              37.6             36.8               38.3   \n",
       "\n",
       "                                         City_Metro_y  Population_2010  \\\n",
       "0                  Atlanta-Sandy Springs-Marietta, GA          5268860   \n",
       "5                     Dallas-Fort Worth-Arlington, TX          6371773   \n",
       "8                      Houston-Sugar Land-Baytown, TX          5946800   \n",
       "15            Miami-Fort Lauderdale-Pompano Beach, FL          5564635   \n",
       "20  New York-Northern New Jersey-Long Island, NY-N...         18897109   \n",
       "21                      Orlando-Kissimmee-Sanford, FL          2134411   \n",
       "23                          Phoenix-Mesa-Glendale, AZ          4192887   \n",
       "29       Washington-Arlington-Alexandria, DC-VA-MD-WV          5582170   \n",
       "\n",
       "    Population_2000  PopulationDiff  \n",
       "0           4247981         1841834  \n",
       "5           5161544         2475843  \n",
       "8           4715407         2406833  \n",
       "15          5007564         1130769  \n",
       "20         18323002         1817468  \n",
       "21          1644561         1028815  \n",
       "23          3251876         1593956  \n",
       "29          4796183         1588979  "
      ]
     },
     "execution_count": 1228,
     "metadata": {},
     "output_type": "execute_result"
    }
   ],
   "source": [
    "IncreasePop_1Mil = Merged_Data[Merged_Data['PopulationDiff'] > 1000000]\n",
    "IncreasePop_1Mil"
   ]
  },
  {
   "cell_type": "code",
   "execution_count": 1229,
   "metadata": {},
   "outputs": [
    {
     "data": {
      "text/html": [
       "<div>\n",
       "<style scoped>\n",
       "    .dataframe tbody tr th:only-of-type {\n",
       "        vertical-align: middle;\n",
       "    }\n",
       "\n",
       "    .dataframe tbody tr th {\n",
       "        vertical-align: top;\n",
       "    }\n",
       "\n",
       "    .dataframe thead th {\n",
       "        text-align: right;\n",
       "    }\n",
       "</style>\n",
       "<table border=\"1\" class=\"dataframe\">\n",
       "  <thead>\n",
       "    <tr style=\"text-align: right;\">\n",
       "      <th></th>\n",
       "      <th>CBSA</th>\n",
       "      <th>City_Metro_x</th>\n",
       "      <th>LSAD</th>\n",
       "      <th>Date</th>\n",
       "      <th>Population</th>\n",
       "      <th>Male_Population</th>\n",
       "      <th>Female_Population</th>\n",
       "      <th>Median_Age_Total</th>\n",
       "      <th>Median_Age_Male</th>\n",
       "      <th>Median_Age_Female</th>\n",
       "      <th>City_Metro_y</th>\n",
       "      <th>Population_2010</th>\n",
       "      <th>Population_2000</th>\n",
       "      <th>PopulationDiff</th>\n",
       "    </tr>\n",
       "  </thead>\n",
       "  <tbody>\n",
       "    <tr>\n",
       "      <th>0</th>\n",
       "      <td>12060</td>\n",
       "      <td>Atlanta-Sandy Springs-Alpharetta, GA</td>\n",
       "      <td>Metropolitan Statistical Area</td>\n",
       "      <td>1</td>\n",
       "      <td>6089815</td>\n",
       "      <td>2957470</td>\n",
       "      <td>3132345</td>\n",
       "      <td>36.9</td>\n",
       "      <td>35.9</td>\n",
       "      <td>37.9</td>\n",
       "      <td>Atlanta-Sandy Springs-Marietta, GA</td>\n",
       "      <td>5268860</td>\n",
       "      <td>4247981</td>\n",
       "      <td>1841834</td>\n",
       "    </tr>\n",
       "    <tr>\n",
       "      <th>5</th>\n",
       "      <td>19100</td>\n",
       "      <td>Dallas-Fort Worth-Arlington, TX</td>\n",
       "      <td>Metropolitan Statistical Area</td>\n",
       "      <td>1</td>\n",
       "      <td>7637387</td>\n",
       "      <td>3779275</td>\n",
       "      <td>3858112</td>\n",
       "      <td>35.3</td>\n",
       "      <td>34.6</td>\n",
       "      <td>35.9</td>\n",
       "      <td>Dallas-Fort Worth-Arlington, TX</td>\n",
       "      <td>6371773</td>\n",
       "      <td>5161544</td>\n",
       "      <td>2475843</td>\n",
       "    </tr>\n",
       "    <tr>\n",
       "      <th>8</th>\n",
       "      <td>26420</td>\n",
       "      <td>Houston-The Woodlands-Sugar Land, TX</td>\n",
       "      <td>Metropolitan Statistical Area</td>\n",
       "      <td>1</td>\n",
       "      <td>7122240</td>\n",
       "      <td>3548196</td>\n",
       "      <td>3574044</td>\n",
       "      <td>35.0</td>\n",
       "      <td>34.4</td>\n",
       "      <td>35.5</td>\n",
       "      <td>Houston-Sugar Land-Baytown, TX</td>\n",
       "      <td>5946800</td>\n",
       "      <td>4715407</td>\n",
       "      <td>2406833</td>\n",
       "    </tr>\n",
       "    <tr>\n",
       "      <th>20</th>\n",
       "      <td>35620</td>\n",
       "      <td>New York-Newark-Jersey City, NY-NJ-PA</td>\n",
       "      <td>Metropolitan Statistical Area</td>\n",
       "      <td>1</td>\n",
       "      <td>20140470</td>\n",
       "      <td>9811780</td>\n",
       "      <td>10328690</td>\n",
       "      <td>39.0</td>\n",
       "      <td>37.8</td>\n",
       "      <td>40.3</td>\n",
       "      <td>New York-Northern New Jersey-Long Island, NY-N...</td>\n",
       "      <td>18897109</td>\n",
       "      <td>18323002</td>\n",
       "      <td>1817468</td>\n",
       "    </tr>\n",
       "    <tr>\n",
       "      <th>23</th>\n",
       "      <td>38060</td>\n",
       "      <td>Phoenix-Mesa-Chandler, AZ</td>\n",
       "      <td>Metropolitan Statistical Area</td>\n",
       "      <td>1</td>\n",
       "      <td>4845832</td>\n",
       "      <td>2418925</td>\n",
       "      <td>2426907</td>\n",
       "      <td>37.3</td>\n",
       "      <td>36.4</td>\n",
       "      <td>38.3</td>\n",
       "      <td>Phoenix-Mesa-Glendale, AZ</td>\n",
       "      <td>4192887</td>\n",
       "      <td>3251876</td>\n",
       "      <td>1593956</td>\n",
       "    </tr>\n",
       "    <tr>\n",
       "      <th>29</th>\n",
       "      <td>47900</td>\n",
       "      <td>Washington-Arlington-Alexandria, DC-VA-MD-WV</td>\n",
       "      <td>Metropolitan Statistical Area</td>\n",
       "      <td>1</td>\n",
       "      <td>6385162</td>\n",
       "      <td>3141717</td>\n",
       "      <td>3243445</td>\n",
       "      <td>37.6</td>\n",
       "      <td>36.8</td>\n",
       "      <td>38.3</td>\n",
       "      <td>Washington-Arlington-Alexandria, DC-VA-MD-WV</td>\n",
       "      <td>5582170</td>\n",
       "      <td>4796183</td>\n",
       "      <td>1588979</td>\n",
       "    </tr>\n",
       "  </tbody>\n",
       "</table>\n",
       "</div>"
      ],
      "text/plain": [
       "     CBSA                                  City_Metro_x  \\\n",
       "0   12060          Atlanta-Sandy Springs-Alpharetta, GA   \n",
       "5   19100               Dallas-Fort Worth-Arlington, TX   \n",
       "8   26420          Houston-The Woodlands-Sugar Land, TX   \n",
       "20  35620         New York-Newark-Jersey City, NY-NJ-PA   \n",
       "23  38060                     Phoenix-Mesa-Chandler, AZ   \n",
       "29  47900  Washington-Arlington-Alexandria, DC-VA-MD-WV   \n",
       "\n",
       "                             LSAD  Date  Population  Male_Population  \\\n",
       "0   Metropolitan Statistical Area     1     6089815          2957470   \n",
       "5   Metropolitan Statistical Area     1     7637387          3779275   \n",
       "8   Metropolitan Statistical Area     1     7122240          3548196   \n",
       "20  Metropolitan Statistical Area     1    20140470          9811780   \n",
       "23  Metropolitan Statistical Area     1     4845832          2418925   \n",
       "29  Metropolitan Statistical Area     1     6385162          3141717   \n",
       "\n",
       "    Female_Population  Median_Age_Total  Median_Age_Male  Median_Age_Female  \\\n",
       "0             3132345              36.9             35.9               37.9   \n",
       "5             3858112              35.3             34.6               35.9   \n",
       "8             3574044              35.0             34.4               35.5   \n",
       "20           10328690              39.0             37.8               40.3   \n",
       "23            2426907              37.3             36.4               38.3   \n",
       "29            3243445              37.6             36.8               38.3   \n",
       "\n",
       "                                         City_Metro_y  Population_2010  \\\n",
       "0                  Atlanta-Sandy Springs-Marietta, GA          5268860   \n",
       "5                     Dallas-Fort Worth-Arlington, TX          6371773   \n",
       "8                      Houston-Sugar Land-Baytown, TX          5946800   \n",
       "20  New York-Northern New Jersey-Long Island, NY-N...         18897109   \n",
       "23                          Phoenix-Mesa-Glendale, AZ          4192887   \n",
       "29       Washington-Arlington-Alexandria, DC-VA-MD-WV          5582170   \n",
       "\n",
       "    Population_2000  PopulationDiff  \n",
       "0           4247981         1841834  \n",
       "5           5161544         2475843  \n",
       "8           4715407         2406833  \n",
       "20         18323002         1817468  \n",
       "23          3251876         1593956  \n",
       "29          4796183         1588979  "
      ]
     },
     "execution_count": 1229,
     "metadata": {},
     "output_type": "execute_result"
    }
   ],
   "source": [
    "IncreasePop_Over1Mil = Merged_Data[Merged_Data['PopulationDiff'] > 1500000]\n",
    "IncreasePop_Over1Mil"
   ]
  },
  {
   "cell_type": "code",
   "execution_count": 1230,
   "metadata": {},
   "outputs": [
    {
     "data": {
      "text/html": [
       "<div>\n",
       "<style scoped>\n",
       "    .dataframe tbody tr th:only-of-type {\n",
       "        vertical-align: middle;\n",
       "    }\n",
       "\n",
       "    .dataframe tbody tr th {\n",
       "        vertical-align: top;\n",
       "    }\n",
       "\n",
       "    .dataframe thead th {\n",
       "        text-align: right;\n",
       "    }\n",
       "</style>\n",
       "<table border=\"1\" class=\"dataframe\">\n",
       "  <thead>\n",
       "    <tr style=\"text-align: right;\">\n",
       "      <th></th>\n",
       "      <th>CBSA</th>\n",
       "      <th>City_Metro_x</th>\n",
       "      <th>LSAD</th>\n",
       "      <th>Date</th>\n",
       "      <th>Population</th>\n",
       "      <th>Male_Population</th>\n",
       "      <th>Female_Population</th>\n",
       "      <th>Median_Age_Total</th>\n",
       "      <th>Median_Age_Male</th>\n",
       "      <th>Median_Age_Female</th>\n",
       "      <th>City_Metro_y</th>\n",
       "      <th>Population_2010</th>\n",
       "      <th>Population_2000</th>\n",
       "      <th>PopulationDiff</th>\n",
       "    </tr>\n",
       "  </thead>\n",
       "  <tbody>\n",
       "    <tr>\n",
       "      <th>5</th>\n",
       "      <td>19100</td>\n",
       "      <td>Dallas-Fort Worth-Arlington, TX</td>\n",
       "      <td>Metropolitan Statistical Area</td>\n",
       "      <td>1</td>\n",
       "      <td>7637387</td>\n",
       "      <td>3779275</td>\n",
       "      <td>3858112</td>\n",
       "      <td>35.3</td>\n",
       "      <td>34.6</td>\n",
       "      <td>35.9</td>\n",
       "      <td>Dallas-Fort Worth-Arlington, TX</td>\n",
       "      <td>6371773</td>\n",
       "      <td>5161544</td>\n",
       "      <td>2475843</td>\n",
       "    </tr>\n",
       "    <tr>\n",
       "      <th>8</th>\n",
       "      <td>26420</td>\n",
       "      <td>Houston-The Woodlands-Sugar Land, TX</td>\n",
       "      <td>Metropolitan Statistical Area</td>\n",
       "      <td>1</td>\n",
       "      <td>7122240</td>\n",
       "      <td>3548196</td>\n",
       "      <td>3574044</td>\n",
       "      <td>35.0</td>\n",
       "      <td>34.4</td>\n",
       "      <td>35.5</td>\n",
       "      <td>Houston-Sugar Land-Baytown, TX</td>\n",
       "      <td>5946800</td>\n",
       "      <td>4715407</td>\n",
       "      <td>2406833</td>\n",
       "    </tr>\n",
       "  </tbody>\n",
       "</table>\n",
       "</div>"
      ],
      "text/plain": [
       "    CBSA                          City_Metro_x                           LSAD  \\\n",
       "5  19100       Dallas-Fort Worth-Arlington, TX  Metropolitan Statistical Area   \n",
       "8  26420  Houston-The Woodlands-Sugar Land, TX  Metropolitan Statistical Area   \n",
       "\n",
       "   Date  Population  Male_Population  Female_Population  Median_Age_Total  \\\n",
       "5     1     7637387          3779275            3858112              35.3   \n",
       "8     1     7122240          3548196            3574044              35.0   \n",
       "\n",
       "   Median_Age_Male  Median_Age_Female                     City_Metro_y  \\\n",
       "5             34.6               35.9  Dallas-Fort Worth-Arlington, TX   \n",
       "8             34.4               35.5   Houston-Sugar Land-Baytown, TX   \n",
       "\n",
       "   Population_2010  Population_2000  PopulationDiff  \n",
       "5          6371773          5161544         2475843  \n",
       "8          5946800          4715407         2406833  "
      ]
     },
     "execution_count": 1230,
     "metadata": {},
     "output_type": "execute_result"
    }
   ],
   "source": [
    "IncreasePop_2Mil = Merged_Data[Merged_Data['PopulationDiff'] > 2000000]\n",
    "IncreasePop_2Mil"
   ]
  },
  {
   "cell_type": "code",
   "execution_count": 1231,
   "metadata": {},
   "outputs": [
    {
     "data": {
      "application/vnd.plotly.v1+json": {
       "config": {
        "plotlyServerURL": "https://plot.ly"
       },
       "data": [
        {
         "alignmentgroup": "True",
         "bingroup": "x",
         "histfunc": "sum",
         "hovertemplate": "City_Metro_x=%{x}<br>sum of PopulationDiff=%{y}<extra></extra>",
         "legendgroup": "",
         "marker": {
          "color": "#636efa",
          "pattern": {
           "shape": ""
          }
         },
         "name": "",
         "nbinsx": 7,
         "offsetgroup": "",
         "orientation": "v",
         "showlegend": false,
         "type": "histogram",
         "x": [
          "Atlanta-Sandy Springs-Alpharetta, GA",
          "Boston-Cambridge-Newton, MA-NH",
          "Buffalo-Cheektowaga, NY",
          "Chicago-Naperville-Elgin, IL-IN-WI",
          "Cincinnati, OH-KY-IN",
          "Dallas-Fort Worth-Arlington, TX",
          "Denver-Aurora-Lakewood, CO",
          "Detroit-Warren-Dearborn, MI",
          "Houston-The Woodlands-Sugar Land, TX",
          "Indianapolis-Carmel-Anderson, IN",
          "Kansas City, MO-KS",
          "Las Vegas-Henderson-Paradise, NV",
          "Los Angeles-Long Beach-Anaheim, CA",
          "Louisville/Jefferson County, KY-IN",
          "Memphis, TN-MS-AR",
          "Miami-Fort Lauderdale-Pompano Beach, FL",
          "Milwaukee-Waukesha, WI",
          "Minneapolis-St. Paul-Bloomington, MN-WI",
          "Nashville-Davidson--Murfreesboro--Franklin, TN",
          "New Orleans-Metairie, LA",
          "New York-Newark-Jersey City, NY-NJ-PA",
          "Orlando-Kissimmee-Sanford, FL",
          "Philadelphia-Camden-Wilmington, PA-NJ-DE-MD",
          "Phoenix-Mesa-Chandler, AZ",
          "Portland-Vancouver-Hillsboro, OR-WA",
          "San Antonio-New Braunfels, TX",
          "San Diego-Chula Vista-Carlsbad, CA",
          "San Francisco-Oakland-Berkeley, CA",
          "Seattle-Tacoma-Bellevue, WA",
          "Washington-Arlington-Alexandria, DC-VA-MD-WV"
         ],
         "xaxis": "x",
         "y": [
          1841834,
          550288,
          -3209,
          520186,
          247252,
          2475843,
          784581,
          -60516,
          2406833,
          585936,
          355997,
          889696,
          835371,
          123464,
          132575,
          1130769,
          73990,
          721455,
          677730,
          -44665,
          1817468,
          1028815,
          557904,
          1593956,
          584978,
          846440,
          484801,
          625268,
          974884,
          1588979
         ],
         "yaxis": "y"
        }
       ],
       "layout": {
        "barmode": "relative",
        "legend": {
         "tracegroupgap": 0
        },
        "template": {
         "data": {
          "bar": [
           {
            "error_x": {
             "color": "#2a3f5f"
            },
            "error_y": {
             "color": "#2a3f5f"
            },
            "marker": {
             "line": {
              "color": "#E5ECF6",
              "width": 0.5
             },
             "pattern": {
              "fillmode": "overlay",
              "size": 10,
              "solidity": 0.2
             }
            },
            "type": "bar"
           }
          ],
          "barpolar": [
           {
            "marker": {
             "line": {
              "color": "#E5ECF6",
              "width": 0.5
             },
             "pattern": {
              "fillmode": "overlay",
              "size": 10,
              "solidity": 0.2
             }
            },
            "type": "barpolar"
           }
          ],
          "carpet": [
           {
            "aaxis": {
             "endlinecolor": "#2a3f5f",
             "gridcolor": "white",
             "linecolor": "white",
             "minorgridcolor": "white",
             "startlinecolor": "#2a3f5f"
            },
            "baxis": {
             "endlinecolor": "#2a3f5f",
             "gridcolor": "white",
             "linecolor": "white",
             "minorgridcolor": "white",
             "startlinecolor": "#2a3f5f"
            },
            "type": "carpet"
           }
          ],
          "choropleth": [
           {
            "colorbar": {
             "outlinewidth": 0,
             "ticks": ""
            },
            "type": "choropleth"
           }
          ],
          "contour": [
           {
            "colorbar": {
             "outlinewidth": 0,
             "ticks": ""
            },
            "colorscale": [
             [
              0,
              "#0d0887"
             ],
             [
              0.1111111111111111,
              "#46039f"
             ],
             [
              0.2222222222222222,
              "#7201a8"
             ],
             [
              0.3333333333333333,
              "#9c179e"
             ],
             [
              0.4444444444444444,
              "#bd3786"
             ],
             [
              0.5555555555555556,
              "#d8576b"
             ],
             [
              0.6666666666666666,
              "#ed7953"
             ],
             [
              0.7777777777777778,
              "#fb9f3a"
             ],
             [
              0.8888888888888888,
              "#fdca26"
             ],
             [
              1,
              "#f0f921"
             ]
            ],
            "type": "contour"
           }
          ],
          "contourcarpet": [
           {
            "colorbar": {
             "outlinewidth": 0,
             "ticks": ""
            },
            "type": "contourcarpet"
           }
          ],
          "heatmap": [
           {
            "colorbar": {
             "outlinewidth": 0,
             "ticks": ""
            },
            "colorscale": [
             [
              0,
              "#0d0887"
             ],
             [
              0.1111111111111111,
              "#46039f"
             ],
             [
              0.2222222222222222,
              "#7201a8"
             ],
             [
              0.3333333333333333,
              "#9c179e"
             ],
             [
              0.4444444444444444,
              "#bd3786"
             ],
             [
              0.5555555555555556,
              "#d8576b"
             ],
             [
              0.6666666666666666,
              "#ed7953"
             ],
             [
              0.7777777777777778,
              "#fb9f3a"
             ],
             [
              0.8888888888888888,
              "#fdca26"
             ],
             [
              1,
              "#f0f921"
             ]
            ],
            "type": "heatmap"
           }
          ],
          "heatmapgl": [
           {
            "colorbar": {
             "outlinewidth": 0,
             "ticks": ""
            },
            "colorscale": [
             [
              0,
              "#0d0887"
             ],
             [
              0.1111111111111111,
              "#46039f"
             ],
             [
              0.2222222222222222,
              "#7201a8"
             ],
             [
              0.3333333333333333,
              "#9c179e"
             ],
             [
              0.4444444444444444,
              "#bd3786"
             ],
             [
              0.5555555555555556,
              "#d8576b"
             ],
             [
              0.6666666666666666,
              "#ed7953"
             ],
             [
              0.7777777777777778,
              "#fb9f3a"
             ],
             [
              0.8888888888888888,
              "#fdca26"
             ],
             [
              1,
              "#f0f921"
             ]
            ],
            "type": "heatmapgl"
           }
          ],
          "histogram": [
           {
            "marker": {
             "pattern": {
              "fillmode": "overlay",
              "size": 10,
              "solidity": 0.2
             }
            },
            "type": "histogram"
           }
          ],
          "histogram2d": [
           {
            "colorbar": {
             "outlinewidth": 0,
             "ticks": ""
            },
            "colorscale": [
             [
              0,
              "#0d0887"
             ],
             [
              0.1111111111111111,
              "#46039f"
             ],
             [
              0.2222222222222222,
              "#7201a8"
             ],
             [
              0.3333333333333333,
              "#9c179e"
             ],
             [
              0.4444444444444444,
              "#bd3786"
             ],
             [
              0.5555555555555556,
              "#d8576b"
             ],
             [
              0.6666666666666666,
              "#ed7953"
             ],
             [
              0.7777777777777778,
              "#fb9f3a"
             ],
             [
              0.8888888888888888,
              "#fdca26"
             ],
             [
              1,
              "#f0f921"
             ]
            ],
            "type": "histogram2d"
           }
          ],
          "histogram2dcontour": [
           {
            "colorbar": {
             "outlinewidth": 0,
             "ticks": ""
            },
            "colorscale": [
             [
              0,
              "#0d0887"
             ],
             [
              0.1111111111111111,
              "#46039f"
             ],
             [
              0.2222222222222222,
              "#7201a8"
             ],
             [
              0.3333333333333333,
              "#9c179e"
             ],
             [
              0.4444444444444444,
              "#bd3786"
             ],
             [
              0.5555555555555556,
              "#d8576b"
             ],
             [
              0.6666666666666666,
              "#ed7953"
             ],
             [
              0.7777777777777778,
              "#fb9f3a"
             ],
             [
              0.8888888888888888,
              "#fdca26"
             ],
             [
              1,
              "#f0f921"
             ]
            ],
            "type": "histogram2dcontour"
           }
          ],
          "mesh3d": [
           {
            "colorbar": {
             "outlinewidth": 0,
             "ticks": ""
            },
            "type": "mesh3d"
           }
          ],
          "parcoords": [
           {
            "line": {
             "colorbar": {
              "outlinewidth": 0,
              "ticks": ""
             }
            },
            "type": "parcoords"
           }
          ],
          "pie": [
           {
            "automargin": true,
            "type": "pie"
           }
          ],
          "scatter": [
           {
            "fillpattern": {
             "fillmode": "overlay",
             "size": 10,
             "solidity": 0.2
            },
            "type": "scatter"
           }
          ],
          "scatter3d": [
           {
            "line": {
             "colorbar": {
              "outlinewidth": 0,
              "ticks": ""
             }
            },
            "marker": {
             "colorbar": {
              "outlinewidth": 0,
              "ticks": ""
             }
            },
            "type": "scatter3d"
           }
          ],
          "scattercarpet": [
           {
            "marker": {
             "colorbar": {
              "outlinewidth": 0,
              "ticks": ""
             }
            },
            "type": "scattercarpet"
           }
          ],
          "scattergeo": [
           {
            "marker": {
             "colorbar": {
              "outlinewidth": 0,
              "ticks": ""
             }
            },
            "type": "scattergeo"
           }
          ],
          "scattergl": [
           {
            "marker": {
             "colorbar": {
              "outlinewidth": 0,
              "ticks": ""
             }
            },
            "type": "scattergl"
           }
          ],
          "scattermapbox": [
           {
            "marker": {
             "colorbar": {
              "outlinewidth": 0,
              "ticks": ""
             }
            },
            "type": "scattermapbox"
           }
          ],
          "scatterpolar": [
           {
            "marker": {
             "colorbar": {
              "outlinewidth": 0,
              "ticks": ""
             }
            },
            "type": "scatterpolar"
           }
          ],
          "scatterpolargl": [
           {
            "marker": {
             "colorbar": {
              "outlinewidth": 0,
              "ticks": ""
             }
            },
            "type": "scatterpolargl"
           }
          ],
          "scatterternary": [
           {
            "marker": {
             "colorbar": {
              "outlinewidth": 0,
              "ticks": ""
             }
            },
            "type": "scatterternary"
           }
          ],
          "surface": [
           {
            "colorbar": {
             "outlinewidth": 0,
             "ticks": ""
            },
            "colorscale": [
             [
              0,
              "#0d0887"
             ],
             [
              0.1111111111111111,
              "#46039f"
             ],
             [
              0.2222222222222222,
              "#7201a8"
             ],
             [
              0.3333333333333333,
              "#9c179e"
             ],
             [
              0.4444444444444444,
              "#bd3786"
             ],
             [
              0.5555555555555556,
              "#d8576b"
             ],
             [
              0.6666666666666666,
              "#ed7953"
             ],
             [
              0.7777777777777778,
              "#fb9f3a"
             ],
             [
              0.8888888888888888,
              "#fdca26"
             ],
             [
              1,
              "#f0f921"
             ]
            ],
            "type": "surface"
           }
          ],
          "table": [
           {
            "cells": {
             "fill": {
              "color": "#EBF0F8"
             },
             "line": {
              "color": "white"
             }
            },
            "header": {
             "fill": {
              "color": "#C8D4E3"
             },
             "line": {
              "color": "white"
             }
            },
            "type": "table"
           }
          ]
         },
         "layout": {
          "annotationdefaults": {
           "arrowcolor": "#2a3f5f",
           "arrowhead": 0,
           "arrowwidth": 1
          },
          "autotypenumbers": "strict",
          "coloraxis": {
           "colorbar": {
            "outlinewidth": 0,
            "ticks": ""
           }
          },
          "colorscale": {
           "diverging": [
            [
             0,
             "#8e0152"
            ],
            [
             0.1,
             "#c51b7d"
            ],
            [
             0.2,
             "#de77ae"
            ],
            [
             0.3,
             "#f1b6da"
            ],
            [
             0.4,
             "#fde0ef"
            ],
            [
             0.5,
             "#f7f7f7"
            ],
            [
             0.6,
             "#e6f5d0"
            ],
            [
             0.7,
             "#b8e186"
            ],
            [
             0.8,
             "#7fbc41"
            ],
            [
             0.9,
             "#4d9221"
            ],
            [
             1,
             "#276419"
            ]
           ],
           "sequential": [
            [
             0,
             "#0d0887"
            ],
            [
             0.1111111111111111,
             "#46039f"
            ],
            [
             0.2222222222222222,
             "#7201a8"
            ],
            [
             0.3333333333333333,
             "#9c179e"
            ],
            [
             0.4444444444444444,
             "#bd3786"
            ],
            [
             0.5555555555555556,
             "#d8576b"
            ],
            [
             0.6666666666666666,
             "#ed7953"
            ],
            [
             0.7777777777777778,
             "#fb9f3a"
            ],
            [
             0.8888888888888888,
             "#fdca26"
            ],
            [
             1,
             "#f0f921"
            ]
           ],
           "sequentialminus": [
            [
             0,
             "#0d0887"
            ],
            [
             0.1111111111111111,
             "#46039f"
            ],
            [
             0.2222222222222222,
             "#7201a8"
            ],
            [
             0.3333333333333333,
             "#9c179e"
            ],
            [
             0.4444444444444444,
             "#bd3786"
            ],
            [
             0.5555555555555556,
             "#d8576b"
            ],
            [
             0.6666666666666666,
             "#ed7953"
            ],
            [
             0.7777777777777778,
             "#fb9f3a"
            ],
            [
             0.8888888888888888,
             "#fdca26"
            ],
            [
             1,
             "#f0f921"
            ]
           ]
          },
          "colorway": [
           "#636efa",
           "#EF553B",
           "#00cc96",
           "#ab63fa",
           "#FFA15A",
           "#19d3f3",
           "#FF6692",
           "#B6E880",
           "#FF97FF",
           "#FECB52"
          ],
          "font": {
           "color": "#2a3f5f"
          },
          "geo": {
           "bgcolor": "white",
           "lakecolor": "white",
           "landcolor": "#E5ECF6",
           "showlakes": true,
           "showland": true,
           "subunitcolor": "white"
          },
          "hoverlabel": {
           "align": "left"
          },
          "hovermode": "closest",
          "mapbox": {
           "style": "light"
          },
          "paper_bgcolor": "white",
          "plot_bgcolor": "#E5ECF6",
          "polar": {
           "angularaxis": {
            "gridcolor": "white",
            "linecolor": "white",
            "ticks": ""
           },
           "bgcolor": "#E5ECF6",
           "radialaxis": {
            "gridcolor": "white",
            "linecolor": "white",
            "ticks": ""
           }
          },
          "scene": {
           "xaxis": {
            "backgroundcolor": "#E5ECF6",
            "gridcolor": "white",
            "gridwidth": 2,
            "linecolor": "white",
            "showbackground": true,
            "ticks": "",
            "zerolinecolor": "white"
           },
           "yaxis": {
            "backgroundcolor": "#E5ECF6",
            "gridcolor": "white",
            "gridwidth": 2,
            "linecolor": "white",
            "showbackground": true,
            "ticks": "",
            "zerolinecolor": "white"
           },
           "zaxis": {
            "backgroundcolor": "#E5ECF6",
            "gridcolor": "white",
            "gridwidth": 2,
            "linecolor": "white",
            "showbackground": true,
            "ticks": "",
            "zerolinecolor": "white"
           }
          },
          "shapedefaults": {
           "line": {
            "color": "#2a3f5f"
           }
          },
          "ternary": {
           "aaxis": {
            "gridcolor": "white",
            "linecolor": "white",
            "ticks": ""
           },
           "baxis": {
            "gridcolor": "white",
            "linecolor": "white",
            "ticks": ""
           },
           "bgcolor": "#E5ECF6",
           "caxis": {
            "gridcolor": "white",
            "linecolor": "white",
            "ticks": ""
           }
          },
          "title": {
           "x": 0.05
          },
          "xaxis": {
           "automargin": true,
           "gridcolor": "white",
           "linecolor": "white",
           "ticks": "",
           "title": {
            "standoff": 15
           },
           "zerolinecolor": "white",
           "zerolinewidth": 2
          },
          "yaxis": {
           "automargin": true,
           "gridcolor": "white",
           "linecolor": "white",
           "ticks": "",
           "title": {
            "standoff": 15
           },
           "zerolinecolor": "white",
           "zerolinewidth": 2
          }
         }
        },
        "title": {
         "text": "Metro Population Change"
        },
        "xaxis": {
         "anchor": "y",
         "domain": [
          0,
          1
         ],
         "title": {
          "text": "City_Metro_x"
         }
        },
        "yaxis": {
         "anchor": "x",
         "domain": [
          0,
          1
         ],
         "title": {
          "text": "sum of PopulationDiff"
         }
        }
       }
      }
     },
     "metadata": {},
     "output_type": "display_data"
    }
   ],
   "source": [
    "px.histogram(Merged_Data, x='City_Metro_x', y='PopulationDiff', nbins= 7, title='Metro Population Change')"
   ]
  },
  {
   "cell_type": "code",
   "execution_count": 1232,
   "metadata": {},
   "outputs": [],
   "source": [
    "#PercentChng = Merged_Data['PopulationDiff'].pct_change() \n",
    "#PercentChng"
   ]
  },
  {
   "cell_type": "code",
   "execution_count": 1233,
   "metadata": {},
   "outputs": [
    {
     "data": {
      "text/html": [
       "<div>\n",
       "<style scoped>\n",
       "    .dataframe tbody tr th:only-of-type {\n",
       "        vertical-align: middle;\n",
       "    }\n",
       "\n",
       "    .dataframe tbody tr th {\n",
       "        vertical-align: top;\n",
       "    }\n",
       "\n",
       "    .dataframe thead th {\n",
       "        text-align: right;\n",
       "    }\n",
       "</style>\n",
       "<table border=\"1\" class=\"dataframe\">\n",
       "  <thead>\n",
       "    <tr style=\"text-align: right;\">\n",
       "      <th></th>\n",
       "      <th>City_Metro_x</th>\n",
       "      <th>PopulationDiff</th>\n",
       "    </tr>\n",
       "  </thead>\n",
       "  <tbody>\n",
       "    <tr>\n",
       "      <th>5</th>\n",
       "      <td>Dallas-Fort Worth-Arlington, TX</td>\n",
       "      <td>2475843</td>\n",
       "    </tr>\n",
       "    <tr>\n",
       "      <th>8</th>\n",
       "      <td>Houston-The Woodlands-Sugar Land, TX</td>\n",
       "      <td>2406833</td>\n",
       "    </tr>\n",
       "    <tr>\n",
       "      <th>0</th>\n",
       "      <td>Atlanta-Sandy Springs-Alpharetta, GA</td>\n",
       "      <td>1841834</td>\n",
       "    </tr>\n",
       "    <tr>\n",
       "      <th>20</th>\n",
       "      <td>New York-Newark-Jersey City, NY-NJ-PA</td>\n",
       "      <td>1817468</td>\n",
       "    </tr>\n",
       "    <tr>\n",
       "      <th>23</th>\n",
       "      <td>Phoenix-Mesa-Chandler, AZ</td>\n",
       "      <td>1593956</td>\n",
       "    </tr>\n",
       "    <tr>\n",
       "      <th>29</th>\n",
       "      <td>Washington-Arlington-Alexandria, DC-VA-MD-WV</td>\n",
       "      <td>1588979</td>\n",
       "    </tr>\n",
       "    <tr>\n",
       "      <th>15</th>\n",
       "      <td>Miami-Fort Lauderdale-Pompano Beach, FL</td>\n",
       "      <td>1130769</td>\n",
       "    </tr>\n",
       "    <tr>\n",
       "      <th>21</th>\n",
       "      <td>Orlando-Kissimmee-Sanford, FL</td>\n",
       "      <td>1028815</td>\n",
       "    </tr>\n",
       "    <tr>\n",
       "      <th>28</th>\n",
       "      <td>Seattle-Tacoma-Bellevue, WA</td>\n",
       "      <td>974884</td>\n",
       "    </tr>\n",
       "    <tr>\n",
       "      <th>11</th>\n",
       "      <td>Las Vegas-Henderson-Paradise, NV</td>\n",
       "      <td>889696</td>\n",
       "    </tr>\n",
       "    <tr>\n",
       "      <th>25</th>\n",
       "      <td>San Antonio-New Braunfels, TX</td>\n",
       "      <td>846440</td>\n",
       "    </tr>\n",
       "    <tr>\n",
       "      <th>12</th>\n",
       "      <td>Los Angeles-Long Beach-Anaheim, CA</td>\n",
       "      <td>835371</td>\n",
       "    </tr>\n",
       "    <tr>\n",
       "      <th>6</th>\n",
       "      <td>Denver-Aurora-Lakewood, CO</td>\n",
       "      <td>784581</td>\n",
       "    </tr>\n",
       "    <tr>\n",
       "      <th>17</th>\n",
       "      <td>Minneapolis-St. Paul-Bloomington, MN-WI</td>\n",
       "      <td>721455</td>\n",
       "    </tr>\n",
       "    <tr>\n",
       "      <th>18</th>\n",
       "      <td>Nashville-Davidson--Murfreesboro--Franklin, TN</td>\n",
       "      <td>677730</td>\n",
       "    </tr>\n",
       "    <tr>\n",
       "      <th>27</th>\n",
       "      <td>San Francisco-Oakland-Berkeley, CA</td>\n",
       "      <td>625268</td>\n",
       "    </tr>\n",
       "    <tr>\n",
       "      <th>9</th>\n",
       "      <td>Indianapolis-Carmel-Anderson, IN</td>\n",
       "      <td>585936</td>\n",
       "    </tr>\n",
       "    <tr>\n",
       "      <th>24</th>\n",
       "      <td>Portland-Vancouver-Hillsboro, OR-WA</td>\n",
       "      <td>584978</td>\n",
       "    </tr>\n",
       "    <tr>\n",
       "      <th>22</th>\n",
       "      <td>Philadelphia-Camden-Wilmington, PA-NJ-DE-MD</td>\n",
       "      <td>557904</td>\n",
       "    </tr>\n",
       "    <tr>\n",
       "      <th>1</th>\n",
       "      <td>Boston-Cambridge-Newton, MA-NH</td>\n",
       "      <td>550288</td>\n",
       "    </tr>\n",
       "    <tr>\n",
       "      <th>3</th>\n",
       "      <td>Chicago-Naperville-Elgin, IL-IN-WI</td>\n",
       "      <td>520186</td>\n",
       "    </tr>\n",
       "    <tr>\n",
       "      <th>26</th>\n",
       "      <td>San Diego-Chula Vista-Carlsbad, CA</td>\n",
       "      <td>484801</td>\n",
       "    </tr>\n",
       "    <tr>\n",
       "      <th>10</th>\n",
       "      <td>Kansas City, MO-KS</td>\n",
       "      <td>355997</td>\n",
       "    </tr>\n",
       "    <tr>\n",
       "      <th>4</th>\n",
       "      <td>Cincinnati, OH-KY-IN</td>\n",
       "      <td>247252</td>\n",
       "    </tr>\n",
       "    <tr>\n",
       "      <th>14</th>\n",
       "      <td>Memphis, TN-MS-AR</td>\n",
       "      <td>132575</td>\n",
       "    </tr>\n",
       "    <tr>\n",
       "      <th>13</th>\n",
       "      <td>Louisville/Jefferson County, KY-IN</td>\n",
       "      <td>123464</td>\n",
       "    </tr>\n",
       "    <tr>\n",
       "      <th>16</th>\n",
       "      <td>Milwaukee-Waukesha, WI</td>\n",
       "      <td>73990</td>\n",
       "    </tr>\n",
       "    <tr>\n",
       "      <th>2</th>\n",
       "      <td>Buffalo-Cheektowaga, NY</td>\n",
       "      <td>-3209</td>\n",
       "    </tr>\n",
       "    <tr>\n",
       "      <th>19</th>\n",
       "      <td>New Orleans-Metairie, LA</td>\n",
       "      <td>-44665</td>\n",
       "    </tr>\n",
       "    <tr>\n",
       "      <th>7</th>\n",
       "      <td>Detroit-Warren-Dearborn, MI</td>\n",
       "      <td>-60516</td>\n",
       "    </tr>\n",
       "  </tbody>\n",
       "</table>\n",
       "</div>"
      ],
      "text/plain": [
       "                                      City_Metro_x  PopulationDiff\n",
       "5                  Dallas-Fort Worth-Arlington, TX         2475843\n",
       "8             Houston-The Woodlands-Sugar Land, TX         2406833\n",
       "0             Atlanta-Sandy Springs-Alpharetta, GA         1841834\n",
       "20           New York-Newark-Jersey City, NY-NJ-PA         1817468\n",
       "23                       Phoenix-Mesa-Chandler, AZ         1593956\n",
       "29    Washington-Arlington-Alexandria, DC-VA-MD-WV         1588979\n",
       "15         Miami-Fort Lauderdale-Pompano Beach, FL         1130769\n",
       "21                   Orlando-Kissimmee-Sanford, FL         1028815\n",
       "28                     Seattle-Tacoma-Bellevue, WA          974884\n",
       "11                Las Vegas-Henderson-Paradise, NV          889696\n",
       "25                   San Antonio-New Braunfels, TX          846440\n",
       "12              Los Angeles-Long Beach-Anaheim, CA          835371\n",
       "6                       Denver-Aurora-Lakewood, CO          784581\n",
       "17         Minneapolis-St. Paul-Bloomington, MN-WI          721455\n",
       "18  Nashville-Davidson--Murfreesboro--Franklin, TN          677730\n",
       "27              San Francisco-Oakland-Berkeley, CA          625268\n",
       "9                 Indianapolis-Carmel-Anderson, IN          585936\n",
       "24             Portland-Vancouver-Hillsboro, OR-WA          584978\n",
       "22     Philadelphia-Camden-Wilmington, PA-NJ-DE-MD          557904\n",
       "1                   Boston-Cambridge-Newton, MA-NH          550288\n",
       "3               Chicago-Naperville-Elgin, IL-IN-WI          520186\n",
       "26              San Diego-Chula Vista-Carlsbad, CA          484801\n",
       "10                              Kansas City, MO-KS          355997\n",
       "4                             Cincinnati, OH-KY-IN          247252\n",
       "14                               Memphis, TN-MS-AR          132575\n",
       "13              Louisville/Jefferson County, KY-IN          123464\n",
       "16                          Milwaukee-Waukesha, WI           73990\n",
       "2                          Buffalo-Cheektowaga, NY           -3209\n",
       "19                        New Orleans-Metairie, LA          -44665\n",
       "7                      Detroit-Warren-Dearborn, MI          -60516"
      ]
     },
     "execution_count": 1233,
     "metadata": {},
     "output_type": "execute_result"
    }
   ],
   "source": [
    "# Use 'sort_values' function to show population increase or decrease over two decades.\n",
    "Sort_PopDiff = Merged_Data[['City_Metro_x', 'PopulationDiff']].sort_values(by='PopulationDiff', ascending=False)\n",
    "Sort_PopDiff"
   ]
  }
 ],
 "metadata": {
  "kernelspec": {
   "display_name": "Python 3",
   "language": "python",
   "name": "python3"
  },
  "language_info": {
   "codemirror_mode": {
    "name": "ipython",
    "version": 3
   },
   "file_extension": ".py",
   "mimetype": "text/x-python",
   "name": "python",
   "nbconvert_exporter": "python",
   "pygments_lexer": "ipython3",
   "version": "3.11.0"
  },
  "orig_nbformat": 4,
  "vscode": {
   "interpreter": {
    "hash": "aee8b7b246df8f9039afb4144a1f6fd8d2ca17a180786b69acc140d282b71a49"
   }
  }
 },
 "nbformat": 4,
 "nbformat_minor": 2
}
